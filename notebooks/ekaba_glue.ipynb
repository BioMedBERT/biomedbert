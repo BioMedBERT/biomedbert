{
 "cells": [
  {
   "cell_type": "markdown",
   "metadata": {
    "colab_type": "text",
    "id": "E08w9hc0TAbI"
   },
   "source": [
    "# BioMedBERT GLUE"
   ]
  },
  {
   "cell_type": "code",
   "execution_count": 48,
   "metadata": {},
   "outputs": [
    {
     "name": "stdout",
     "output_type": "stream",
     "text": [
      "gs://ekaba-assets/bert_model_sat_18th_april\n",
      "glue_data\n"
     ]
    }
   ],
   "source": [
    "%%bash\n",
    "export BERT_BASE_DIR=gs://ekaba-assets/bert_model_sat_18th_april\n",
    "export GLUE_DIR=glue_data\n",
    "export CONFIG_FILE=bert_model_sat_18th_april/bert_config.json\n",
    "\n",
    "echo $BERT_BASE_DIR\n",
    "echo $GLUE_DIR"
   ]
  },
  {
   "cell_type": "code",
   "execution_count": 38,
   "metadata": {},
   "outputs": [],
   "source": [
    "# !export BERT_BASE_DIR=gs://ekaba-assets/bert_model_sat_18th_april"
   ]
  },
  {
   "cell_type": "code",
   "execution_count": 39,
   "metadata": {},
   "outputs": [],
   "source": [
    "# !export GLUE_DIR=glue_data"
   ]
  },
  {
   "cell_type": "code",
   "execution_count": 40,
   "metadata": {},
   "outputs": [],
   "source": [
    "# !export CONFIG_FILE=bert_model_sat_18th_april/bert_config.json"
   ]
  },
  {
   "cell_type": "code",
   "execution_count": 2,
   "metadata": {},
   "outputs": [],
   "source": [
    "python3 bert/run_classifier.py   \n",
    "--task_name=MRPC   \n",
    "--do_train=true   \n",
    "--do_eval=true   \n",
    "--data_dir=glue_data/MRPC   \n",
    "--vocab_file=$BERT_BASE_DIR/biomedbert-8M.txt   \n",
    "--bert_config_file=$BERT_BASE_DIR/bert_config.json   \n",
    "--init_checkpoint=$BERT_BASE_DIR/model.ckpt-1000000   \n",
    "--max_seq_length=128   \n",
    "--train_batch_size=32   \n",
    "--learning_rate=2e-5   \n",
    "--num_train_epochs=3.0   \n",
    "--output_dir=$BERT_BASE_DIR/mrpc_output"
   ]
  },
  {
   "cell_type": "code",
   "execution_count": 49,
   "metadata": {},
   "outputs": [],
   "source": [
    "XARGS_CMD = (\"python3 bert/run_classifier.py \"\n",
    "             \"--task_name=MRPC \"\n",
    "             \"--do_train=true \"\n",
    "             \"--do_eval=true \"\n",
    "             \"--data_dir=$GLUE_DIR/MRPC \"\n",
    "             \"--vocab_file=$BERT_BASE_DIR/biomedbert-8M.txt \"\n",
    "             \"--bert_config_file=$CONFIG_FILE \"\n",
    "             \"--init_checkpoint=$BERT_BASE_DIR/model.ckpt-1000000 \"\n",
    "             \"--max_seq_length=128 \"\n",
    "             \"--train_batch_size=32 \"\n",
    "             \"--learning_rate=2e-5 \"\n",
    "             \"--num_train_epochs=3.0 \"\n",
    "             \"--output_dir=$BERT_BASE_DIR/mrpc_output \")"
   ]
  },
  {
   "cell_type": "code",
   "execution_count": 50,
   "metadata": {},
   "outputs": [
    {
     "name": "stdout",
     "output_type": "stream",
     "text": [
      "WARNING:tensorflow:From bert/run_classifier.py:997: The name tf.app.run is deprecated. Please use tf.compat.v1.app.run instead.\n",
      "\n",
      "WARNING:tensorflow:From bert/run_classifier.py:800: The name tf.logging.set_verbosity is deprecated. Please use tf.compat.v1.logging.set_verbosity instead.\n",
      "\n",
      "W0423 17:44:42.769840 140696188966656 module_wrapper.py:139] From bert/run_classifier.py:800: The name tf.logging.set_verbosity is deprecated. Please use tf.compat.v1.logging.set_verbosity instead.\n",
      "\n",
      "WARNING:tensorflow:From bert/run_classifier.py:800: The name tf.logging.INFO is deprecated. Please use tf.compat.v1.logging.INFO instead.\n",
      "\n",
      "W0423 17:44:42.770052 140696188966656 module_wrapper.py:139] From bert/run_classifier.py:800: The name tf.logging.INFO is deprecated. Please use tf.compat.v1.logging.INFO instead.\n",
      "\n",
      "Traceback (most recent call last):\n",
      "  File \"bert/run_classifier.py\", line 997, in <module>\n",
      "    tf.app.run()\n",
      "  File \"/home/jupyter/.local/lib/python3.5/site-packages/tensorflow_core/python/platform/app.py\", line 40, in run\n",
      "    _run(main=main, argv=argv, flags_parser=_parse_flags_tolerate_undef)\n",
      "  File \"/usr/local/lib/python3.5/dist-packages/absl/app.py\", line 299, in run\n",
      "    _run_main(main, args)\n",
      "  File \"/usr/local/lib/python3.5/dist-packages/absl/app.py\", line 250, in _run_main\n",
      "    sys.exit(main(argv))\n",
      "  File \"bert/run_classifier.py\", line 816, in main\n",
      "    bert_config = modeling.BertConfig.from_json_file(FLAGS.bert_config_file)\n",
      "  File \"/home/jupyter/BioMedBERT/notebooks/bert/modeling.py\", line 95, in from_json_file\n",
      "    text = reader.read()\n",
      "  File \"/home/jupyter/.local/lib/python3.5/site-packages/tensorflow_core/python/lib/io/file_io.py\", line 122, in read\n",
      "    self._preread_check()\n",
      "  File \"/home/jupyter/.local/lib/python3.5/site-packages/tensorflow_core/python/lib/io/file_io.py\", line 84, in _preread_check\n",
      "    compat.as_bytes(self.__name), 1024 * 512)\n",
      "tensorflow.python.framework.errors_impl.NotFoundError: ; No such file or directory\n"
     ]
    }
   ],
   "source": [
    "!$XARGS_CMD"
   ]
  },
  {
   "cell_type": "code",
   "execution_count": null,
   "metadata": {},
   "outputs": [],
   "source": []
  }
 ],
 "metadata": {
  "colab": {
   "collapsed_sections": [],
   "machine_shape": "hm",
   "name": "BioMedBERT-Data-Analysis.ipynb",
   "provenance": []
  },
  "kernelspec": {
   "display_name": "Python 3",
   "language": "python",
   "name": "python3"
  },
  "language_info": {
   "codemirror_mode": {
    "name": "ipython",
    "version": 3
   },
   "file_extension": ".py",
   "mimetype": "text/x-python",
   "name": "python",
   "nbconvert_exporter": "python",
   "pygments_lexer": "ipython3",
   "version": "3.5.3"
  }
 },
 "nbformat": 4,
 "nbformat_minor": 4
}
