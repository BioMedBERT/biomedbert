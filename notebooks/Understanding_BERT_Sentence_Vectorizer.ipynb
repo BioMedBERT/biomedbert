{
 "cells": [
  {
   "cell_type": "markdown",
   "metadata": {
    "colab_type": "text",
    "id": "6kcqzP5qGpYu"
   },
   "source": [
    "# Understanding BERT Sentence Vectorizer\n",
    "\n",
    "Following what's described here:\n",
    "https://github.com/google-research/bert#using-bert-to-extract-fixed-feature-vectors-like-elmo\n",
    "\n"
   ]
  },
  {
   "cell_type": "markdown",
   "metadata": {
    "colab_type": "text",
    "id": "3Yp7zCTNGuql"
   },
   "source": [
    "## Input Text"
   ]
  },
  {
   "cell_type": "code",
   "execution_count": 2,
   "metadata": {},
   "outputs": [
    {
     "name": "stdout",
     "output_type": "stream",
     "text": [
      "This is the first sentence\n",
      "This is the second sentence\n",
      "This is the third sentence\n",
      "This is not the third sentence\n",
      "The sky is blue this morning\n"
     ]
    }
   ],
   "source": [
    "with open('./input_fra.txt') as fin:\n",
    "    inp = fin.read()\n",
    "    print(inp)"
   ]
  },
  {
   "cell_type": "code",
   "execution_count": 3,
   "metadata": {
    "colab": {},
    "colab_type": "code",
    "id": "52j50EFvGuww"
   },
   "outputs": [],
   "source": [
    "with open('./output_fra.jsonl') as fin:\n",
    "    output_jsonl = fin.read()"
   ]
  },
  {
   "cell_type": "code",
   "execution_count": 4,
   "metadata": {
    "colab": {},
    "colab_type": "code",
    "id": "mUgOwdlTGuzz"
   },
   "outputs": [],
   "source": [
    "import json"
   ]
  },
  {
   "cell_type": "code",
   "execution_count": 5,
   "metadata": {
    "colab": {},
    "colab_type": "code",
    "id": "vj8K6xNTGu2t"
   },
   "outputs": [],
   "source": [
    "json_lines = output_jsonl.split('\\n')"
   ]
  },
  {
   "cell_type": "code",
   "execution_count": 6,
   "metadata": {
    "colab": {},
    "colab_type": "code",
    "id": "s7UfP7HQGu5u"
   },
   "outputs": [],
   "source": [
    "line = json.loads(json_lines[0])"
   ]
  },
  {
   "cell_type": "code",
   "execution_count": 7,
   "metadata": {
    "colab": {
     "base_uri": "https://localhost:8080/",
     "height": 34
    },
    "colab_type": "code",
    "id": "QhM9m-W3Gu8Z",
    "outputId": "1fdc5a02-110f-469e-e522-75b6ce3e4b2e"
   },
   "outputs": [
    {
     "data": {
      "text/plain": [
       "dict_keys(['linex_index', 'features'])"
      ]
     },
     "execution_count": 7,
     "metadata": {},
     "output_type": "execute_result"
    }
   ],
   "source": [
    "line.keys()"
   ]
  },
  {
   "cell_type": "code",
   "execution_count": 8,
   "metadata": {
    "colab": {
     "base_uri": "https://localhost:8080/",
     "height": 34
    },
    "colab_type": "code",
    "id": "7pAOK7RQI0O0",
    "outputId": "51fe99ca-9bbf-45e2-fda6-6c05d370e3a3"
   },
   "outputs": [
    {
     "data": {
      "text/plain": [
       "dict_keys(['token', 'layers'])"
      ]
     },
     "execution_count": 8,
     "metadata": {},
     "output_type": "execute_result"
    }
   ],
   "source": [
    "line['features'][0].keys()"
   ]
  },
  {
   "cell_type": "code",
   "execution_count": 9,
   "metadata": {
    "colab": {
     "base_uri": "https://localhost:8080/",
     "height": 139
    },
    "colab_type": "code",
    "id": "dxgAyNIEI0MJ",
    "outputId": "74f5a142-e564-4495-9fae-ce14c67550a5"
   },
   "outputs": [
    {
     "name": "stdout",
     "output_type": "stream",
     "text": [
      "[CLS]\n",
      "this\n",
      "is\n",
      "the\n",
      "first\n",
      "sentence\n",
      "[SEP]\n"
     ]
    }
   ],
   "source": [
    "for feature in line['features']:\n",
    "  print(feature['token'])"
   ]
  },
  {
   "cell_type": "code",
   "execution_count": 10,
   "metadata": {
    "colab": {
     "base_uri": "https://localhost:8080/",
     "height": 34
    },
    "colab_type": "code",
    "id": "3d6miqxVJZh5",
    "outputId": "2798b41c-8572-4031-d4f3-6c079143b1d5"
   },
   "outputs": [
    {
     "data": {
      "text/plain": [
       "dict_keys(['token', 'layers'])"
      ]
     },
     "execution_count": 10,
     "metadata": {},
     "output_type": "execute_result"
    }
   ],
   "source": [
    "feature.keys()"
   ]
  },
  {
   "cell_type": "code",
   "execution_count": 11,
   "metadata": {
    "colab": {
     "base_uri": "https://localhost:8080/",
     "height": 87
    },
    "colab_type": "code",
    "id": "Qo3QW0znI0JB",
    "outputId": "aac1de3b-c6a9-45e9-fb1f-3efdafe9d83f"
   },
   "outputs": [
    {
     "name": "stdout",
     "output_type": "stream",
     "text": [
      "-1\n",
      "-2\n",
      "-3\n",
      "-4\n"
     ]
    }
   ],
   "source": [
    "for layer in feature['layers']:\n",
    "  print(layer['index'])"
   ]
  },
  {
   "cell_type": "code",
   "execution_count": 12,
   "metadata": {
    "colab": {
     "base_uri": "https://localhost:8080/",
     "height": 34
    },
    "colab_type": "code",
    "id": "G1YkQteRI0Em",
    "outputId": "739d3529-b41f-4d4d-d2b0-829bf281c88c"
   },
   "outputs": [
    {
     "data": {
      "text/plain": [
       "768"
      ]
     },
     "execution_count": 12,
     "metadata": {},
     "output_type": "execute_result"
    }
   ],
   "source": [
    "len(layer['values'])"
   ]
  },
  {
   "cell_type": "code",
   "execution_count": 13,
   "metadata": {
    "colab": {
     "base_uri": "https://localhost:8080/",
     "height": 629
    },
    "colab_type": "code",
    "id": "AbjFFfaXGvBY",
    "outputId": "5875de49-71f6-4c5a-da1d-30d0785b7e71"
   },
   "outputs": [
    {
     "name": "stdout",
     "output_type": "stream",
     "text": [
      "[CLS]\n",
      "   -1 768\n",
      "   -2 768\n",
      "   -3 768\n",
      "   -4 768\n",
      "this\n",
      "   -1 768\n",
      "   -2 768\n",
      "   -3 768\n",
      "   -4 768\n",
      "is\n",
      "   -1 768\n",
      "   -2 768\n",
      "   -3 768\n",
      "   -4 768\n",
      "the\n",
      "   -1 768\n",
      "   -2 768\n",
      "   -3 768\n",
      "   -4 768\n",
      "first\n",
      "   -1 768\n",
      "   -2 768\n",
      "   -3 768\n",
      "   -4 768\n",
      "sentence\n",
      "   -1 768\n",
      "   -2 768\n",
      "   -3 768\n",
      "   -4 768\n",
      "[SEP]\n",
      "   -1 768\n",
      "   -2 768\n",
      "   -3 768\n",
      "   -4 768\n"
     ]
    }
   ],
   "source": [
    "for feature in line['features']:\n",
    "  print(feature['token'])\n",
    "  for layer in feature['layers']:\n",
    "    print('  ', layer['index'], len(layer['values']))\n"
   ]
  },
  {
   "cell_type": "code",
   "execution_count": 14,
   "metadata": {
    "colab": {},
    "colab_type": "code",
    "id": "wSA8x3oIJ6_p"
   },
   "outputs": [],
   "source": [
    "import matplotlib.pyplot as plt"
   ]
  },
  {
   "cell_type": "code",
   "execution_count": 15,
   "metadata": {
    "colab": {
     "base_uri": "https://localhost:8080/",
     "height": 282
    },
    "colab_type": "code",
    "id": "4wc56Rv8LRjU",
    "outputId": "2d77c662-346e-4ca3-b3dd-4d0e36ecee94"
   },
   "outputs": [
    {
     "data": {
      "text/plain": [
       "[<matplotlib.lines.Line2D at 0x11e5251d0>]"
      ]
     },
     "execution_count": 15,
     "metadata": {},
     "output_type": "execute_result"
    },
    {
     "data": {
      "image/png": "[encoded data removed]",
      "text/plain": [
       "<Figure size 432x288 with 1 Axes>"
      ]
     },
     "metadata": {
      "needs_background": "light"
     },
     "output_type": "display_data"
    }
   ],
   "source": [
    "plt.plot(layer['values'])"
   ]
  },
  {
   "cell_type": "code",
   "execution_count": 0,
   "metadata": {
    "colab": {},
    "colab_type": "code",
    "id": "Uqy1yR--LS1X"
   },
   "outputs": [],
   "source": []
  }
 ],
 "metadata": {
  "colab": {
   "name": "Understanding BERT Sentence Vectorizer.ipynb",
   "provenance": []
  },
  "kernelspec": {
   "display_name": "Python 3",
   "language": "python",
   "name": "python3"
  },
  "language_info": {
   "codemirror_mode": {
    "name": "ipython",
    "version": 3
   },
   "file_extension": ".py",
   "mimetype": "text/x-python",
   "name": "python",
   "nbconvert_exporter": "python",
   "pygments_lexer": "ipython3",
   "version": "3.7.6"
  }
 },
 "nbformat": 4,
 "nbformat_minor": 1
}
