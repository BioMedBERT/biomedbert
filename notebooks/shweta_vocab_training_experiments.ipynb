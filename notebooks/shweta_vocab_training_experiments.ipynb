{
 "cells": [
  {
   "cell_type": "code",
   "execution_count": 19,
   "metadata": {},
   "outputs": [],
   "source": [
    "import pandas as pd\n",
    "import numpy as np\n",
    "import sentencepiece as spm\n",
    "import nltk\n",
    "import ast\n",
    "from nltk.tokenize import sent_tokenize\n",
    "from nltk.tokenize import word_tokenize\n",
    "import time"
   ]
  },
  {
   "cell_type": "code",
   "execution_count": 20,
   "metadata": {},
   "outputs": [],
   "source": [
    "ncbi_com_0 = pd.read_csv(\"data/ncbi_comm_use_000000000000.csv\")"
   ]
  },
  {
   "cell_type": "code",
   "execution_count": 21,
   "metadata": {},
   "outputs": [],
   "source": [
    "ncbi_com_1 = pd.read_csv(\"data/ncbi_comm_use_000000000001.csv\")"
   ]
  },
  {
   "cell_type": "code",
   "execution_count": 22,
   "metadata": {},
   "outputs": [],
   "source": [
    "ncbi_non_com_0 =  pd.read_csv(\"data/ncbi_non_comm_use_000000000000.csv\")"
   ]
  },
  {
   "cell_type": "code",
   "execution_count": 23,
   "metadata": {},
   "outputs": [],
   "source": [
    "ncbi_non_com_1 =  pd.read_csv(\"data/ncbi_non_comm_use_000000000001.csv\")"
   ]
  },
  {
   "cell_type": "code",
   "execution_count": 24,
   "metadata": {},
   "outputs": [
    {
     "data": {
      "text/plain": [
       "(5958, 5)"
      ]
     },
     "execution_count": 24,
     "metadata": {},
     "output_type": "execute_result"
    }
   ],
   "source": [
    "ncbi_com_0.shape"
   ]
  },
  {
   "cell_type": "code",
   "execution_count": 25,
   "metadata": {},
   "outputs": [
    {
     "data": {
      "text/plain": [
       "(4790, 5)"
      ]
     },
     "execution_count": 25,
     "metadata": {},
     "output_type": "execute_result"
    }
   ],
   "source": [
    "ncbi_com_1.shape"
   ]
  },
  {
   "cell_type": "code",
   "execution_count": 26,
   "metadata": {},
   "outputs": [
    {
     "data": {
      "text/plain": [
       "(7924, 5)"
      ]
     },
     "execution_count": 26,
     "metadata": {},
     "output_type": "execute_result"
    }
   ],
   "source": [
    "ncbi_non_com_0.shape"
   ]
  },
  {
   "cell_type": "raw",
   "metadata": {},
   "source": [
    "ncbi_non_com_1.shape"
   ]
  },
  {
   "cell_type": "code",
   "execution_count": 9,
   "metadata": {},
   "outputs": [],
   "source": [
    "df1 = ncbi_com_0"
   ]
  },
  {
   "cell_type": "code",
   "execution_count": 29,
   "metadata": {},
   "outputs": [
    {
     "data": {
      "text/plain": [
       "(5958, 5)"
      ]
     },
     "execution_count": 29,
     "metadata": {},
     "output_type": "execute_result"
    }
   ],
   "source": [
    "df1.shape"
   ]
  },
  {
   "cell_type": "code",
   "execution_count": 30,
   "metadata": {},
   "outputs": [],
   "source": [
    "df2 = pd.concat([df1, ncbi_com_1])"
   ]
  },
  {
   "cell_type": "code",
   "execution_count": 31,
   "metadata": {},
   "outputs": [
    {
     "data": {
      "text/plain": [
       "(10748, 5)"
      ]
     },
     "execution_count": 31,
     "metadata": {},
     "output_type": "execute_result"
    }
   ],
   "source": [
    "df2.shape"
   ]
  },
  {
   "cell_type": "code",
   "execution_count": 32,
   "metadata": {},
   "outputs": [],
   "source": [
    "df3 = pd.concat([df2, ncbi_non_com_0])"
   ]
  },
  {
   "cell_type": "code",
   "execution_count": 33,
   "metadata": {},
   "outputs": [
    {
     "data": {
      "text/plain": [
       "(18672, 5)"
      ]
     },
     "execution_count": 33,
     "metadata": {},
     "output_type": "execute_result"
    }
   ],
   "source": [
    "df3.shape"
   ]
  },
  {
   "cell_type": "code",
   "execution_count": 34,
   "metadata": {},
   "outputs": [],
   "source": [
    "df4 = pd.concat([df3, ncbi_non_com_1])"
   ]
  },
  {
   "cell_type": "code",
   "execution_count": 35,
   "metadata": {},
   "outputs": [
    {
     "data": {
      "text/plain": [
       "(28117, 5)"
      ]
     },
     "execution_count": 35,
     "metadata": {},
     "output_type": "execute_result"
    }
   ],
   "source": [
    "df4.shape"
   ]
  },
  {
   "cell_type": "code",
   "execution_count": 36,
   "metadata": {},
   "outputs": [
    {
     "name": "stdout",
     "output_type": "stream",
     "text": [
      "<class 'pandas.core.frame.DataFrame'>\n",
      "RangeIndex: 5958 entries, 0 to 5957\n",
      "Data columns (total 5 columns):\n",
      "Refs        5807 non-null object\n",
      "Body        5937 non-null object\n",
      "Front       5940 non-null object\n",
      "Meta        18 non-null object\n",
      "Filename    5958 non-null object\n",
      "dtypes: object(5)\n",
      "memory usage: 232.9+ KB\n"
     ]
    }
   ],
   "source": [
    "df1.info()"
   ]
  },
  {
   "cell_type": "code",
   "execution_count": 55,
   "metadata": {},
   "outputs": [
    {
     "data": {
      "text/plain": [
       "Refs         151\n",
       "Body          21\n",
       "Front         18\n",
       "Meta        5940\n",
       "Filename       0\n",
       "dtype: int64"
      ]
     },
     "execution_count": 55,
     "metadata": {},
     "output_type": "execute_result"
    }
   ],
   "source": [
    "df1.isnull().sum()"
   ]
  },
  {
   "cell_type": "code",
   "execution_count": 38,
   "metadata": {},
   "outputs": [
    {
     "data": {
      "text/html": [
       "<div>\n",
       "<style scoped>\n",
       "    .dataframe tbody tr th:only-of-type {\n",
       "        vertical-align: middle;\n",
       "    }\n",
       "\n",
       "    .dataframe tbody tr th {\n",
       "        vertical-align: top;\n",
       "    }\n",
       "\n",
       "    .dataframe thead th {\n",
       "        text-align: right;\n",
       "    }\n",
       "</style>\n",
       "<table border=\"1\" class=\"dataframe\">\n",
       "  <thead>\n",
       "    <tr style=\"text-align: right;\">\n",
       "      <th></th>\n",
       "      <th>Refs</th>\n",
       "      <th>Body</th>\n",
       "      <th>Front</th>\n",
       "      <th>Meta</th>\n",
       "      <th>Filename</th>\n",
       "    </tr>\n",
       "  </thead>\n",
       "  <tbody>\n",
       "    <tr>\n",
       "      <th>0</th>\n",
       "      <td>NaN</td>\n",
       "      <td>NaN</td>\n",
       "      <td>NaN</td>\n",
       "      <td>52\\nStandardized \"Malhotra-Wig Vignettes\" for ...</td>\n",
       "      <td>comm_use.I-N.txt.tar.gz-unpacked/Indian_J_Psyc...</td>\n",
       "    </tr>\n",
       "  </tbody>\n",
       "</table>\n",
       "</div>"
      ],
      "text/plain": [
       "  Refs Body Front                                               Meta  \\\n",
       "0  NaN  NaN   NaN  52\\nStandardized \"Malhotra-Wig Vignettes\" for ...   \n",
       "\n",
       "                                            Filename  \n",
       "0  comm_use.I-N.txt.tar.gz-unpacked/Indian_J_Psyc...  "
      ]
     },
     "execution_count": 38,
     "metadata": {},
     "output_type": "execute_result"
    }
   ],
   "source": [
    "df1.head(1)"
   ]
  },
  {
   "cell_type": "code",
   "execution_count": 39,
   "metadata": {},
   "outputs": [
    {
     "data": {
      "text/html": [
       "<div>\n",
       "<style scoped>\n",
       "    .dataframe tbody tr th:only-of-type {\n",
       "        vertical-align: middle;\n",
       "    }\n",
       "\n",
       "    .dataframe tbody tr th {\n",
       "        vertical-align: top;\n",
       "    }\n",
       "\n",
       "    .dataframe thead th {\n",
       "        text-align: right;\n",
       "    }\n",
       "</style>\n",
       "<table border=\"1\" class=\"dataframe\">\n",
       "  <thead>\n",
       "    <tr style=\"text-align: right;\">\n",
       "      <th></th>\n",
       "      <th>Refs</th>\n",
       "      <th>Body</th>\n",
       "      <th>Front</th>\n",
       "      <th>Meta</th>\n",
       "      <th>Filename</th>\n",
       "    </tr>\n",
       "  </thead>\n",
       "  <tbody>\n",
       "    <tr>\n",
       "      <th>0</th>\n",
       "      <td>NaN</td>\n",
       "      <td>NaN</td>\n",
       "      <td>NaN</td>\n",
       "      <td>52\\nStandardized \"Malhotra-Wig Vignettes\" for ...</td>\n",
       "      <td>comm_use.I-N.txt.tar.gz-unpacked/Indian_J_Psyc...</td>\n",
       "    </tr>\n",
       "    <tr>\n",
       "      <th>1</th>\n",
       "      <td>NaN</td>\n",
       "      <td>NaN</td>\n",
       "      <td>NaN</td>\n",
       "      <td>5\\nSpirituality and Psychiatry\\nDinesh Bhugra*...</td>\n",
       "      <td>comm_use.I-N.txt.tar.gz-unpacked/Indian_J_Psyc...</td>\n",
       "    </tr>\n",
       "  </tbody>\n",
       "</table>\n",
       "</div>"
      ],
      "text/plain": [
       "  Refs Body Front                                               Meta  \\\n",
       "0  NaN  NaN   NaN  52\\nStandardized \"Malhotra-Wig Vignettes\" for ...   \n",
       "1  NaN  NaN   NaN  5\\nSpirituality and Psychiatry\\nDinesh Bhugra*...   \n",
       "\n",
       "                                            Filename  \n",
       "0  comm_use.I-N.txt.tar.gz-unpacked/Indian_J_Psyc...  \n",
       "1  comm_use.I-N.txt.tar.gz-unpacked/Indian_J_Psyc...  "
      ]
     },
     "execution_count": 39,
     "metadata": {},
     "output_type": "execute_result"
    }
   ],
   "source": [
    "df2.head(2)"
   ]
  },
  {
   "cell_type": "code",
   "execution_count": 45,
   "metadata": {},
   "outputs": [
    {
     "data": {
      "text/plain": [
       "\"The editors of the International Journal of Molecular Sciences would like to express their sincere gratitude to the following reviewers for assessing manuscripts in 2014: Abass, Khaled\\nAbbott, David H.\\nAbdelmohsen, Kotb\\nAbdraboh, Mohamed\\nAbe, Naohito\\nAbe, Toshiaki\\nAbou Neel, Ensanya A.\\nAbou-Alfa, Ghassan\\nAbraini, Jacques H.\\nAbram, Florence\\nAbusco, Anna Scotto\\nAbzalimov, Rinat\\nAckland, K.\\nAcuna-Castroviejo, Darío\\nAcunzo, M.\\nAdamcakova-Dodd, Andrea\\nAdeniji, Adegoke\\nAdessi, Alessandra\\nAdhikary, Amitava\\nAfseth, Nils\\nAgalliu, Dritan\\nAgarwal, Anika\\nAgeorges, Agnès\\nAgorastos, Agorastos\\nAgostini, Marco\\nAgterberg, Martijn J. H.\\nAguilar, Claudio\\nAguilar-Reina, José\\nAgulló-Ortuño, M. Teresa\\nAgyei, Dominic\\nAhmed, Khalil\\nAhmed, Salahuddin\\nAhn, Joong-Hoon\\nAhn, Suk-Kyun\\nAibner, Thomas\\nAizawa, Shin-Ichi\\nAjikumar, Parayil Kumaran\\nAkashi, Makoto\\nAkbar, Sheikh Mohammad Fazle\\nAkbarzadeh, A. H.\\nAkeda, Koji\\nAkimoto, Jun\\nAktas, C.\\nAkue, Jean Paul\\nAl Ghouleh, Imad\\nAl-Ahmadie, Hikmat A.\\nAlber, Birgit E.\\nAlbero, Cenci\\nAlcaro, Stefano\\nAlemán, José\\nAleman, Tomas S.\\nAlexander, David Earl\\nAlexander, Stephanie\\nAlexiou, Christoph\\nAlexis, Frank\\nAlexopoulos, A.\\nAlfandari, Dominique\\nAlhede, Morten\\nAlisi, Anna\\nAlison, Malcolm R.\\nAl-Kateb, Huda\\nAllen, Randy\\nAller, Patricio\\nAlmagro, Lorena\\nAlmeida, Raquel\\nAlonso-Nanclares, Lidia\\nAlpini, Gianfranco\\nAlric, Jean\\nAltenbach, Susan B.\\nAltmann, André\\nAlvarez Ponces, David\\nAlvarez-Suarez, José M.\\nAlves, Artur\\nAmacher, David E.\\nAmado, Francisco\\nAmarasena, Najith\\nAmelia, Matteo\\nAmin, Kawa\\nAmir, Rachel\\nAmital, Howard\\nAmmirati, Mario\\nAmoaku, Winfried M.\\nAnastasi, Emanuela\\nAnders, Hans-Joachim\\nAndersen, T. L.\\nAnderson, Jon P.\\nAnderson, Julie A.\\nAnderson, Travis M.\\nAndia, Isabel\\nAndjelkovic, Anuska V.\\nAndolfi, Anna\\nAndrade, Fernando\\nAndrade, Paula Andrade\\nAndrechek, Er\\nAndreucci, Michele\\nAndric, Silvana A.\\nAndújar, Isabel\\nAngelini, Corrado\\nAngelini, Sabrina\\nAngelucci, Adriano\\nAngiolella, Letizia\\nAngkawidjaja, Clement\\nAngulo, Ana\\nAnifandis, Georgios M\\nAnna Maria, Giammarioli\\nAnnaert, Wim\\nAnsquer, Jean Claude\\nAntonella, Piozzi\\nAntoni, Delphine\\nAntonio, Baltazar\\nAo, Sio-Iong\\nAquino, Rita Patrizia\\nAranda, P.\\nArcangeli, Annarosa\\nArcari, Paolo\\nArce, Víctor M.\\nArceci, Robert J.\\nArcher, Trevor\\nArduino, Paolo G.\\nArens, Ramon\\nAriga, Hiroyoshi\\nAriga, Katsuhiko\\nAriunbaatar, Javkhlan\\nAriyama, Kaoru\\nArnason, John T.\\nArnhold, Juergen\\nArnold, Julia T.\\nArnold, Shanna\\nArnoldi, Anna\\nAroca, Ricardo\\nArpicco, Silvia\\nArteaga, Jesús F.\\nArtese, Anna\\nAruoma, Okezie\\nAschberger, Karin\\nAshby, Richard D.\\nAshida, Hitoshi\\nAssimakopoulos, Stelios\\nAstolfi, Stefania\\nAtrens, Andrej\\nAuer, Carol\\nAuron, Philip E.\\nAustriaco, Nicanor\\nAvato, Pinarosa\\nAvila, Matias A.\\nAvvedimento, Enrico V.\\nAxelsen, Martin\\nAydi, Samir\\nAye, I. L. M. H.\\nAykin-Burns, Nukhet\\nAzad, Abul K.\\nAzmi, Asfar\\nBaarsma, Hoeke\\nBaba, Hideo\\nBaba, Otto\\nBabu, Uma\\nBaczek, Tomasz\\nBae, Jeoung Won\\nBae, Jong-Sup\\nBaeg, Jin-Ook\\nBaek, Jeong-Hwa\\nBaek, Kwang-Hyun\\nBaele, Guy\\nBaergen, Rebecca N.\\nBaffy, György\\nBagby, Michael\\nBagella, Luigi\\nBailly, Sabine\\nBaino, Francesco\\nBak, Min-Ji\\nBakare, Oladapo\\nBaklouti, Faouzi\\nBakshi, Mandeep Singh\\nBalandin, Alexander A.\\nBald, Dirk\\nBallhorn, Daniel J.\\nBallmer-Hofer, Kurt\\nBaluska, Frantisek\\nBandiera, Stelvio M.\\nBanerjee, Debabrata\\nBanerjee, Sanjeev\\nBano, Daniele\\nBanskota, Arjun H.\\nBao, Bin\\nBaptista, Pedro V.\\nBaraldi, Pier Giovanni\\nBaranov, Pavel V.\\nBaratta, Mario\\nBarbe, Mary F.\\nBarbeyron, Tristan Barbeyron\\nBarbosa-Pereira, Letricia\\nBard, Frederic\\nBarderas, Maria G.\\nBardoni, Barbara\\nBarnard, K. R.\\nBarnes, D. W.\\nBarresi, V.\\nBarrett, Kim E.\\nBarriere, Yves\\nBarros, Pedro\\nBarroso, Margarida\\nBarta, Andrea\\nBartlett, David L.\\nBartlett, John\\nBartlett, Michael\\nBartoloni, Giovanni\\nBaruscotti, Mirko\\nBarz, Bogdan\\nBasaraba, Randall J.\\nBasco, Leonardo K.\\nBasini, Giuseppina\\nBasnet, Purusotam\\nBassareo, Pier Paolo\\nBassil, Nahla V.\\nBassols, Anna\\nBast, Robert\\nBastiaan-Net, Shanna\\nBastola, Dhundy R.\\nBasu, Partha\\nBatail, Patrick\\nBates, David\\nBatista, Frederico M.\\nBatistuzzo, Camila\\nBatoko, Henri\\nBatra, Jyotsna\\nBattino, Maurizio\\nBauer, Johann\\nBaugé, Catherine\\nBaulieu, Etienne-Emile\\nBayer, Thomas A.\\nBayless, Kayla\\nBaylis, Chris\\nBazhin, Alexandr\\nBeasley, Shea\\nBeaulieu, Lea M.\\nBeauregard, Marc\\nBechter, Karl\\nBecker, Therese M.\\nBedrosian, Tracy A.\\nBehrends, Soenke\\nBeiko, Robert\\nBeischlag, Timothy V.\\nBeisswenger, Christoph\\nBejai, Sarosh\\nBell, Diana\\nBellincampi, Daniela\\nBellinger, Rick\\nBello, Xanel Vecino\\nBelousov, A. B.\\nBen-Dov, Iddo Z.\\nBenfenati, Emilio\\nBenfenati, Fabio\\nBenhabib, Karim\\nBenjamim, Claudia Farias\\nBennett, Barbara K.\\nBennett, Gary\\nBenter, Thorsten\\nBentley, T. William\\nBenton, Richard L.\\nBeraza, Naiara\\nBerben, Gilbert\\nBerber, Mohamed Reda\\nBergamaschi, Enrico\\nBerger, Peter\\nBerger, Ralf G.\\nBergeron, G.\\nBermudez, H.\\nBernardo, Enrico\\nBernhardt, Anne\\nBernstein, Hans-Gert\\nBerrier, Allison L.\\nBerry, Jody D.\\nBersuker, Isaac B\\nBerteau, Olivier\\nBertin, Annabelle\\nBertolini, Francesco\\nBesalú, Emili\\nBessho, Yoshitaka\\nBester, Megan J.\\nBeveridge, Thomas J. R.\\nBeverly, Levi J.\\nBeynon, Christopher\\nBeyssac, Eric\\nBezrukov, Sergey\\nBhatia, Sujata\\nBhatnagar, Vibha\\nBhushan, Alok\\nBhutani, Nidhi\\nBi, Enguang\\nBiamonti, Giuseppe\\nBian, Zhaoxiang\\nBianco, Roberto\\nBidère, Nicolas\\nBielenica, Anna\\nBignami, Margherita\\nBility, Moses\\nBinder, Harald\\nBisaglia, Marco\\nBiscetti, F.\\nBiswas, Amlan\\nBiswas, Arijit\\nBiswas-Fiss, Esther E.\\nBita, Craita E.\\nBizzarri, Mariano\\nBlackstone, Craig\\nBlanca, Miguel\\nBlanco, Francisco J.\\nBlanco, Ignazio\\nBlanco, José L. Jiménez\\nBlattmann, C.\\nBloch, Wilhelm\\nBlock, Jean-Claude\\nBlossom, Sarah J.\\nBlot, Stijn\\nBlum, Amy\\nBlum, Marc-Michael\\nBlume, Cornelia\\nBoccafoschi, Francesca\\nBock, Dan G.\\nBode, Konrad\\nBoelsterli, Urs A.\\nBogdanove, Adam\\nBohm, Markus\\nBöhmer, Frank-D.\\nBöhne, Astrid\\nBoikos, Sosipatros\\nBolitho, Megan\\nBonaventura, Giovanni Di\\nBonay, M.\\nBondos, Sarah E.\\nBoneca, Ivo G.\\nBonetti, Bruno\\nBonilla, Carolina\\nBonnefont-Rousselot, Dominique\\nBonner, William\\nBonora, Elena\\nBoon, Wah Chin\\nBoor, Peter\\nBoos, A. M.\\nBorea, Pier Andrea\\nBorges, Frédéric\\nBorlee, Brad\\nBorsani, Elisa\\nBortolus, Renata\\nBoss, Paul K.\\nBosso, Luciano\\nBot, Ilze\\nBotchkareva, Natalia V.\\nBotella, Miguel A.\\nBothner, Brian\\nBouabdallah, Ibrahim\\nBoucrot, Emmanuel\\nBouma, Gerrit J.\\nBousbaa, Hassan\\nBoutin, Jean\\nBoykin, Laura M.\\nBracken, Cameron P.\\nBraig, Simone\\nBrait, Mariana\\nBrambrink, A.\\nBrandao, Lucas\\nBraun, Thomas\\nBräuner-Osborne, Hans\\nBrebu, Mihai\\nBreitbart, Haim\\nBreitkopf-Heinlein, Katja\\nBrendlé, Jocelyne\\nBrenner, Ingrid\\nBreton, Timothy\\nBrewer, George J.\\nBrewster, Lizzy\\nBreydo, Leonid\\nBrigelius-Flohé, Regina\\nBrighty, David\\nBrini, Marisa\\nBrito, Maria Alexandra\\nBrizzi, Maria Felice\\nBroberg Palmgren, Karin\\nBrodsky, Alexander S.\\nBroeckling, Corey\\nBroggini, Massimo\\nBronisz, Agnieszka\\nBrooks, Andrew J.\\nBrooks, Donald E.\\nBrosens, Jan J.\\nBrotto, Marco\\nBrown, Gregory\\nBrown, Lindsay\\nBrown, Mark A.\\nBruce, Kimberley D.\\nBruce, Lesley J.\\nBruce, W. R.\\nBruckmaier, R. M.\\nBrufau, Joaquim\\nBrumm, Phillip J.\\nBruneau, Christian\\nBrunel, Jean\\nBrunelle, Alain\\nBrunelleschi, Sandra\\nBruner-Tran, Kaylon L.\\nBrunham, Liam R.\\nBrüning, Ansgar\\nBrunner, Michael\\nBruno, John\\nBruno, Richard S.\\nBruserud, Øystein\\nBryan, Jeffrey\\nBubulya, Paula A.\\nBuchman, Vladimir L.\\nBuechler, Christa\\nBuehler, Paul W.\\nBunaciu, Rodica\\nBuonaccorsi, Vincent P.\\nBurdon, Kathryn P.\\nBurgers, Peter C.\\nBurgess, Karl E. V.\\nBurgoon, Mark P.\\nBurgoyne, Joseph Robert\\nBurkhead, Jason L.\\nBurlak, Christopher\\nBurnett, Arthur\\nBurnette, Pearlie K.\\nBurton, Zachary F.\\nBusse, Björn\\nBussolati, Benedetta\\nButany, Jagdish\\nBüttner, Sabrina\\nBuurman, Ed T.\\nBuzzini, Pietro\\nCaballero, Susana\\nCabral, Horacio\\nCacciola, St. Olga\\nde Caceres, Dr II\\nCacucciolo, Vito\\nCaffrey, Patrick\\nCahill, Patrick L.\\nCahoon, A. B.\\nCai, Lu\\nCai, Weili\\nCairrão, Elisa\\nCaisová, Lenka\\nCaldeira, Ana Teresa\\nCall, Douglas R.\\nCall, Matthew E.\\nCallister, Steven M.\\nCalvano, C. D.\\nCalvert, John W.\\nCalvisi, Diego F.\\nCâmara, Niels Olsen Saraiva\\nCamatini, Marina\\nCameron, Barbara\\nCammas-Marion, Sandrine\\nCampagna, Shawn R.\\nCampbell, Christopher\\nCampiglia, Pietro\\nCampos, Carmen A.\\nCampos, Francisco\\nCanani, Roberto\\nCancello, Raffaella\\nCandeias, Marco M.\\nCanini, Antonella\\nCanonico, Marianne\\nCanton, Marcella\\nCao, Bo\\nCao, Cong\\nCao, Xiaoyan\\nCapilla, Encarnación\\nCaplin, Ben\\nCarafa, Maria\\nCaraglia, Michele\\nCarcangiu, Vincenzo\\nCardillo, Carmine\\nCardina, John\\nCardinali, Daniel P.\\nCardon, Ludwig\\nCardoso, Luís\\nCardoso, Susana M.\\nCarè, Alessandra\\nCarew, Anna\\nCarlin, Kasey Maddock\\nCarloni, Sante\\nCarlsen, Monica H.\\nCarlson, Steve A.\\nCarlstedt, Thomas\\nCarlyle, James R.\\nCarmichael, Gordon G\\nCarr, John P.\\nCarrasco, Pedro\\nCarretero, O. A.\\nCarrier, Alice\\nCarrillo-Vico, Antonio\\nCarvajal, M.\\nCarvalho, Livia\\nCarvalho, Pedro\\nCasamassimi, Amelia\\nCasanova-Nakayama, Ayako\\nCasartelli, Morena\\nCaselli, Chiara\\nCasida, Mark E.\\nCasper, Robert F.\\nCastañeda, Santos\\nCastan-Laurell, Isabelle\\nCastelein, René M.\\nCastell, Alina\\nCastellano, Gloria\\nCastellano, José María\\nCastellino, Robert C.\\nCastilho, Rogerio M.\\nCastresana, Carmen\\nCatara, Vittoria\\nCavicchi, Kevin\\nCawthorne, Michael A.\\nCazorla-Amorós, Diego\\nCeccarelli, Sara\\nCederberg-Helms, Hans Christian\\nCegolon, Luca\\nCenci, Elio\\nCeolotto, Giulio\\nCepeda, Carlos\\nCeriotti, Aldo\\nCerrada, Maria Luisa\\nCervantes, Jorge L.\\nCesarino, Igor\\nCha, Sangwon\\nChaban, Vitaly V.\\nChadjichristos, Christos E.\\nChai, Yifeng\\nChak, Kayam\\nChalivendra, Vijay\\nChalkley, Robert\\nChalmers, Jeffrey J.\\nChan, Anthony WH\\nChan, Conrad En Zuo\\nChan, Elsa C.\\nChan, Hsiao Chang\\nChan, Juliana C. N.\\nChan, Julie\\nChan, Koon-Ho\\nChan, Ming-Tsair\\nChan, Siew Wee\\nChan, Wai-Yee\\nChand, Hitendra\\nChang, Chia-Ching\\nChang, Fang-Rong\\nChang, Ing-Feng\\nChang, John P.\\nChang, Lin-Li\\nChang, Long-Sen\\nChang, Te-Sheng\\nChang, Wei-Chiao\\nChang, Wen-Chi\\nChang, Wen-Wei\\nChang, Yu-Jung\\nChang, Yung\\nChapel, Alain\\nChappell, Mark C.\\nChapple, Sarah\\nCharitidis, Costas A.\\nCharlier, Daniel\\nChassande, Olivier\\nChassy, Bruce M.\\nChatonnet, Arnaud\\nChatterjee, Jhinuk\\nChaudhary, Kunal\\nChemat, Farid\\nChemler, Sherry R.\\nChemtob, Sylvain\\nChen, Bin\\nChen, Bing-Hung\\nChen, Bor-Kuan\\nChen, Chieh-Fu\\nChen, Chung-Ming\\nChen, Chung-Yi\\nChen, Chunjung\\nChen, Emily\\nChen, George G.\\nChen, Guang-Chao\\nChen, Guanying\\nChen, Guo-Qiang\\nChen, Haolin\\nChen, Hongzhang\\nChen, Huixiong\\nChen, Jem-Kun\\nChen, Jian\\nChen, Jiann-Chu\\nChen, Jianye\\nChen, Jieli\\nChen, Jihua\\nChen, Jiun-Rong\\nChen, Kun-Song\\nChen, Li\\nChen, Lingyi\\nChen, Po-Yuan\\nChen, Qi-Yin\\nChen, Rui\\nChen, Shu-Hui\\nChen, Ssu-Ching\\nChen, Tzong-Yueh\\nChen, Wei\\nChen, Wei-Jan\\nChen, Wen\\nChen, Wenchi\\nChen, X.-B.\\nChen, Yang-Yuan\\nChen, Yeh-Long\\nChen, Yen-Chou\\nChen, Yen-Hao\\nChen, Ying\\nChen, Yingjie\\nChen, Yung-Hsiang\\nChen, Yun-Wen\\nChen, Zhe-Sheng\\nChénais, Benoît\\nCheng, Alfred S. L.\\nCheng, Hua\\nCheng, Juei-Tang\\nCheng, Kai\\nCheng, Kuang-Hung\\nCheng, Nikki\\nCheng, Ning-Hui\\nCheng, Xian Wu\\nCheong, JaeHun\\nCherian, Philip\\nChettimada, Sukrutha\\nCheung, K. J.\\nCheung, Peter C. K.\\nCheung, Po-Yin\\nCheung, Wing-Hoi\\nChew, Choy-Hoong\\nChiang, Han-Sun\\nChiang, Tai-An\\nChiang, Tzen-Yuh\\nChiba, Kazuhiro\\nChiesa, Roberto\\nChimenti, Sergio\\nChiocca, Antonio\\nChiono, Valeria\\nChiou, Hui-Ling\\nChiou, Shih-Hwa\\nChitalia, Vipul\\nChitalia, Vipul C.\\nChlan, Caryl\\nCho, Dong-Woo\\nCho, Kyoung Sang\\nCho, Saeyoull\\nCho, Ssang-Goo\\nCho, Tae-Joon\\nCho, Yangrae\\nChobot, Vladimir\\nChoi, Byong-Seok\\nChoi, Byung Tae\\nChoi, Changsun\\nChoi, Eung H.\\nChoi, Soo-Jin\\nChong, Parkson Lee-Gau\\nChou, Chin-Cheng\\nChou, James\\nChou, Kuo-Chen\\nChoudhury, Lubna\\nChoudhury, Swarup Roy\\nChow, Wah Soon\\nChristensen, Lars\\nChristian, Bartsch\\nChristmann, Markus\\nChrousos, George\\nChrubasik, Sigrun\\nChrysos, Michael\\nChrzanowski, Łukasz\\nChu, Ching-Liang\\nChu, Fang-Hua\\nChu, Yi\\nChu, Yiwei\\nChuah, Meng Inn\\nChuang, Lee-Ming\\nChudzinski-Tavassi, Ana Marisa\\nChueh, Pin Ju\\nChuman, Hiroshi\\nChung, Taijoon\\nChuu, Chih-Pin\\nCiccarelli, Michele\\nCiccocioppo, Rachele\\nCiccoli, Lucia\\nCicero, Arrigo F. G.\\nCichero, Elena\\nCillessen, Saskia Agm\\nCindrova-Davies, T.\\nCires, Eduardo\\nCirillo, Giuseppe\\nCiuman, Raphael Richard\\nCivetta, Alberto\\nClarkson, Andrew\\nClawson, Gary A.\\nClemetson, Kenneth J.\\nClendenen, Tess V.\\nCleton-Jansen, Anne-Marie\\nCloos, Jacqueline\\nCobb, Brian A.\\nCobb, John\\nCockerill, Gillian W.\\nCohney, Solomon\\nCohrs, Randall\\nCoimbra, Eliane Fields\\nColeman, Anthony W.\\nColeman, Michael\\nColeman, William B.\\nColey, Helen M.\\nColl, Josep\\nColliec-Jouault, Sylvia\\nCollier, Phillip\\nCollingridge, Graham L.\\nCollins, Andrew\\nColloc'h, Nathalie\\nColosimo, Alessia\\nComai, Stefano\\nConesa-Zamora, Pablo\\nConstantinescu, Stefan\\nConte, Lanfranco\\nContestabile, Antonio\\nContini, Alessandro\\nCookson, S. J.\\nCools, Piet\\nCopani, Agata\\nCoppini, Raffaele\\nCoraça-Huber, Débora C.\\nCorbi, Graziamaria\\nCorchete, Purificación\\nCordewener, Jan H. G.\\nCornelissen, Bart\\nCorominas, M.\\nCorrea-Basurto, Jose\\nCorreia, Sónia C.\\nCorrigan, Frances\\nCortés-Gutiérrez, E. I.\\nCorthay, A.\\nCorthesy, Blaise\\nCorydon, T. J.\\nCosic, I.\\nCosta, Alex\\nCosta, Carla\\nCosta, Marta\\nCostantini, David\\nCostantini, Federica\\nCosta-Rodrigues, João\\nCotelle, Valérie\\nCottee, Nicola S.\\nCottet, Martin\\nCoughlin, Shaun R.\\nCouillard, Catherine M.\\nCouldrey, Christine\\nCoulpier, Muriel\\nCowling, Victoria\\nCrawford, Professor Sybil L.\\nCrecelius, Anna C.\\nCrego-Prieto, Victor\\nCrespo, Mariano Sánchez\\nCreton, Benoit\\nCrich, Simonetta Geninatti\\nCrittenden, Jill R.\\nCross, Carroll\\nCrosthwaite, Susan K.\\nCucchiarini, Magali\\nCui, Xiaobing\\nCullis, Christopher\\nCulot, Maxime\\nCummings, Richard D.\\nCummins, Philip M.\\nCunha, Angela\\nCunningham, Lee Anna\\nCunningham, Patrick\\nCurci, John A.\\nD. Ritchie, Marylyn\\nD’hooghe, Matthias\\nda Cunha, Daniel Andrade\\nda Silva, M. L. Alves\\nDafforn, Katherine A.\\nDaglia, Maria\\nDai, Chi-An\\nDai, W.\\nDai, Yao\\nDai, Yun\\nDailey, Michael E.\\nDalcin, Daniel\\nDall'acqua, Francesco\\nDalle, Frederic\\nDalmoro, Annalisa\\nDalprà, Leda\\nDalton, Caroline\\nDamian, Diona\\nDamilano, Federico\\nDamoiseaux, Robert\\nDaneman, Richard\\nDaniele, Stéphane\\nDanielsen, Erik Michael\\nDanilevskaya, Olga\\nDansette, Patrick\\nDarabi, Hatef\\nDas, Anindita\\nDas, Saumya\\nDas, Undurti\\nDasarathy, Srinivasan\\nDass, Crispin R.\\nDave, Kunjan R.\\nDavey, Gavin\\nDavid Wang, Hui-Min\\nDavidson, Fordyce A.\\nDavidson, W. S.\\nDavie, Elizabeth A. Colby\\nDavies, Christopher\\nDavies, Howard V.\\nDavis, Erica E.\\nDavis, Randall L.\\nDavis, Terence\\nDavletov, Bazbek\\nDavoli, R.\\nDawid, Igor B.\\nDe Angioletti, Maria\\nDe Aza, Piedad N.\\nDe Berardis, Domenico\\nde Feo, Vincenzo\\nDe Figueiredo, Marcia\\nDe Geest, Bart\\nDe Giglio, Elvira\\nDe Gioia, Luca\\nDe la Mata, F. Javier\\nDe Los Santos, Teresa\\nDe Marco, Iolanda\\nde Medina, F Sánchez\\nde Mendonça, Dina I. M. D.\\nDe Michelis, Maria Ida\\nDe Paepe, Boel\\nde Perrot, Thomas\\nDe Re, Valli\\nDe Riccardis, Federica\\nDe Robertis, Edward\\nDe Rosa, Giuseppe\\nDe Rossi, Anita\\nDe Santa Maria, Luiz Claudio\\nDe Visser, S. P.\\nde Windt, Leon\\nDeaglio, Silvia\\nDealwis, Chris G.\\nDealy, Caroline N.\\nDean, Justin\\nDebode, Frederic\\nDebRoy, Chitrita\\nDebyser, Zeger\\nDeCarlo, Arthur A\\nDecoursey, Thomas\\nDeevska, Gergana\\nDefamie, Norah\\nDehouck, Yves\\nDekker, Lodewijk\\nDelcour, Jan A.\\nDeLeon-Pennell, Kristine Y\\nDelgado Olguín, Paul\\nDeMaat, Moniek P. M.\\nDemontis, Fabio\\nDemorrow, Sharon\\nDemyanets, Svitlana\\nDeng, Lisheng\\nDenmat, Sylvie Hermann-Le\\nDenning, Timothy\\nDent, Sharon Y. R.\\nDerkach, K. V.\\nDesbois, Andrew\\nDeshpande, Deepak A.\\nDesouki, Mohamed M.\\nDessy, Chantal\\nDeuchars, Jim\\nDevaux, Yvan\\nDevesa, J.\\nDevos, Damien\\nDewi, Mewahyu\\nDhar, Sanjit K.\\nDharmapatni, Kencana\\nDhawan, Deepika\\nDhawan, Sangeeta\\nDheilly, Nolwenn M.\\nDhillon, N. K.\\nDhondt-Cordelier, Sandrine\\nDi Carlo, Marta\\nDi Giulio, Massimo\\nDi Maio, Luciano\\nDi Primio, R.\\nDi Sansebastiano, Gian Pietro\\nDi Sotto, Antonella\\nDi, Rong\\nDiana, Patrizia\\nDíaz, José\\nDíaz-Moreno, Irene\\nDickerson, James H.\\nDickinson, Gary\\nDickinson, Robert\\nDieci, Giorgio\\nDiehl, Phillip\\nDiekman, Alan\\nDiekmann, Stephan\\nDiekwisch, Thomas\\nDiep, Dzung B.\\nDieriks, Birger\\nDíez-Pascual, Ana\\nDíez-Tejedor, E.\\nDigby, Janet\\nDiGiusto, David\\nDijkstra, Bauke W.\\nDikalov, Sergey\\nDilley, Rodney James\\nDiMario, Joseph X.\\nDimitroulas, Theodoros\\nDing, Wen-Xing\\nDingermann, Theodor\\nDinh, Dzung H.\\nDini, Luciana\\nDirix, L. Y.\\nDixon, David A.\\nDjordjevic, Julianne\\nDo, Sun Hee\\nDobolyi, Arpád\\nDodd, Ian C.\\nDoig, Andrew\\nDomingos, Pedro M.\\nDonaghue, Jacqui\\nDonatini, B.\\nDonato, Rosario\\nDong, Hong\\nDong, Mingdong\\nDonmez, Gizem\\nDonnelly, Ryan F.\\nDonnio, Bertrand\\nD'Onofrio, Claudio\\nDooley, Steven\\nD'Orazi, Gabriella\\nD'orazio, John\\nDormond, Olivier\\nDosio, Franco\\nDoss, Michael Xavier\\nDoublet, Patricia\\nDouroumis, Dionysios\\nDracatos, Peter Michael\\nDrakoulis, Nikolaos\\nDreher, Kevin L.\\nDrobná, Zuzana\\nDryer, Stuart E.\\nDu, William Weidong\\nDu, Xiao-Jun\\nDuan, Jianjun\\nDübel, Stefan\\nDucruet, A. F.\\nDucruet, Jean-Marc\\nDufès, Christine\\nDuh, Pin-Der\\nDuhamel, Jean\\nDuhamel, Todd\\nDuivenvoorden, Wilhelmina C. M.\\nDunbar, Gary L.\\nDuong, Tri\\nDuong-Quy, Sy\\nDuque, A.\\nDuque, Paula\\nDurante, William\\nDuranti, Marcello\\nDurruthy-Durruthy, Jens\\nDurso, Lisa M.\\nDutta, Sujoy\\nDutton, Susan J.\\nDuvic, Bernard\\nDuzgunes, Nejat\\nDvir-Ginzberg, Mona\\nDvorak, Zdenek\\nDyrskjøt, Lars\\nDziubla, Thomas\\nDzyuba, Sergei\\nEbara, mitsuhiro\\nEbetino, Hal\\nEckman, Delrae M.\\nEconomopoulou, Panagiota\\nEfron, Philip A.\\nEglin, David\\nEhrenreich, Hannelore\\nEhret, Georg B.\\nEichler, Jerry\\nEijsink, Vincent\\nEisenhut, Marion\\nEisenmesser, Elan\\nEklund, Britta\\nElankumaran, Subbiah\\nElder, Alison\\nEleftheriou, Eleftherios\\nEl-Essawi, Aschraf\\nElhanafi, Ahmad Omar\\nElia, Giuliano\\nElias, Mikael\\nEliseev, Roman A.\\nEllington, Andy\\nElliott, Steve\\nEllsworth, Rachel E.\\nEl-Naggar, Adel K.\\nElrouby, Nabil\\nEl-Seedi, Hesham R.\\nElsinghorst, Paul W.\\nEltom, Sakina E.\\nEma, Tadashi\\nEmaminejad, Sam\\nEmonard, Hervé\\nEngeli, Stefan\\nEngelke, David R.\\nEnglert, Markus\\nEnninga, Jost\\nEnns, Gregory M.\\nEpstein, Murary\\nErceg, Slaven\\nEriksson, Kristina\\nErlinge, David\\nEroles, Pilar\\nErwin, Patrick M.\\nEscames, Germaine\\nEsguerra, Jonathan Lou S.\\nEskelinen, Eeva-Liisa\\nEspinosa-Urgel, Manuel\\nEstall, Vanessa\\nEsteban, Maria Ángeles\\nEsteruelas, Miguel A.\\nEstevinho, Leticia\\nEstrada, Vicente\\nEstrine, Boris\\nEtheve-Quelquejeu, Mélanie\\nEtxeberria, Ed\\nEvans, Janice P.\\nEvans, Paul\\nEvans-Galea, Marguerite V.\\nExner, Thomas\\nFabbri, E.\\nFabbri, Francesco\\nFabian, Arnberg\\nFabio, Vianello\\nFabris, Daniele\\nFadiel, Ahmed\\nFadl, Amin\\nFahlman, Richard P.\\nFairweather, Delisa\\nFåk, Frida\\nFan, Liu-Min\\nFan, Weimin\\nFan, Xiaodan\\nFan, Xiucheng\\nFanburg, Barry\\nFang, Bingliang\\nFang, Xianjun\\nFantuzzi, Giamila\\nFarah, Camile\\nFarahani, Ali Borzabadi\\nFaraji, Shirin\\nFaraloni, Cecilia\\nFarfel, Zvi\\nFarres, Jaume\\nFarrow, K. N.\\nFassett, Robert\\nFassina, Ambrogio\\nFathinul, F.\\nFaul, Christian\\nFaustino, Amparo\\nFaustman, Elaine\\nFedele, Francesco\\nFehling, Heather\\nFeizi, Soheil\\nFelsenstein, Kevin M.\\nFendri, Imen\\nFeng, Changjian\\nFeng, Chia-Hsien\\nFeng, Xi-Qiao\\nFeng, Yangbo\\nFeng, Yibin\\nFenn, Michael\\nFeo, Francesco\\nFerlini, Cristiano\\nFerlito, Alfio\\nFernández, J. A.\\nFernández, José J.\\nFernandez-Ballester, G.\\nFernandez-Botran, Rafael\\nFernandez-Garcia, Marta\\nFernández-Gómez, Francisco José\\nFeroci, Marta\\nFerrando, M. L.\\nFerrarese, Carlo\\nFerraresso, Mariano\\nFerrari, Paola\\nFerrarini, Alberto\\nFerraris, S.\\nFerreira, A. F.\\nFerrières, Vincent\\nFessel, Joshua P.\\nFilichkin, Sergei A.\\nFilippo, Emanuela\\nFilleur, Stephanie\\nFiner, Yoav\\nFinlay, Graeme J.\\nFinn, Robert\\nFinnie, Christine\\nFiore, V.\\nFiorentino, Alba\\nFiorina, Paolo\\nFirer, Michael\\nFirth, Andrew\\nFischer, Marlene\\nFisher, Urs\\nFishman, Ayelet\\nFishman, Mayer\\nFissell, William\\nFladung, Matthias\\nFlahaut, Christophe\\nFlechsig, Gerd-Uwe\\nFlieger, Antje\\nFlisikowski, Krzysztof\\nFlorencio, Francisco J.\\nFlorio, Tullio\\nFlotats, Albert\\nFlower, Andrew\\nFogolari, Federico\\nFokas, Emmanouil\\nFomenko, Dmitri E.\\nFondevila, Constantino\\nFonken, Laura K.\\nFont, Albert\\nFoo, Eloise\\nFord, Judy\\nFormisano, Pietro\\nFort, Francesca\\nFortunato, Orazio\\nFossa, Paola\\nFossum, Eric\\nFosu-Nyarko, John\\nFountzilas, G.\\nFraga, Braulio M.\\nFranceschini, Isabelle\\nFrancklyn, Christopher S.\\nFranco, Catarina\\nFranco, Pierfrancesco\\nFranco, Rodrigo\\nFrank, Patrick\\nFrattini, Annalisa\\nFreeman, Michael D.\\nFreitas, Marisa\\nFreitas, Michael A.\\nFreking, Brad\\nFresta, Massimo\\nFriák, Martin\\nFriedman, Robert\\nFroeyen, Matheus\\nFröhlich, Eleonore\\nFröhlich, Holger\\nFrölich, J.\\nFromigué, O.\\nFrost, Sofia\\nFrye, Richard E.\\nFu, Freddie H.\\nFu, Leiping\\nFu, Yong-Bi\\nLin, Fu-Cheng\\nFujimori, Ko\\nFujita, Ken-Ichi\\nFujita, Masayuki\\nFukada, So-Ichiro\\nFukao, Takeshi\\nFukoura, Hirotaro\\nFukuda, N.\\nFukuoka, Hiroyuki\\nFukushima, Masami\\nFukuta, Yoshimichi\\nFullston, Tod\\nFurumatsu, Takayuki\\nFuster, Daniel\\nGabelli, Sandra B.\\nGalanakis, Charis M.\\nGalardy, Paul J.\\nGaldiero, Stefania\\nGaleazzi, Roberta\\nGaliano, Silvia\\nGalla, Hans-Joachim\\nGallardo, Karine\\nGalli, Andrea\\nGallicano, G. Ian\\nGalván, José Valero\\nGambino, G.\\nGammone, Maria Alessandra\\nGamstedt, E. Kristofer\\nGandellini, Paolo\\nGanji, Purna Chandra\\nGao, Junping\\nGao, Shan\\nGao, Yonggui\\nGara, Naveen\\nGarau, Gianpiero\\nGarcía Encina, Pedro A.\\nGarcia, Antonio\\nGarcía, Irene\\nGarcía-Arrarás, Jose E.\\nGarcía-Jiménez, Custodia\\nGarcia-Orad, Africa\\nGard, Paul\\nGardner, Dale\\nGarg, Parveen K.\\nGargiulo, Gaetano\\nGarinis, George\\nGarino, Cristiano\\nGarneau-Tsodikova, Sylvie\\nGarrisi, V. M.\\nGarten, Antje\\nGarzón, Javier\\nGasparini, Pierliugi\\nGastaldi, Giulia\\nGatti, Laura\\nGauld, James W.\\nGaultier, Alban\\nGava, Alessandra\\nGavira, José A.\\nGazdhar, Amiq\\nGazouli, M.\\nGe, Shengfang\\nGe, Wei\\nGeeraerd, Annemie H.\\nGeerts, Hugo\\nGehring, Amy\\nGeilfus, Christoph-Martin\\nGeirsdottir, Margret\\nGeitmann, Anja\\nGelbart, William M.\\nGemei, Marica\\nGencoglu, Aytug\\nGenji, Imokawa\\nGentile, Christopher L.\\nGentile, Francesco\\nGentile, Piergiorgio\\nGeorgakilas, Alexandros G.\\nGeorgiev, Milen\\nGeorgopoulos, Neoklis A.\\nGerber, Alexander\\nGerchman, Yoram\\nGerecke, Kim M.\\nGerl, Mathias J.\\nGerner, Christopher\\nGeronikaki, Athina\\nGeso, Moshi\\nGestwicki, Jason E.\\nGewirtz, David A.\\nGhasemi, Jahan\\nGhassemifar, Reza\\nGhirardi, Maria\\nGhoreschi, Kamran\\nGiaginis, Costantinos\\nGiambona, Antonino\\nGiannattasio, Sergio\\nGibert, Yann\\nGielen, Stephan\\nGilbert, Kathleen\\nGiles, Thomas D.\\nGimnez, Raquel\\nGiniatullin, R.\\nGiordano, Antonio\\nGironella, Meritxell\\nGitto, Rosaria\\nGizzo, Salvatore\\nGlaser, Benjamin\\nGlatzel, M.\\nGleicher, Norbert\\nGlocker, Erik-Oliver\\nGlowacki, François\\nGnanaguru, Gopalan\\nGobe, Glenda C.\\nGodin, Biana\\nGoffredi, Shana\\nGoldberg, Harvey\\nGolding, Michael C.\\nGoldring, Mary\\nGoldstein, Aaron S.\\nGolestaneh, Nady\\nGoltsov, Alexey\\nGomer, Richard H.\\nGomes, Ana P.\\nGomez, Ana\\nGómez, Ana M.\\nGómez, Gustavo\\nGomez, Nidia\\nGómez-Laguna, J.\\nGomez-Llorente, Carolina\\nGomez-Quiroz, Luis E.\\nGondhalekar, Ameya D\\nGondi, Christopher S.\\nGondry, Muriel\\nGong, Myoung-Seon\\nGong, Ping\\nGong, Siew-Ging\\nGong, Yuewen\\nGoni, Felix\\nGonsalvi, Luca\\nGonzales, Bruno\\nGonzalez Muniesa, Pedro\\nGonzález, Víctor M. Víctor\\nGonzález-Bello, Concepción\\nGonzalez-Perez, Ruben R.\\nGonzalez-Polo, Rosa A\\nGonzález-Rodríguez, María Victoria\\nGonzález-Sarmiento, Rogelio\\nGopalakrishnan, Vidya\\nGorgoulis, Vassilis G.\\nGörgün, Güllü\\nGorman, Shelley\\nGorrell, M. D.\\nGosselet, Fabien\\nGoswami, Prabhat C.\\nGotea, Valer\\nGott, Jonatha M.\\nGöttle, Adrien J.\\nGough, Albert\\nGould, Gwyn\\nGoulielmos, George N.\\nGourion, Benjamin\\nGout, Ivan\\nGovindjee, Govindjee\\nGowdy, Kymberly\\nGoya, Luis\\nGrabelnych, Olga I.\\nGrabrucker, Andreas\\nGracias, David\\nGraeber, Kai\\nGraepel, Rabea\\nGraf, Norbert\\nGraham, Brian B.\\nGraham, Lloyd D.\\nGraham, Neil\\nGranberg, Fredrik\\nGrandfils, C.\\nGranot, David Granot\\nGrant, Ross\\nGrant, William\\nGraß, Rüdiger\\nGrassi, Gabriele\\nGrassi, Giovanni\\nGrattagliano, Ignazio\\nGrau, Veronika\\nGray, Mark\\nGray, N. D.\\nGreaves, Erin\\nGreco, Claudio\\nGreco, Francesco\\nGreenberger, Joel S.\\nGreene, Lesley H.\\nGreene, Nigel\\nGreenwood, David\\nGreenwood, Michael T.\\nGregory, Christopher\\nGregory-Bryson, Emmalena J.\\nGreim, Helmut\\nGresshoff, Peter\\nGrieco, Carmine R.\\nGrigorenko, Elena\\nGril, Brunilde\\nGrimaldi, Maurizio\\nGrimholt, Unni\\nGrinberg, Daniel\\nGrisk, Olaf\\nGrogan, Gideon\\nGross, Bradley A.\\nGross, Gerhard\\nGrossini, Dott. E.\\nGroves, Danja S.\\nGruber, Gerald\\nGruber, Helen E.\\nGruber, Reinhard\\nGruenheit, Nicole\\nGruzman, A.\\nGrzmil, Michal\\nGu, Wenyi\\nGudiminchi, Rama\\nGudiña, Eduardo\\nGuerau-De-Arellano, Mireia\\nGuerrero, Juan Miguel\\nGuerriero, Gea\\nGugliucci, Alejandro\\nGuha, Rajarshi\\nGuillaume-Gentil, Orane\\nGuillot, Thomas\\nGuil-Luna, Silvia\\nGulati, Pawan\\nGulick, Patrick J.\\nGullo, Maria\\nGuo, Jianming\\nGuo, Min\\nGuo, Peixuan\\nGuo, Z. Sheng\\nGupta, Ankit\\nGupta, Madhulika A.\\nGupta, Mukesh Kumar\\nGupta, Sanjay\\nGupta, Sanjeev\\nGurevich, Vsevolod V.\\nGust, Kurt A.\\nGutiérrez, S.\\nGutiérrez-Juárez, Roger\\nGutiérrez-Uribe, Janet A.\\nGutschner, Tony\\nGuttery, David\\nGuttmann, Rodney P.\\nGuven, Esra Pamukcu\\nGuzzo, Rosa M.\\nHa, Ki-Tae\\nHabersetzer, François\\nHackenberg, Michael\\nHadjipavlou-Litina, Dimitra\\nHaese, Patrick C. D.\\nHagedoorn, Peter-Leon\\nHagenacker, Tim\\nHagenbuch, Bruno\\nHaglund, Lisbet\\nHagmann, Sébastien\\nHai, Bo\\nHaigh, Cathryn\\nHajdu, Joseph\\nHalappanavar, Sabina\\nHallberg, B.\\nHalldén, Sara\\nHamanishi, Junzo\\nHamberger, Björn\\nHamdane, Djemel\\nHamik, Anne\\nHamrah, P.\\nHamza, Adel\\nHan, Amy\\nHan, Derick\\nHan, Jin\\nHan, Jung Min\\nHan, Sang-Bae\\nHan, Sung Soo\\nHan, Yeon Soo\\nHan, Yifan\\nHanas, Jay\\nHancock, Chad R.\\nHankinson, Oliver\\nHanks, Lynae J.\\nHansen, Immo A.\\nHanson, Johannes\\nHanson, Pamela K.\\nHaqqi, Tariq M.\\nHara, Takafumi\\nHardeland, Rudiger\\nHarder, Juergen\\nHarding, P.\\nHardingham, Jennifer E.\\nHardtke-Wolenski, Matthias\\nHardy, John George\\nHare, Joshua M.\\nHarmon, John W.\\nHaroutounian, Serkos A.\\nHarper, Matthew\\nHarrison, Paul H. M.\\nHart, David A.\\nHartmann, Erica\\nHaselberg, Rob\\nHashimi, Saeed\\nHashimoto, H.\\nHashimoto, Kenji\\nHashimoto, Naohiro\\nHashimotoa, Takashi\\nHaspel, Nurit\\nHassan, Mohamed\\nHatano, Etsuro\\nHatano, Tsutomu\\nHatta, H.\\nHattori, Noboru\\nHatzopoulos, Stavros\\nHaugen, Håvard\\nHaumaitre, Cécile\\nHavird, Justin C.\\nHayakawa, Tohru\\nHayashi, Jun-Ichi\\nHayashi, Satomi\\nHayashida, Morihiro\\nHayes, Maria\\nHazlett, Linda D.\\nHe, Jingwei\\nHe, Songbing\\nHead, David A.\\nHeadley, Allan\\nHecht, Jacqueline T.\\nHecker, A.\\nHedeland, Mikael\\nHedley, Peter\\nHee, Kang\\nHegde, Muralidhar L.\\nHehlgans, Stephanie\\nHeijde, Marc\\nHeim, Sabine\\nHeimler, Daniela\\nHeitz, Thierry\\nHelariutta, Yrjö\\nHellewell, Sarah C\\nHellstrom, Ingegerd\\nHelms, J. Bernd\\nHelttunen, Kaisa\\nHemmer, E.\\nHemmerlin, Andréa\\nHemmings, D. G.\\nHempel, Ute\\nHenao-Martinez, Andres Felipe\\nHendriks, Rudi W.\\nHendrix, Mary J. C.\\nHennig, Janosch\\nHenrion, Daniel\\nHenriques, Romina\\nHer, Chengtao\\nHer, Guor Mour\\nHermosín-Gutiérrez, Isidro\\nHernández Ledesma, Blanca\\nHernández, Florencio E.\\nHernandez, Nouria\\nHernandez-Alcoceba, Ruben\\nHeron, Dwight\\nHerrero Ezquerro, Maria-Trinidad\\nHerrero, María Jesús\\nHerrmann, Thomas\\nHersh, Louis B.\\nHershey, John W. B.\\nHertog, Jeroen den\\nHettich, Robert\\nHettinga, Kasper\\nHeusch, Gerd\\nHeuzey, Marie-Claude\\nHickey, Michael J.\\nHidari, Kazuya I. P. J.\\nHideyuki, Mitomo\\nHigashi, Shougo\\nHigashitani, Atsushi\\nHiggins, Paul J.\\nHigo, Junichi\\nHinkel, Rabea\\nHinsenkamp, Maurice\\nHintze, Vera\\nHirabara, Sandro M.\\nHirai, Itaru\\nHirakawa, Kazutaka\\nHiramoto, Keiichi\\nHirano, Katsuya\\nHirase, Hajime\\nHirashima, Akinori\\nHirata, Yoshihiro\\nHird, Michael\\nHiroaki, Fujii\\nHiroaki, Ooboshi\\nHirota, Kiichi\\nHiroto, Satoru\\nHirsch, Michelle S.\\nHo, Michael (Shan-Hui)\\nHo, Shin-Lon\\nHo, Wen-Fu\\nHo, Yuan-Soon\\nHocevar, Barbara A.\\nHochreiter, Sepp\\nHocquette, Jean-François\\nHodson, David J.\\nHoffman, Robert\\nHoffmann, Georg\\nHoffmann, Katherine\\nHoffmann, Thomas J.\\nHöfinger, Siegfried\\nHogarth, Cathryn A.\\nHogberg, Helena\\nHogg, Philip\\nHolen, Ingunn\\nHolinstat, Michael\\nHolland, William L.\\nHolloway, Alison C.\\nHolmøy, Trygve\\nHolstein, G. R.\\nHoltzman, Jordan L.\\nHomer, Hayden Anthony\\nHonda, Kazuhisa\\nHondermarck, Hubert\\nHong, Jin Tae\\nHong, Jongki\\nHong, Kyung U.\\nHong, Yonggeun\\nHong-Brown, Ly Q.\\nHonoré, Patrick M.\\nHoole, Stephen P.\\nHooven, Louisa\\nHooykaas, Paul\\nHori, Tomohide\\nHörkkö, Sohvi\\nHorn, Simon\\nHornberger, Troy A.\\nHorner, Ashley\\nHorwood, Nicole J.\\nHosgood III, H. Dean\\nHostager, Bruce\\nHotta, Mikinori\\nHotz, Nico\\nHou, Anfu\\nHou, Chien-Wei\\nHou, Tingjun\\nHouen, Gunnar\\nHour, Mann-Jen\\nHouston, Ross\\nHowes, Melanie\\nHowie, Sarah\\nHowitt, Jason\\nHricak, Hedvig\\nHsieh, Chi-Hsun\\nHsieh, Yih-Shou\\nHsieh, Yi-Hsien\\nHsing, Chung-Hsi\\nHsu, Cheng-Che\\nHsu, Chin-Lin\\nHsu, Hsiu-Fu\\nHsu, Li-Sung\\nHsu, Ming-Jen\\nHsu, Todd\\nHsueh, Yu-Mei\\nHu, Che-Ming Jack\\nHu, Fenghua\\nHu, Jer-Ming\\nHu, Lingzhi\\nHu, Ming-Chang\\nHu, MingKuan\\nHu, Tianhui\\nHu, Valerie W.\\nHu, Xiaoming\\nHu, Zhuowei\\nHuang, A-Mei\\nHuang, Bu-Miin\\nHuang, Chiu-Jung\\nHuang, Chi-Yu\\nHuang, Jian\\nHuang, Jianying\\nHuang, Ming Te\\nHuang, Tai-Chung\\nHuang, Tao\\nHuang, Tien L.\\nHuang, Wei-Chien\\nHuang, Wen-Lii\\nHuang, Ya-Ling\\nHuang, Ying\\nHuang, Ying-Hsien\\nHuang, Yu\\nHuefner, Antje\\nHuen, Sarah C.\\nHull, Joe\\nHumblot, Vincent\\nHumpel, Christian\\nHund, Thomas J.\\nHung, Andrew\\nHung, Chao-Hung\\nHung, Jan-Jong\\nHupp, Ted\\nHuppi, Konrad\\nHur, Mina\\nHurdle, Julian\\nHurel, Charlotte\\nHurlé, Juan\\nHurst, Robert E.\\nHurst, Roger D.\\nHusa, Matt\\nHusain, Mainul\\nHussain, Saber M.\\nHussain, Salik\\nHvidsten, Torgeir R.\\nHwang, Daniel H.\\nHwang, Jeng-Jong\\nHwang, Tsong-Long\\nHyogo, Hideyuki\\nHyun, Sang-Hwan\\nIacobazzi, Vito\\nIafisco, Michele\\nIbiebele, Torukiri I.\\nIchihara, S.\\nIdoyaga, Juliana\\nIgwe, Orisa J.\\nIinuma, Hisae\\nIles, Ray\\nIm, Chaeuk\\nIm, Hee-Jeong\\nImamura, Masanori\\nImamura, Tetsuya\\nImhof, Petra\\nInaba, Kenji\\nInácio, Angela\\nIncoronato, Mariarosaria\\nInestrosa, Nibaldo C.\\nInman, Sharon\\nInoue, Atsuko\\nInoue, Ken-Ichiro\\nInoue, Naoya\\nInsam, Heribert\\nInsel, Paul A.\\nInukai, Yoshiaki\\nInuzuka, Hiroyuki\\nInvernizzi, Pietro\\nIorizzi, Maria\\nIqbal, Samir\\nIrache, Jose Manuel\\nIraci, Nunzio\\nIrato, Paola\\nIrwin, David C.\\nIsaka, Yoshitaka\\nIshido, Masami\\nIshii, Isao\\nIshii, Tetsuro\\nIshikawa, Haruki\\nIshikura, Minoru\\nIshimaru, Kanji\\nIshino, Fumitoshi\\nIshizaki, Takuma\\nIshmael, Faoud T.\\nIshman, P. F.\\nIsmail, Heba M. S.\\nIsobe, N.\\nIsoda, Katsuhiro\\nIsokpehi, Raphael D.\\nIstvan, Boldogh\\nIto, Akihiko\\nIto, Michiho\\nIto, Shigeki\\nItoh, Ken\\nItskov, Mikhail\\nIuchi, T.\\nIvell, Richard\\nIwaki, Takayuki\\nIwamori, Masao\\nIwamoto, Ryo\\nIwamoto, Sadahiko\\nIwaniec, Urszula T.\\nIwasaki, Kenta\\nIwasaki, Tomohiro\\nIwasaki, Yugo\\nIwata, Shigeru\\nIzabel Camargo, Maria\\nIzumi, N.\\nIzumi, Yasuo\\nJabbari, Siavash\\nJaber, Maguy\\nJablonska, Ewa\\nJacob, Francis\\nJacobsen, Donald W.\\nJaeger, Henry\\nJaeger, Kinan\\nJaeschke, Hartmut\\nJahandideh, Samad\\nJaime, Laura\\nJain, Abhinav\\nJain, Mohan Shri\\nJakobsdottir, Greta\\nJalili, Thunder\\nJalowiecki-Duhamel, L.\\nJames, Philip\\nJanczarek, Monika\\nJanda, Elzbieta\\nJanfelt, Christian\\nJang, Byoung Kuk\\nJang, Kyung Lib\\nJang, Seonghoe\\nJanin, Joël\\nJanji, Bassam\\nJanouškovec, Jan\\nJansen, Gerrit\\nJarmuszkiewicz, Wieslawa\\nJarret, Robert L.\\nJat, Parmjit S.\\nJaudal, Mauren Jaudal\\nJavanmard, Mehdi\\nJavier Rodríguez, Francisco\\nJaworska, Natalia\\nJayasinghe, Suwan\\nJeanplong, Ferenc\\nJedlinek, Herbert\\nJeeninga, Rienk E\\nJelinek, D. F.\\nJennings, Jessica A\\nJennings, Robert M.\\nJeon, You-Jin\\nJeong, Ki Jun\\nJeschke, Marc\\nJeschke, Udo\\nJessop, Forrest\\nJesus Raposo, Maria Filomena\\nJeyaseelan, Kandiah\\nJi, Junyuan\\nJia, Chenxi\\nJia, Fan\\nJia, Qi\\nJiang, Liwen\\nJiang, P. X.\\nJiang, Shu-Ye\\nJiang, Xian\\nJiang, Xiaohua\\nJimeno, Ciril\\nJin, Chongwei\\nJin, Guangfu\\nJin, Sha\\nJin, Yan\\nJoanne, Yip\\nJohn, James A. St.\\nJohnsen, John Inge\\nJohnson, Kristen\\nJohnson, Randy L.\\nJohnson, Tom\\nJoles, Jaap A.\\nJoly, David\\nJonas, Jean-Christophe\\nJones, Jessica L.\\nJones, K.\\nJones, Kevin B.\\nJonesa, Alan M.\\nJonesa, G. T.\\nJoo, Hong-Gu\\nJose M, Alía\\nJosefsson, Emma\\nJoseph, Winaver\\nJoshi, Mandar S.\\nJoven, Jorge\\nJovin, Thomas\\nJulian, Colleen Glyde\\nJung, Klaus\\nJung, Seunho\\nJung, Youngmi\\nK. Deyholos, Michael\\nKaczor, Agnieszka\\nKadota, Kazunori\\nKadowaki, Norimitsu\\nKagadis, George C.\\nKagawa, Tetsushi\\nKahaly, G. J.\\nKahle, Philip P.\\nKaina, Bernd\\nKaji, Hirokazu\\nKajiya, Kentaro\\nKakar, Sham\\nKako, Tetsuya\\nKalajdzic, Predrag\\nKalamarides, M\\nKaludercic, Nina\\nKambe, Naotomo\\nKamiya, Hidehiro\\nKämmerer, Peer W.\\nKanaoka, Masahiro\\nKanda, Tatsuo\\nKandimalla, Ekambar R.\\nKandola, Baljinder\\nKane, Patricia M.\\nKaneko, Kazunari\\nKaneoka, Hidenori\\nKang, Byoung-Cheorl\\nKang, H.\\nKang, Hunseung\\nKang, Kwon-Kyoo\\nKang, Kyung Pyo\\nKang, Se Chan\\nKang, Sinyoung\\nKanno, Yuichiro\\nKantartzis, Konstantinos\\nKantharidis, Phillip\\nKanzaki, Hiroyuki\\nKao, Jia-Horng\\nKapiloff, Michael S.\\nKapoor, Mohit\\nKarabencheva, Tatyana\\nKarakasidis, T. E.\\nKärenlampi, Sirpa\\nKarger, Axel\\nKarginov, Ted\\nKarlic, Heidrun\\nKarpukhina, Natalia\\nKaschina, Elena\\nKase, Satoru\\nKashiwakura, Ikuo\\nKashyap, Rahul\\nKasimanickam, Vanmathy R.\\nKasiotis, Konstantinos M\\nKassiri, Zamaneh\\nKataoka, Hiromi\\nKatayama, Shigeru\\nKatinakis, Panagiotis\\nKato, Hirohito\\nKato, Tadafumi\\nKato, Tatsuya\\nKato, Yoko\\nKatoh, Masaru\\nKatrin, Becker-Flegler\\nKatsel, Pavel\\nKatsuki, Hiroshi\\nKatsuta, Shoichi\\nKaur, Charanjit\\nKaur, Gurbinder\\nKav, Nat N. V.\\nKawaguchi, H.\\nKawai, Toshiyuki\\nKawano, Tsuyoshi\\nKawasaki, Hideki\\nKawazu, K.\\nKayano, Shin-Ichi\\nKayser, Oliver\\nKeeble, Julie Elizabeth\\nKefas, Benjamin\\nKelleher, Fergal C.\\nKemp, Kevin\\nKeng, Vincent W.\\nKeong, Kwoh Chee\\nKern, Wolfgang\\nKersten, Sander\\nKessel, David\\nKessler, Vadim\\nKessler-Icekson, Gania\\nKeul, Helmut\\nKhalaila, Isam\\nKhamisy, Sherif F. El\\nKhan, Anzar\\nKhanna, Savita\\nKhurana, Sandeep\\nKiani, Mohammad F.\\nKichambare, Padmakar D.\\nKidd, La Creis R.\\nKidron, Heidi\\nKieda, Claudine\\nKiesslich, Tobias\\nKihara, Nobuhiro\\nKikuchi, E.\\nKim, Albert H.\\nKim, Beom Joon\\nKim, Chong Jai\\nKim, Deok Ryong\\nKim, Gyoo Cheon\\nKim, Hak Yong\\nKim, Hyun-Woo\\nKim, Ick Young\\nKim, Il-Man\\nKim, Jae Bum\\nKim, Jae Kwang\\nKim, Jae-Hong\\nKim, Jayoung\\nKim, Jeong Hun\\nKim, Jin Cheon\\nKim, Jin-Wook\\nKim, Ji-Su\\nKim, Jong Sung\\nKim, Jong-Min\\nKim, Kiyoung\\nKim, Kwang S.\\nKim, Kwang Sik\\nKim, Min Young\\nKim, Ok Tae\\nKim, S.\\nKim, Sang-We\\nKim, Seong-Gon\\nKim, Sun Hwa\\nKim, Sun Yeou\\nKim, Sung Hoon\\nKim, Sung Soo\\nKim, Sungjee\\nKim, Tae Hoon\\nKim, W. K.\\nKim, Won Ho\\nKim, Woo Ho\\nKim, Yong-Dae\\nKim, Yong-June\\nKim, Young-Mok\\nKim, Young-Sik\\nKim, Youngsoo\\nKind, Tobias\\nKindy, Mark\\nKing, Paul W.\\nKinsel, Gary\\nKinsey, William H.\\nKinugawa, S.\\nKipp, Anna P.\\nKirby, Ralph\\nKirchhoff, Frank\\nKirimura, Kohtaro\\nKirk, Martin L.\\nKirsch, Gilbert\\nKiselyov, Kirill\\nKitagawa, Fumihiko\\nKitajima, Shigetaka\\nKlampfer, Lidija\\nKlatt, Christian G\\nKlaver, Caroline\\nKlechevsky, Eynav\\nKlegeris, Andis\\nKlein, David C.\\nKleindienst, Andrea\\nKleszczyński, Konrad\\nKleuser, Burkhard\\nKlinke, David\\nKloc, Malgorzata\\nKlokov, Dmitry Y.\\nKlugbauer, Norbert\\nKnapp, Stefan\\nKnetsch, Menno L. W.\\nKnippschild, Uwe\\nKnox, Paul\\nKnüppel, Sven\\nKo, Hyun-Jeong\\nKo, Jane L.\\nKo, Jih-Yang\\nKo, Jiunn-Liang\\nKo, Young Tag\\nKo, Young-Gyu\\nKobayashi, H.\\nKobayashi, Masato\\nKobayashi, Yoshiro\\nKobayashi, Yukiho\\nKobeissy, Firas H.\\nKoblmüller, Stephan\\nKöcher, Thomas\\nKöck, Robin\\nKoebnik, Ralf\\nKoek, Ger H.\\nKoga, Fumitaka\\nKoh, Young Ho\\nKoh, Young-Hag\\nKojima, Akiko\\nKojima, Chie\\nKojima, Masami\\nKojima, Tetsuya\\nKok, Jan\\nKok, Klaas\\nKokoh, K. B.\\nKolbe, L.\\nKolehmainen, Erkki\\nKolettis, Theofilos M.\\nKolovou, Genovefa\\nKolppo, Kari\\nKomasa, Satoshi\\nKomine, Mayumi\\nKondo, Eisaku\\nKondo, Hidehiro\\nKondo, Tadashi\\nKondratov, Roman V.\\nKong, Yawei\\nKonje, Justin\\nKonsman, Jan-Pieter\\nKontro, Inkeri\\nKoo, In Sun\\nKoole, Leo H.\\nKoos, Antal A.\\nKooyman, David L.\\nKopra, Kari\\nKoraishy, Farrukh M.\\nKorsching, Eberhard\\nKossida, Sophia\\nKösters, Markus\\nKostiainen, Mauri A.\\nKostopoulos, Spiros\\nKötting, Carsten\\nKourkoumelis, Nikolaos\\nKoves, Tim\\nKowalczyk, Mariusz\\nKoya, Daisuke\\nKoyama, Hiroyuki\\nKramer, Phillip\\nKrantz, Bryan A.\\nKratzer, Regina\\nKraus, Virginia B.\\nKrawinkel, Michael B.\\nKrenek, Sascha\\nKretz, Markus\\nKreutz, Rolf P.\\nKristian, Tibor\\nKroner, E.\\nKronholm, Ilkka\\nKrysko, Olga\\nKuan, Yu-Hsiang\\nKubitscheck, Ulrich\\nKuboki, Takuo\\nKubota, Naoto\\nKudo, Yasusei\\nKues, Wilfried A.\\nKukol, Andreas\\nKuliawat, Regina\\nKulka, Marianna\\nKumar-Singh, Samir\\nKundu, Joydeb Kumar\\nKuntz, Marcel\\nKunze, Gotthard\\nKuo, Mei-Ling\\nKuo, Tzong-Fu\\nKuramae, Eiko\\nKurasaki, Masaaki\\nKurdowska, Anna K.\\nKurgan, Lukasz A.\\nKurhanewicz, John\\nKurita, Hirofumi\\nKurokawa, Masahiko\\nKurose, Hitoshi\\nKurreck, Jens\\nKurtti, Timothy\\nKusakabe, Takahiro\\nKusano, Miyako\\nKuschal, Christiane\\nKushibiki, Toshihiro\\nKuster, Diederik\\nKusumoto, Norihisa\\nKuwahara, Koichiro\\nKvítek, Libor\\nKweon, Oh-Kyeong\\nKwon, Do Hoon\\nKwon, Dong-Yeul\\nKyprianou, Natasha\\nKypta, Robert\\nL Budarin, Vitaliy\\nLaakkonen, Pirjo M.\\nLaane, R. W. P. M.\\nLacaille-Dubois, Marie-Aleth\\nLacerra, Giuseppina\\nLadeira, Carina\\nLaederach, Alain\\nLaekeman, Gert\\nLagrost, Corinne\\nLaguna, Mariano\\nLaher, Ismail\\nLahiri, Abhishek\\nLai, Chien-Chen\\nLai, Hsin-Chih\\nLai, Xianyin\\nLakin-Thomas, Patricia L.\\nLal, Shailesh K.\\nLalowski, Maciej\\nLam, Hon Ming\\nLam, Jenny K. W.\\nLamartine, Jérôme\\nLambrides, Christopher J.\\nLanaspa, Miguel A.\\nLandis-Piwowar, Kristin\\nLandreville, Solange\\nLane, Lydie\\nLanekoff, Ingela\\nLang, Siegmund\\nLangel, Walter\\nLangner, Cord\\nLanteri, S.\\nLapierre, Pascal\\nLapres, John J.\\nLaranjo, Marta\\nLarizza, Lidia\\nLarjava, Hannu S.\\nLarkin, Jonathan\\nLarkin, Philip J.\\nLarrainzar, Estibaliz\\nLarsen, Søren T.\\nLarson, Nicholas B.\\nLarsson, Per\\nLartigue-Faustin, Lydia\\nLash, Larry\\nLászló, Juhász\\nLathia, Justin\\nLathrop, Richard H.\\nLau, Hang Yung Alaster\\nLau, Joseph\\nLau, Kin-Hing William\\nLau-Cam, Cesar A.\\nLauria, Antonino\\nLauterbach, E. C.\\nLauzon, Carol R.\\nLavandera, Ivan\\nLavelli, Vera\\nLawless, Matthew W.\\nLazartigues, Eric\\nLazzara, Giuseppe\\nLazzarato, Loretta\\nLe Borne, Sylvie\\nLe Visage, Catherine\\nLe, Quang Si\\nLeach, Katie\\nLeal, Ermelindo C.\\nLedesma, Maria Dolores\\nLee, Bor-Shiunn\\nLee, Byong\\nLee, C.-H.\\nLee, Changjoon Justin\\nLee, Chang-Soo\\nLee, Ching-Kuo\\nLee, Chong-Kil\\nLee, Dae Ho\\nLee, Davy Cw\\nLee, Dong Hoon\\nLee, Eunjoo H.\\nLee, Eun-Ok\\nLee, Hangil\\nLee, Hsinyu\\nLee, Huei\\nLee, Hye Suk\\nLee, Hyunjoo\\nLee, In Seop\\nLee, J.-H.\\nLee, Jae Hoon\\nLee, Jae Hwan\\nLee, Jae-Ho\\nLee, James C.\\nLee, Jandee\\nLee, Jeong-Chae\\nLee, Jin Soo\\nLee, Jong-Hwan\\nLee, Jun Sik\\nLee, Ki Hoon\\nLee, Kwang Ho\\nLee, Kyu Wan\\nLee, Lin-Wen\\nLee, L. T. O.\\nLee, Myung Koo\\nLee, Sanghyeob\\nLee, Taeseung\\nLee, Tzong-Shyuan\\nLee, Vincent Ws\\nLee, Wei\\nLee, Wen-Ying\\nLee, Wing-Kee\\nLee, Wonhye\\nLee, Wonoh\\nLee, Woo Sung\\nLee, Yang Won\\nLee, Yeon-Ju\\nLee, Yeon-Su\\nLee, Yong Sun\\nLee, Young\\nLee, Young Ho\\nLee, YoungJoo\\nLee, Yun-Shien\\nLee, Zang Hee\\nLeegwater, P. A. J.\\nLegault, Pascale\\nLehtonen, Sanna\\nLei, X.-H.\\nLei, Xia\\nLeicht, Anthony\\nLeifert, Wayne R\\nLellouche, Nicolas\\nLemarié, Anthony\\nLemasson, Isabelle\\nLenaz, Giorgio\\nLenzen, Sigurd\\nLeonard, Alan C.\\nLeonard, Anna V.\\nLeonardi, Salvatore\\nLeong, David Tai\\nLeoni, Giovanni\\nLeonidas, Demetres D.\\nLeopold, Jane A.\\nLerch, M.\\nLesch, Bluma J.\\nLeslie, J. C.\\nLessard, Christopher\\nLessman, Charles\\nLeszczynska, D.\\nLeto, Thomas L.\\nLeu, Steve\\nLeu, Sy-Jye\\nLeung, Angela M.\\nLeung, Patrick S. C.\\nLevine, Beth\\nLevinson, Ralph D\\nLevkau, Bodo\\nLevy, Oren\\nLewis, Sheena E. M.\\nLewy, Alfred J.\\nLey, A. C.\\nLezot, Frédéric\\nLi, Albert P.\\nLi, Ang\\nLi, Bailing\\nLi, Bing\\nLi, Chi\\nLi, Dongpei\\nLi, Fengzhi\\nLi, Gang\\nLi, George\\nLi, James C. B.\\nLi, Jingjing\\nLi, Jinjun\\nLi, Jinping\\nLi, Kui\\nLi, Kuo-Bin\\nLi, Maoyin\\nLi, Menglong\\nLi, Ning\\nLi, Qingshun\\nLi, Rongpeng\\nLi, Rugang\\nLi, Shaoping\\nLi, Tiangang\\nLi, Tieshi\\nLi, Tsung-Lin\\nLi, Wen-Hong\\nLi, Xiang-An\\nLi, Xiaohui\\nLi, Xudong Joshua\\nLi, Yi\\nLi, Yinxin\\nLi, Yongfang\\nLi, Yuexian\\nLi, Zonghai\\nLiang, Carol Jiurong\\nLiang, Chia-Hua\\nLiang, Gaolin\\nLiang, Jie\\nLiang, Li\\nLiang, Po‑Huang\\nLiang, Xue-Hai\\nLianidou, Evi\\nLiao, Chien-Sen\\nLiao, Joshua\\nLiao, Pei-Chun\\nLiao, Ying-Chih\\nLibert, Sergiy\\nLiebau, Stefan\\nLilja, Mirjam\\nLim, Keng Gat\\nLim, Kyung-Min\\nLim, Sung-Jig\\nLim, Yoongho\\nLimpens, Erik\\nLin, Chang-Shen\\nLin, Chao-Nan\\nLin, Chih-Chien\\nLin, Chih-Yuan\\nLin, Chii-Wann\\nLin, Chiou-Feng\\nLin, Guiting\\nLin, Gui-Ting\\nLin, Hai-Shu\\nLin, Ho\\nLin, Honghuang\\nLin, Huilan\\nLin, Hung Wen\\nLin, Hung-Yin\\nLin, Jin-Yuarn\\nLin, Junyan\\nLin, K.-H.\\nLin, Ming-Chung\\nLin, Nancy\\nLin, Qinsong\\nLin, Shengda\\nLin, Shu\\nLin, Shwu-Jiuan\\nLin, Tsan-Piao\\nLin, Wan-Wan\\nLin, Wensheng\\nLin, Xi\\nLin, Yenshou\\nLin, Ying-Ju\\nLin, Yu-Hsin\\nLin, Yun-Lian\\nLinard, Christine\\nLindeman, Jan\\nLindermayr, Christian\\nLindfors, N. C.\\nLindholm, Dan\\nLindsay, Denise\\nLindstrand, Anna\\nLindström, Mikael\\nLinert, Wolfgang\\nLing, Geoff\\nLing, Hui\\nLing, Maurice Ht\\nLing, Yong-Chien\\nLinnebacher, Michael\\nLinsell, Katherine\\nLiou, Jing-Ping\\nLiou, Ying-Ming\\nLippens, Guy\\nLippitz, Bodo\\nLirk, P.\\nLisman, Ton\\nLisse, Thomas\\nLittle, Peter J.\\nLiu, Allen P.\\nLiu, Alvin Y.\\nLiu, Bin\\nLiu, Chia-Yang\\nLiu, Chun-Hung\\nLiu, Delong\\nLiu, Hung J.\\nLiu, Jiandong\\nLiu, Jie\\nLiu, Li\\nLiu, Li-Feng\\nLiu, Ming\\nLiu, Ping\\nLiu, Qiang\\nLiu, Renyi\\nLiu, Shing-Hwa\\nLiu, Shiuh-Tzung\\nLiu, Song\\nLiu, Song-Tao\\nLiu, Tie Fu\\nLiu, Tzong-Shi\\nLiu, Xiaohua\\nLiu, Xuehong\\nLiu, Xueqian\\nLiu, Yonghong\\nLiu, Zhandong\\nLizarraga, Karlo J.\\nLleò, Maria M.\\nLo, Huang-Mu\\nLo, Jeng-Fan\\nLo, Kevin W.-H.\\nLo, Mindy S.\\nLo, Peggy P. K.\\nLo, Pui-Chi\\nLoarca-Piña, Guadalupe-Flavia\\nLoboda, Agnieszka\\nLockridge, Oksana\\nLodola, Alessio\\nLoeb, David M.\\nLoffredo, Lorenzo\\nLofrumento, Dario D.\\nLoh, Xian Jun\\nLohi, Olli\\nLoike, John\\nLokshin, Anna\\nL'Ollivier, Coralie\\nLombard, David B.\\nLonardo, Amedeo\\nLopes, F.\\nLópez, Adrián González-\\nLópez, F.\\nLopez, Mandi\\nLópez-Jaramillo, F Javier\\nLoprinzi, Charles L.\\nLord, Edith\\nLorenz, Kristina\\nLorenzetti, Diego\\nLorenzo, O.\\nLorite, I.\\nLosano, Gianni\\nLouime, Clifford\\nLouis, Petra\\nLouria-Hayon, Igal\\nLowe, Martin\\nLpez-Legentil, Susanna\\nLu, Rui Ray\\nLu, Binfeng\\nLu, Hong\\nLu, Kuang-Hui\\nLu, Lianghao\\nLu, Ming-Wei\\nLu, Pei-Luen\\nLu, Tse-Min\\nLu, Xiaonan\\nLu, Ze\\nLübeck, Mette\\nLucas, Christopher D.\\nLuco, Reini F.\\nLudwig, Marie-Gabrielle\\nLugnier, Claire\\nLui, Vincent Chi-Hang\\nLuijsterburg, Martijn\\nLum, Julian J.\\nLumini, Alessandra\\nLundqvist, Andreas\\nLundstrom, Kenneth\\nLuo, Feng\\nLuo, Xuelian\\nLupiáñez, José A.\\nLustig, Robert\\nLütteke, Thomas\\nLutter, Petra\\nLynch, Cian J.\\nLysaght, J.\\nMa, Chao-Mei\\nMa, Edmond Dik-Lung\\nMa, Guojia\\nMa, Hong\\nMa, Qiang\\nMa, Xiaosong\\nMa, Xiaoyue\\nMa, Yi\\nMa, Yongjie\\nMa, Yuelong\\nMaak, S.\\nMaass, Alexander H.\\nMacchiarini, Paolo\\nMacDonald, Justin A.\\nMacDonald, Ruth\\nMace, Thomas\\nMachado, Artur da Câmara\\nMachelon, Véronique\\nMacias, Rocio I. R.\\nMackintosh, Carol\\nMackman, Nigel\\nMacossay, Javier\\nMadduri, Srinivas\\nMadej, Thomas\\nMadesis, Panagiotis\\nMadhukar, Burra\\nMadry, Henning\\nMaeda, Kazuhiko\\nMaeda, Kazuya\\nMaeda, Shiro\\nMäenpää, Johanna U.\\nMaestri, Elena\\nMagiatis, Prokopios\\nMaglia, Giovanni\\nMagliano, Dianna J.\\nMagor, Katharine E.\\nMahasenan, Kiran\\nMaher, William\\nMahimainathan, Lenin\\nMahony, Timothy John\\nMai, Antonello\\nMaillard, Ludovic\\nMaki, Kosuke\\nMalaguarnera, Michele\\nMalemud, Charles J.\\nMallanna, Sunil K.\\nMallepally, Rajendar R.\\nMalling, Tine\\nMaly, Kenneth E.\\nMamo, Gashaw\\nManara, Anna\\nMancheño, José\\nManchia, Mirko\\nMandrich, Luigi\\nMangoni, Arduino A.\\nManian, Avinash P.\\nManiwa, Yoshimasa\\nMann, Francis\\nMannello, Ferdinando\\nMannen, H.\\nMano, João F.\\nManolson, Morris F.\\nManoranjan, Branavan\\nMansoorabadi, Steve\\nMantha, Anil K.\\nManzanares, Paloma\\nMaojo, Victor\\nMapelli, Marina\\nMaraldi, Tullia\\nMarcelli, Augusto\\nMarcello, Alessandro\\nMarchetti, Philippe\\nMarchiò, Caterina\\nMarcos, Mercedes\\nMarcotullio, Maria Carla\\nMarcu, Kenneth B.\\nMarcucci, Fabrizio\\nMaréchal-Drouard, Laurence\\nMaria-Consuelo del Cañizo, M. C.\\nMariani, Giuliano\\nMariggiò, Maria A.\\nMarin-Castaño, Maria E.\\nMarini, Juan C.\\nMarinò, Michele\\nMarino, Silvia\\nmario, dellagli\\nMariottini, Gian Luigi\\nMarkwardt, Fritz\\nMarmiroli, Nelson\\nMaroteaux, Luc\\nMarques, Fernanda\\nMarriott, Ian\\nMarsano, Francesco\\nMarsolais, Frédéric\\nMartel, Sophie\\nMartens, John Wm\\nMartin, Harry\\nMartin, Luc J.\\nMartín, María Ángeles\\nMartin, Melanie\\nMartin, R. A.\\nMartin, Sarah A.\\nMartin, Seth S.\\nMartin, T. J.\\nMartin-Diana, Ana Belen\\nMartinelli, Adriano\\nMartinez, Alexandre\\nMartinez, Javier\\nMartinez, Manuel\\nMartínez-Abarca, Francisco\\nMartínez-Chantar, Maria L.\\nMartinez-Marcos, Alino\\nMartino, Sabata\\nMartins, Tiago\\nMartos Moreno, Gabriel Angel\\nMarty, Jean-Daniel\\nMartynyuk, Anatoly E.\\nMaruyama, Ichiro N.\\nMaruyama, Kei\\nMaruyama, Toru\\nMasaki, Takayuki\\nMasci, Stefania\\nMasilamani, Madhan\\nMasotti, Andrea\\nMàsson, Màr\\nMasters, Colin L.\\nMastrangelo, Anna M.\\nMasuda, Haruchika\\nMasuda, Yuki\\nMataftsi, A.\\nMateo, Estibaliz\\nMatés, José M.\\nMatilla, A. J.\\nMatsopoulos, George K.\\nMatsuda, Hisashi\\nMatsuda, Yoko\\nMatsueda, Satoko\\nMatsugo, Seiichi\\nMatsui, Hirotaka\\nMatsumiya, Masahiko\\nMatsumoto, Akikazu\\nMatsumoto, Kozo\\nMatsumoto, Takayuki\\nMatsumura, Sachiko\\nMatsumura, Takeshi\\nMatsuoka, Daisuke\\nMatsuoka, Masaaki\\nMatsushita, Takehiko\\nMatsuura, Bunzo\\nMatsuya, Yuji\\nMattarelli, Paola\\nMattei, Fabrizio\\nMattey, Derek L.\\nMatthew Ng, Chau Hsien\\nMatthews, Jason\\nMattoo, Abid R.\\nMatusiewicz, Magdalena\\nMavragani, Clio P.\\nMay, Petra\\nMayer, Andreas\\nMayer-Miebach, Esther\\nMazière, Cécile\\nMazza, Tommaso\\nMazzoccoli, Gianluigi\\nMcainsh, Martin R.\\nMcBain, Andrew\\nMcCarty, Owen\\nMcCormick, Alison\\nMcdonald, Kerrie\\nMcdonald, Peter\\nMcdougal, Owen M.\\nMcdougall, G. J.\\nMcFeeters, Robert L.\\nMcGill, Mitch\\nMcginley, John\\nMcinnes, Campbell\\nMcIntosh, Marla S.\\nMcmorrow, Tara\\nMcnamara, Shamus\\nMeachem, Sarah J.\\nMeade, Kieran\\nMedeiros, Rui\\nMedema, Jan Paul\\nMedina, Francisco Javier\\nMehlig, Kirsten\\nMehra, Reena\\nMehta, Ashish\\nMehta, Bijal K.\\nMei, Nan\\nMeins, Jean-François Le\\nMeiracker, Anton H. Van Den\\nMelkani, G. C.\\nMelloni, Edon\\nMemboeuf, Antony\\nMemelink, Johan\\nMenendez, Jose Carlos\\nMeng, Fanhong\\nMeng, Huan\\nMeng, Ling\\nMenna, Marialuisa\\nMenon, Madhav\\nMénoret, Séverine\\nMenten, Bjorn\\nMercader, R. J.\\nMercer, Jason\\nMercier, Y.\\nMerino, Gracia\\nMerkler, Doron\\nMerriman, Tony R.\\nMeruvu, Sunitha\\nMeyer, Rachel\\nMeyer-Hoffert, Ulf\\nMeyerholz, David\\nMezzanzanica, Delia\\nMi, Huaiyu\\nMi, Qing-Sheng\\nMichael, Iba\\nMichel, Martin\\nMichelsen, Kathrin S.\\nMichiels, C.\\nMichiels, Carine\\nMichielsen, Peter\\nMidde, K.\\nMielczarek, C.\\nMieog, Jos C.\\nMigliaccio, Anna Rita\\nMigliaresi, Claudio\\nMiguel, M. G.\\nMikami, Toshinari\\nMiki, Yasuhiro\\nMikkelsen, Deirdre\\nMikoshiba, Katsuhiko\\nMilan, Z.\\nMilcarek, Christine\\nMillard, Tom H.\\nMillecamps, Magali\\nMiller, Aaron W.\\nMiller, Allison\\nMiller, Barbara A.\\nMiller, Dylan V.\\nMiller, E.\\nMiller, Ingrid\\nMiller, John\\nMiller, Vandana\\nMilne, Kevin\\nMilner, Caroline M.\\nMinamino, Tohru\\nMinas, Kostas\\nMinelli, Alba\\nMinutolo, Filippo\\nMiosge, Nicolai\\nMir, Mustafa\\nMiranda, Carlos\\nMirande, Marc\\nMiron, Richard J.\\nMirzaei, Mehdi\\nMirzayans, Razmik\\nMisawa, Kazuharu\\nMisery, Laurent\\nMishra, Amaresh\\nMishur, Robert J.\\nMita, Giovanni\\nMitchell, Jennifer A.\\nMithöfer, Axel\\nMitra, Alok K.\\nMitra, Ashim K.\\nMiyamoto, Masaaki\\nMiyamoto, Takeshi\\nMiyaoka, Hiroaki\\nMiyashita, Tomoyuki\\nMiyatake, Shin-Ichi\\nMiyoshi, Taro\\nMizuno, Hideaki\\nMizuno, Tetsuya\\nMo, Huanbiao\\nMocanu, G.\\nModena, Piergiorgio\\nModugno, Francesca\\nMoeslinger, Thomas\\nMognato, Maddalena\\nMohabatka, Hassan\\nMohan, Helen M.\\nMohanty, Debasish\\nMoldovan, Florina\\nMoll, Frans\\nMolvarec, Attila\\nMonaco, Edward A. III\\nMonard, Gerald\\nMondragon, Alfonso\\nMoniche, F.\\nMonji, Akira\\nMonteiro Ramalhinho, Ana Cristina\\nMontenarh, Mathias\\nMonti, Maria Chiara\\nMoore, Paul H.\\nMoore, Tara C. B.\\nMorales, Rodrigo\\nMorán, José M.\\nMorandi, Luca\\nMorchón, Rodrigo\\nMoreno, J. J.\\nMoretó, Miquel\\nMorgan, Richard\\nMorgan, William F.\\nMori, Kiyoshi\\nMoriggl, Richard\\nMoriguchi, Shigeki\\nMorikawa, Masaaki\\nMorioka, Norimitsu\\nMorita, Kyoji\\nMoriya, Takahiro\\nMörl, Mario\\nMorris, Brian J.\\nMorris, Craig F.\\nMorris, John\\nMorris, Viola B.\\nMort, John S.\\nMorton, Charles Oliver\\nMoscardó, Antonio\\nMoschetta, Michele\\nMoseke, Claus\\nMoshou, Dimitrios\\nMostafa, El-Sayed\\nMostaghel, Elahe A.\\nMota, Manuel\\nMotoi, Yumiko\\nMott, Justin L.\\nMotterlini, Roberto\\nMottet, D.\\nMourier, Arnaud\\nMoussian, Bernard\\nMowat, Christopher G.\\nMroginski, Maria Andrea\\nMruk, Dolores D.\\nMu, Qingxin\\nMu, Ting-Wei\\nMücke, Thomas\\nMueller, Wolf C.\\nMueller-Roeber, Bernd\\nMukaida, Naofumi\\nMulcahy-Levy, Jean\\nMuleo, Rosario\\nMüller, Marius N.\\nMuller, Patricia A. J.\\nMulvihill, Erin\\nMundy, D. C.\\nMunekazu, Yamakuchi\\nMuñiz, Manuel\\nMuñoz-Hoyos, Antonio\\nMurafuji, Toshihiro\\nMurai, Koji\\nMurakami, Masaaki\\nMurakami, Yasufumi\\nMurakami, Yoshiki\\nMuramatsu, Masaaki\\nMurashita, Koji\\nMurata, Yoshiyuki\\nMurate, Takashi\\nMuro, Andres\\nMurono, Shigeyuki\\nMuroyama, Akiko\\nMurphy, E. Angela\\nMurtas, Daniela\\nMurtola, Teemu J.\\nMusio, Antonio\\nMustafa, S. Jamal\\nMusumeci, Giuseppe\\nMuzard, Julien\\nNäär, Anders M.\\nNaciri, Yamama\\nNadeau, Nicola J.\\nNagano-Takebe, Futami\\nNagao, S.\\nNagaoka, Kentaro\\nNagaria, Pratik\\nNagasawa, Hiromichi\\nNagashima, Makoto\\nNagatomo, Shigenori\\nNagy, Istvan\\nNahomi, Rooban Babyantony\\nNair, Ashwin\\nNaito, Hisashi\\nNaito, Yuji\\nNajimi, Mustapha\\nNaka, Hiroaki\\nNaka, Kensuke\\nNakabeppu, Yusaku\\nNakagami, Futoshi\\nNakagawa, Yoshimi\\nNakaki, Toshio\\nNakamura, Kazufumi\\nNakamura, Kazuki\\nNakamura, Kozo\\nNakamura, Tsutomu\\nNakanishi, Takeshi\\nNakanishi, Toru\\nNakashima, Kazuo\\nNam, Kyoung Hee\\nNamiesnik, Jacek\\nNan, Fan Hua\\nNance, Christina L.\\nNandrot, Emeline F.\\nNanni, Loris\\nNao, Dorit\\nNaoi, Makoto\\nNaoumkina, Marina\\nNarayana, Ashwatha\\nNasopoulou, Constantina\\nNateri, Abdolrahman Shams\\nNaumann, Todd A.\\nNavarra, Pierluigi\\nNavarro, Xavier\\nNazzal, Sami\\nNees, Matthias\\nNegi, Surendra S\\nNemunaitis, John\\nNesmelov, Yuri E.\\nNeumann-Haefelin, Christoph\\nNeuzil, Jiri\\nNezhad, Amir Sanati\\nNg, Jason\\nNg, Kee Woei\\nNg, Tzi Bun\\nNguyen, Nam P.\\nNguyen, Phuong\\nNguyen, Thanh Vinh\\nNi, Bing-Jie\\nNi, Jiangfeng\\nNi, Weiming\\nNick, Peter\\nNicolás, Francisco E.\\nNicot, Christophe\\nNiessen, Hans W. M.\\nNiessen, Ludwig\\nNiessen, Markus\\nNifosi, Riccardo\\nNigris, De\\nNijnik, Anastasia\\nNiku, Mikael\\nNilsson, R. Henrik\\nNing, Ke\\nNino, Russo\\nNishida, Shozo\\nNishizaki, Tomoyuki\\nNisman, Benjamin\\nNisnevitch, Marina\\nNissan, Aviram\\nNixon, Joshua P.\\nNjoku, Dolores B\\nNkenke, Emeka\\nNobile, Mario\\nNoboru Katayama, Noboru\\nNocentini, Giuseppe\\nNoguchi, Constance Tom\\nNohe, Anja\\nNojiri, Shunsuke\\nNojiri, Takashi\\nNolan, Christopher J\\nNomiya, Takuma\\nNomura, M.\\nNonhebel, Heather M.\\nNoordzij, Walter\\nNordin, Joel\\nNorman, Robert\\nNorman, Trevor R.\\nNorval, Mary\\nNovak, Johannes\\nNovak, Michael\\nNovo-Uzal, Esther\\nNowak, Grazyna\\nNowicka, Anna M.\\nNumakawa, Tadahiro\\nNunes, Carla D.\\nNunes, Leonel J. R.\\nNunzio, Mattia Di\\nNurmohamed, M T\\nNyomba, B. L. Gregoire\\nNyström, Andreas M.\\nNyström, Kristina\\nO’Bryhim, Bliss E.\\nOakeshott, John G.\\nObana, A.\\nOberthür, Markus\\nO'Brien, Katie M.\\nOchiai, Tsuyoshi\\nOchiya, Takahiro\\nOcio, Enrique\\nOck, Meesum\\nOcorr, K.\\nOesch, Franz\\nOgata, Tadanori\\nOgawa, Kumiko\\nOgawa, Yoko\\nOgino, Shuji\\nOgura, Atsuo\\nOgura, Shun-Ichiro\\nOh, Sae-Ock\\nOh, Sangsuk\\nOhashi, Naro\\nOhba, Shinsuke\\nOhkohchi, Nobuhiro\\nOhkura, N.\\nOhmuraya, Masaki\\nOhshima, Takashi\\nOhta, Yoshiji\\nOhta, Yuko\\nOike, Yuichi\\nOjeda, Manuel\\nOkaichi, Kumio\\nOkajima, Fumikazu\\nOkamoto, Masami\\nOkamura, Noboru\\nOkazaki, Toshiro\\nOko, Richard\\nOkumoto, Sakiko\\nOkwumabua, Ogi\\nOliveira, Pedro F.\\nOliviera, Paulo\\nOlivieri, Fabiola\\nOlsson, Christian\\nO'Malley, Ronan\\nOmar, Syed Haris\\nO'meara, D. B.\\nOndruschka, Benjamin\\nOno, Kenji\\nOnori, Roberta\\nOoi, Jenny\\nOono, Youko\\nOostenbrink, Chris\\nOosterwijk, Egbert\\nOottikkal, Shameema\\nOpstad, Trine B.\\nOrlandi, Augusto\\nOrozco, Jahir\\nOrtar, Giorgio\\nOrth, Kim\\nOrtlund, Eric A.\\nOsborn, Mark\\nOsbourn, Anne\\nO'Shea, Cormac\\nOshima, Hayato\\nOshitari, Toshiyuki\\nOsmond, Megan\\nOspina Millán, Claudia Andrea\\nOsumi, Noriko\\nOtsuka, Hideaki\\nOtt, Ilka\\nO-Uchi, Jin\\nOvissipour, Mahmoudreza\\nOwen, John\\nOyama, Fumitaka\\nOzaki, Toshinori\\nOzeki, Yoshihiro\\nOzen, Mustafa\\nOzpolat, Bulent\\nPa, Pai-Shan\\nPace, Andrea\\nPacifico, Severina\\nPaduch, Roman\\nPaek, Seung-Min\\nPagani, Franco\\nPagano, Joseph S.\\nPajares, María A.\\nPalacios, José-Manuel\\nPalazzo, Alexander F.\\nPalma, Francesco\\nPalmer, Mike\\nPalmer, R.\\nPalmiro, Poltronieri\\nPalmisano, Giuseppe\\nPalomares, Eva Rufino\\nPalomo, G. Iván\\nPalomo-Ríos, Elena\\nPalstra, Thomas T. M.\\nPalumbo, Silvia\\nPan, Hung-Chuan\\nPan, Jingzhe\\nPan, Tai-Long\\nPan, Zhejun\\nPanchapakesan, Balaji\\nPanchenko, Maria V.\\nPancsa, Rita\\nPandanaboina, Sahitya Chetan\\nPando, Concepción\\nPañeda, Covadonga\\nPanek, Jaroslaw\\nPanfoli, Isabella\\nPang, Alan Lap-Yin\\nPang, Yi\\nPanov, Kostya\\nPant, Deepak\\nPantazis, Nicholas J.\\nPantel, Jacques\\nPanteris, Emmanouil-Nikolaos\\nPantin-Jackwood, Mary\\nPaolocci, Nazareno\\nPapaccio, GianPaolo\\nPapadopoulos, Vassilios\\nPapagianni, Maria\\nPapetti, Adele\\nPapi, Alessio\\nParadiso, Angelo\\nParaknowitsch, Jens Peter\\nParales, Rebecca E.\\nParameswaran, Narayanan\\nPariente, J. A.\\nParish, Roger W.\\nParisi, Silvia\\nPark, Chail-Il\\nPark, Cheol Whee\\nPark, Cheon Seok\\nPark, Choon-Sik\\nPark, Chulhwan\\nPark, Eun-Jung\\nPark, Hoon Cheol\\nPark, Jang-Su\\nPark, Jeong-Sook\\nPark, Ji-Yeon\\nPark, Joong Kon\\nPark, Jung-Keug\\nPark, Junsoo\\nPark, Ky Young\\nPark, SungWoo\\nPark, Sang-Hyuk\\nPark, Se Hoon\\nPark, Se Pill\\nPark, Yoonkyung\\nParnell, Jill A.\\nPascual, Alberto\\nPasinetti, Giulio M.\\nPasqua, G.\\nPastor, F. I. Javier\\nPatel, Ashok R.\\nPatel, Divya\\nPatel, Sandeep\\nPatel, Yashomati M.\\nPatrice, Thierry\\nPatruno, Marco\\nPatsenker, Eleonora\\nPattison, David\\nPaulis, Maria\\nPaull, Robert E\\nPaull, Tanya T.\\nPaulose, Bibin\\nPau-Roblot, Corinne\\nPavanello, Sofia\\nPavlov, Valeri\\nPayan-Carreira, Rita\\nPazarentzos, Evangelos\\nPedraza-Chaverri, José\\nPedron, T.\\nPei, Sung-Nan\\nPeijnenburg, Willie J. G. M.\\nPék, Zoltán\\nPelicci, Pier G.\\nPellegrini-Giampietro, Domenico E.\\nPelletier, Jerry\\nPelosi, Paolo\\nPeluso, Marco E. M.\\nPena, Romi N.\\nPeng, Ching-An\\nPeng, Guangyong\\nPeng, Shuping\\nPeng, Wen-Huang\\nPenn, Linda Z.\\nPennypacker, Keith\\nPenzes, Peter\\nPeral, Belén\\nPereira, G. R.\\nPereira, Gislene\\nPereira, Letricia Barbosa\\nPerez, Franck\\nPérez-Figueroa, Andrés\\nPérez-Gil, Jesús\\nPeriyannan, Sambasivam\\nPerkins, Stephen J.\\nPerona, John J.\\nPerricone, Carlo\\nPerrine-Walker, F. M.\\nPerticone, Francesco\\nPéterfy, Miklós\\nPeterman, Erwin J. G.\\nPeters, Rene\\nPetersen, Bent\\nPetrey, Donald\\nPetro, Thomas M.\\nPetrochenko, Peter E.\\nPeula-García, José Manuel\\nPfau, Jean C.\\nPhan, Manh-Huong\\nPhilip, Nisha\\nPhillippi, Julie A.\\nPhillips, Joanna\\nPhillips, R. B.\\nPi, Rongbiao\\nPicardo, Mauro\\nPiccardo, Arnoldo\\nPichler, Martin\\nPichon, Chantal\\nPicking, Wendy\\nPickkers, Peter\\nPicton, Paul\\nPiedrahita, Jorge A.\\nPiekoszewski, Wojciech\\nPierobon, Mariaelena\\nPieters, Roland J.\\nPietro, Roberta Di\\nPiga, Antonio\\nPignol, David\\nPihlanto, Anne\\nPiiper, Albrecht\\nPilati, Camilla\\nPilgaard, Linda\\nPilkington, Suzanne M.\\nPilotti, Silvana\\nPineau, Pascal\\nPineda, Teresa\\nPinelli, Patrizia\\nPinkett, Heather W.\\nPinto, Alice\\nPinton, Paolo\\nPioszak, Augen\\nPischetsrieder, Monika\\nPissard, Serge\\nPistrosch, Frank\\nPittia, Paola\\nPiv, Roberta\\nPlackett, David\\nPlanchet, Elisabeth\\nPlech, Tomasz\\nPlett, Jonathan\\nPlotkin, Lilian I.\\nPlough, Louis\\nPluskal, Tomáš\\nPoblaciones, Maria J.\\nPoch, Michael\\nPodjarny, Alberto\\nPodlasek, Carol A.\\nPognonec, Philippe\\nPohanka, Miroslav\\nPoirier, Isabelle\\nPolefka, T. G.\\nPolesel, Jerry\\nPollard, Kenneth M\\nPolyak, Stephen J\\nPolyak, Steven\\nPommier, Suellen J.\\nPondugula, Satyanarayana R.\\nPongdor, Sandor\\nPonikau, Jens U.\\nPontiki, Eleni\\nPook, Mark A.\\nPopanda, Odilia\\nPoppenberger, Brigitte\\nPoree, Lawrence R.\\nPorteu, F\\nPost, M. J.\\nPoulsen, Michael\\nPouysségur, Jacques\\nPower, Greg\\nPöyhönen, Laura\\nPoyner, David\\nPrat, Maria\\nPreti, Delia\\nPrézeau, Laurent\\nPriault, Muriel\\nPrieto-Hontoria, Pedro\\nPrigione, Alessandro\\nPritchard, K. A.\\nPritsch, Karin\\nProfirovic, J.\\nProkai, Laszlo\\nProkunina-Olsson, Ludmila\\nProzialeck, Walter C.\\nPuga, Alvaro\\nPuigdomènech, Pere\\nPuiggalí, J.\\nPuiggalí, Jordi\\nPunta, Carlo\\nPurdue, Edward\\nPurisima, Enrico O.\\nPutz, Mihai\\nQaderi, Mirwais M.\\nQi, Xin\\nQi, Yiping\\nQiao, Ruirui\\nQin, Zhiqiang\\nQiu, Herric\\nQu, Hui-Qi\\nQuadrilatero, Joe\\nQuaglino, Elena\\nQuan, Guoxing\\nQuesada, Víctor\\nQuigley, Eamon\\nQuigley, James\\nQuinlivan, Julie A.\\nQuiñones, Beatriz\\nQureshi, Nilofer\\nRacz, I.\\nRadhakrishnan, Mala\\nRaffa, Vittoria\\nRagoussis, Jiannis\\nRagusa, Maria Antonietta\\nRahaman, S. Ohidar\\nRahman, Azizur\\nRai, Brajesh K.\\nRainer, Peter P\\nRainey, Jan. K.\\nRaisman, Geoffrey\\nRakotondrabe, Micky\\nRakwal, Randeep\\nRalph, Stephen J.\\nRamachandran, Girish\\nRamachandran, Srinivasan\\nRaman, Prabhu\\nRamana, Kota V.\\nRamani, Komal\\nRameshwar, Pranela\\nRämet, Mika\\nRamji, Dipak P.\\nRamón Y Cajal, Santiago\\nRamos, Lourdes\\nRamos, Paula S.\\nRamos, Sonia\\nRamotar, Dindial\\nRamsden, Lawrence\\nRandall, Stephen K.\\nRandall, Troy D.\\nRandazzo, Paul A.\\nRanganathan, Sarangarajan\\nRanzato, Elia\\nRao, Juluri R.\\nRao, Mahendra Surendra\\nRashotte, Aaron M.\\nRasooly, Reuven\\nRastegar, Mojgan\\nRastogui, Gurdeep\\nRatajczak, M. Z.\\nRattan, Ramandeep\\nRatti, Claudio\\nRaula, Janne\\nRautava, Jaana\\nRautio, Jarkko\\nRaviv, Z\\nRawlings, Neil D.\\nRay, S\\nRaychaudhuri, Subhadip\\nRea, Stephen\\nRebe, Cedric\\nRebillard, Amélie\\nRecalcati, Maria Paola\\nReddy, Umesh K.\\nRedfors, Björn\\nRedon, Christophe E.\\nReese, R. N.\\nReeve, Vivienne\\nRehm, Markus\\nReich, Reuven\\nReid, Christopher W.\\nReijns, Martin\\nReinders, Joerg\\nReitzel, Adam\\nRen, Jian-Guo\\nRen, Shuxin\\nRenella, Giancarlo\\nRenes, J.\\nRengathavasi, Thavasi\\nRengo, Giuseppe\\nRenner, Matthias\\nRenshaw, Stephen A.\\nRepo, Eveliina\\nRess, Anna Lena\\nReuter, Klaus\\nReuter, Peggy\\nReverberi, Massimo\\nRexach, Jesús\\nReyes-Moreno, Carlos\\nReynisson, Jóhannes\\nRezamand, Pedram\\nRezvani, Khosrow\\nRezzani, Rita\\nRhee, Man Hee\\nRibet, David\\nRicciardelli, Carmela\\nRichardson, Stephen M\\nRigano, Daniela\\nRim, Kyung Taek\\nRimbach, Gerald\\nRinaldi, Carlos\\nRinderer, Thomas E.\\nRinehart, Joseph P.\\nRisling, Mårten\\nRis-Stalpers, Carrie\\nRitchie, Rebecca\\nRittschof, Daniel\\nRivas, Germán\\nRivera, Jennifer\\nRizos, Demetrios\\nRizzuti, Bruno\\nRobben, Lars\\nRobert, Jacques\\nRoberts, Arthur G.\\nRoberts, Victoria A.\\nRobertson, R. Paul\\nRocha, Eduardo Melani\\nRochel, Natacha\\nRochette, Jacques\\nRockstroh, J. K.\\nRödel, Franz\\nRodeo, Scott A.\\nRodger, James A.\\nRodrigues, António S.\\nRodríguez, Antonio Martínez\\nRodríguez, Dra Soraya\\nRodriguez-Lafrasse, Claire\\nRodríguez-López, Julián\\nRoeder, Ryan K.\\nRoesner, Lennart M.\\nRogers, Hilary\\nRognan, Didier\\nRoh, Gu Seob\\nRoh, Sangho\\nRohemail, Changhyun\\nRohila, Jai\\nRohira, Aarti\\nRohrer, G. A.\\nRoitbak, Tamara\\nRojas, Mauricio\\nRojo, Enrique\\nRolka, Krzysztof\\nRomalde, Jesús López\\nRomero, Alejandro\\nRondanelli, Mariangela\\nRong, Zhili\\nRosado, Catarina\\nRosato, Edoardo\\nRosei, Enrico Agabiti\\nRosell, Rafael\\nRosellini, Daniele\\nRosenberger, Peter\\nRosenzweig, Derek\\nRoss, Ashley E.\\nRoss, M. K.\\nRossello, Josep A.\\nRossi, Derrick J.\\nRossignol, Dan\\nRossoll, Wilfried\\nRotenstreich, Ygal\\nRoujeinikova, Anna\\nRousseau, Philippe\\nRovida, Ermanna\\nRowe, Jasmine M.\\nRowley, Ann\\nRoy, Shyamal K.\\nRoy, Stuart J.\\nRoychowdhury, Sanjoy\\nRozek, Wojciech\\nRubattu, Speranza\\nRubin, Jeffrey\\nRubin, Robert L.\\nRucci, Nadia\\nRudrabhatla, Sairam V.\\nRudyk, Olena\\nRuelland, Eric\\nRühl, Martin\\nRuiz, José\\nRuiz-Feria, C. A.\\nRuiz-Larrañaga, Otsanda\\nRuiz-Narváez, Edward A.\\nRuiz-Perez, Victor L.\\nRupenthal, Ilva D.\\nRupp, Matthias\\nRus, Alma\\nRusin, Aleksandra\\nRussell, Steven Thomas\\nRusso, Antonio\\nRusso, Giuseppina T.\\nRusso, Matteo A.\\nRustad, Turid\\nRyan, Julie L.\\nRyan, Michael C.\\nRyan, Michael J.\\nRychert, Jenna\\nRylott, Elizabeth L\\nSa, Tongmin\\nSaba, Julie D.\\nSaba, Nabil\\nSabbatini, Simona\\nSacchetti, Lucia\\nSadik, Riadh\\nSadoghi, Patrick\\nSadok, Walid\\nSaeed, Maythem\\nSael, Lee\\nSáez, Guillermo\\nSafi, Carl\\nSah, Hongkee\\nSahay, Bikash\\nSahin, Özgür\\nSaielli, Giacomo\\nSaisho, Y.\\nSaito, Akira\\nSaito, Kuniaki\\nSakai, Hideki\\nSakamoto, Atsushi\\nSakkas, Giorgos K.\\nSako, Yasushi\\nSaku, Takashi\\nSakurai, Yoshihiko\\nSala, Gessica\\nSalamone, Adele\\nSalamonsen, Lois A.\\nSalerno, Aurelio\\nSalgado, A. J.\\nSalhia, Bodour\\nSalimnia, Hossein\\nSalinari, Serenella\\nSalinas, Julio\\nSalisbury, Travis\\nSaliu, Francesco\\nSalmaggi, Andrea\\nSalmon, Adam\\nSalsbury, Fred\\nSalter, Donald\\nSamavati, Lobelia\\nSamson, Leona D.\\nSamuil Umansky, Samuil\\nSamuolienė, Giedrė\\nSánchez Alcázar, José\\nSanchez, Diego H.\\nSanchez, Jean-Yves\\nSanchez, Manuel\\nSánchez, María-José\\nSandrin, Todd R.\\nSangadala, Sreedhara\\nSanmartín, Carmen\\nSanna, Fabio\\nSano, Natsumi\\nSansotera, Maurizio\\nSantamaria, Rita\\nSantini, Catherine C.\\nSantos-Gallego, Carlos\\nSantulli, Gaetano\\nSapi, Eva\\nSarasini, Fabrizio\\nSarropoulou, Virginia\\nSarti, Paolo\\nSasagawa, Toshiyuki\\nSasayama, Takashi\\nSato, Kenji\\nSato, Masahiro\\nSato, Satoshi B.\\nSato, Takami\\nSato, Tatsuo\\nSatoh, Masahiko\\nSatoh, Shigeru\\nSattler, Wolfgang\\nSauder, Christian\\nSauerwein, Helga\\nSauge, M.-H.\\nSaulnier-Blache, J. S.\\nSavard, Christian\\nSavic, J. M.\\nSaville, Barry\\nSawers, R. Gary\\nSayer, John A.\\nSayers, Thomas J.\\nSbardella, Gianluca\\nScadding, Guy\\nScarlett, Christopher\\nScatena, Roberto\\nSchachter, Michael\\nSchaefer, Jeremy\\nSchall, Constance A.\\nSchapira, Matthieu\\nScheibe, Renate J.\\nScheiner, Steve\\nScheinman, Robert\\nSchekman, Randy\\nSchellhaas, Elisabeth\\nScherer, Günther\\nSchiffman, Jessica D.\\nSchild, Lorenz\\nSchiller, Jürgen\\nSchinke, Thorsten\\nSchlattner, Uwe\\nSchlee, Martin\\nSchleifenbaum, Frank\\nSchmalz, Hans-Guenther\\nSchmeiser, Heinz H.\\nSchmid, Kara\\nSchmidt, Manfred\\nSchmidt, Wolfgang\\nSchmidtke, Sarah J.\\nSchmitz, I.\\nSchneider, Anja\\nSchneider, Barbara\\nSchneider, Bernd\\nSchneider, Sabine\\nSchnellmann, Rick\\nSchoeftner, Stefan\\nSchönknecht, Gerald\\nSchreiber, Caroline\\nSchreyer, David\\nSchröder, Jörg\\nSchröder, Katrin\\nSchröder, Uwe\\nSchröder, Wolfgang P.\\nSchulz, Benjamin\\nSchulze, Joachim\\nSchuman, Thomas\\nSchüring, A. N.\\nSchuster, Bernhard\\nSchwarz, Michael\\nSchwean-Lardner, Karen\\nSchwerdt, Gerald\\nScocchi, Marco\\nScorziello, Antonella\\nScott, Nigel H.\\nScott, Stuart A.\\nScotti, Carla\\nScovassi, Anna Ivana\\nSears, Dorothy D.\\nSebastián, Rosa María\\nSeca, Ana\\nSeena, Sahadevan\\nSeenan, Chris\\nSegall, Jeffrey E.\\nSégui, Bruno\\nSeidler, Norbert W.\\nSeifert, Roland\\nSeiffert, Sebastian\\nSeitz, Jan-Marten\\nSeki, Naohiko\\nSekino, Masashi\\nSekiya, Ichiro\\nSelan, Laura\\nSeligman, Paul A.\\nSelinski, Silvia\\nSen, Shukdeb\\nSenBanerjee, Sucharita\\nSeo, Hak Soo\\nSeo, Shigemi\\nSeo, Young-Kwon\\nSepúlveda, Maria S.\\nSerafini, G.\\nSergeev, Igor N.\\nSerralheiro, Maria Luísa M.\\nSerrano, María\\nSerrano, Maria J.\\nSerrano-Ríos, Manuel\\nSershen, H.\\nSeth, Arun\\nSethi, Gautam\\nSetou, Mitsutoshi\\nSettanni, L.\\nSevilla, Michael\\nSevilla, Noemí\\nSha, Zhe\\nShabala, Sergey\\nShafirovich, Vladimir\\nShah, Javeed A.\\nShaik, Shavali\\nShaikhali, Jehad\\nShan, Yibing\\nShanmugam, Muruganandan\\nShao, Huanjie\\nShapiro, Arthur\\nSharabi, Andrew\\nShareck, F.\\nSharma, Arun K.\\nSharma, Avadhesh C.\\nSharma, Jyotsna\\nSharma, Kumar\\nSharma, Mridula\\nSharma, Om Prakash\\nSharma, Rajendra\\nSharman, Edward H.\\nShavit, Jordan A.\\nShavrukov, Yuri\\nShaw, Gerry\\nShaw, Jonathan G.\\nShaw, Pang-Chui\\nShe, Jin-Xiong\\nShelp, Barry\\nShen, Che-Kun James\\nShen, Chwan-Li\\nShen, Jie\\nShen, Jinfeng\\nShen, Kunwei\\nShen, Wen\\nSheng, Baiyang\\nSheng, Yi\\nSheng, Yuewei\\nSherbet, G. V.\\nSherer, Nathan\\nSherman, Jonathan H.\\nSherman, Louis\\nShertzer, Howard G.\\nShetty, Pavan K.\\nShetty, Sreerama\\nSheu, Ming-Thau\\nShi, Hubing\\nShi, Liang\\nShi, Qian\\nShi, Wenyuan\\nShi, Yongquan\\nShibasaki, Futoshi\\nShibata, Ikuya\\nShiea, Jentaie\\nShieh, Dar-Bin\\nShieh, Joseph\\nShieh, K. R.\\nShigemura, Yasutaka\\nShih, J.-Y.\\nShih, Ming-Chih\\nShiina, Takashi\\nShikano, Takahito\\nShiku, Hiroshi\\nShillcutt, Samuel\\nShima, Jun\\nShimada, Masayuki\\nShimamura, Michio\\nShimizu, Bun-Ichi\\nShimizu, Shigeomi\\nShimizu, Takahiko\\nShin, Ki-Hyuk\\nShintani, Yasushi\\nShiota, Masaki\\nShiraishi, Naru\\nShiraishi, Takehiko\\nShirasawa, K.\\nShirasawa, Takugi\\nShivapurkar, Narayan\\nShmizu, Ken\\nShoenfeld, Yehuda\\nShoji, Tsubasa\\nShonhai, A. Addmore\\nShou, Weinian\\nShrivastava, Indira\\nShukla, Shruti\\nShum, Anderson Ho Cheung\\nShumway, Sandy\\nShyu, Huey-Wen\\nSi, Ping\\nSiddall, Robert J. D.\\nSidhaye, Venkataramana\\nSieck, G. C.\\nSiegal, Gene P.\\nSier, Cornelis F. M.\\nSieuwerts, Anieta M.\\nSifringer, Marco\\nSigalotti, Luca\\nSignore, Michele\\nSilikas, Nick\\nSilljé, Herman H. W.\\nSilva, Bruna\\nSilva, Simone S.\\nSilva, Sn\\nSimal-Gándara, Jesús\\nSiman, Robert\\nSimeoni, Luca\\nSimeonov, Anton\\nSimmel, Friedrich\\nSimmons, Blake\\nSimò, Carolina\\nSimon, Adeline\\nSimonić, Jasmina\\nSimpson, Bradley S.\\nSimpson, David A. C.\\nSimpson, David C.\\nSims, Ian M.\\nSinclair, K. D.\\nSinden, Richard\\nSinger, Cherie A.\\nSingh, Ashok K.\\nSingh, Ashutosh\\nSingh, Om V.\\nSingh, Guramrit\\nSingh, Kumud K.\\nSingh, Rakesh\\nSingh, S. K.\\nSingh, Sher\\nSingh, Vineet\\nSinnecker, Daniel\\nSinnett, Daniel\\nSips, Patrick Y.\\nSiracusa, Laura\\nSiraki, Arno G.\\nSirdah, Mahmoud\\nSiskind, Leah J.\\nSissler, Marie\\nSitharaman, Balaji\\nSiwek, Agata\\nSiwela, Muthulisi\\nSkaaby, Tea\\nSkeie, Bente Sandvei\\nSkipworth, Richard J. E.\\nSkøt, Leif\\nSlavov, Gancho\\nSliz, Piotr\\nSlominski, Andrzej\\nSluyter, R.\\nSmagghe, Guy\\nSmahi, Hadj-Rabia\\nSmart, Lawrence B.\\nSmith, Alan\\nSmith, L. Courtney\\nSmith, Stephen B.\\nSmith, Suzanne V.\\nSmith-Moritz, Andreia M.\\nSmits, Saskia L.\\nSmolock, Christopher J.\\nSnelling, Sarah J. B.\\nSobczak-Thépot, Joëlle\\nSöderhäll, Kenneth\\nSoin, Navneet\\nSokolov, Mykyta\\nSola, Rosa\\nSolary, Eric\\nSolé, José García\\nSoliman, Mahmoud E. S.\\nSolinís, M. Ángeles\\nSoll, Dieter\\nSoma, Takehisa\\nSomers, Veerle\\nSong, Anren\\nSong, Guo-Qing\\nSong, Hae-Ryong\\nSong, Jinhua\\nSong, Jonathan\\nSong, Nam Woong\\nSonkoly, Enikö\\nSonkusare, Swapnil K.\\nSonne, Susan C.\\nSoreq, Hermona\\nSorg, Olivier\\nSosa, Manuel\\nSouček, Pavel\\nSoulier, Jean\\nSousa, Hugo\\nSpahn-Langguth, Hildegard\\nSpanier, Britta\\nSpear, Brett T.\\nSpeicher, David W.\\nSpeziale, Marisa\\nSpittau, Björn\\nSpivak, Graciela\\nSprung, Carl N.\\nSridhar, Radhakrishnan\\nSrivastava, Pramod K.\\nSrivatsan, Eri S.\\nSrivenugopal, Kalkunte\\nStacchiotti, Alessandra\\nStaege, Martin S.\\nStaels, Bart\\nStafford, Graham P.\\nStamler, Jonathan S.\\nStangl, Gabriele I.\\nStanta, Giorgio\\nStark, Benjamin C.\\nStarkey, Jonathan\\nStassi, Giorgio\\nStaudacher, Alexander H\\nStec, David E.\\nStehle, Jörg H.\\nSteigedal, Magnus\\nStein, Gary S.\\nStein, Nils\\nStein, Thor\\nSteinbach, William J.\\nSteinestel, Konrad\\nSteinmann, Eike\\nStelzl, Ulrich\\nStepensky, David\\nStewart Jr, C. Neal\\nStewart, Duncan J.\\nStewart, Michael\\nStick, Reimer\\nStith, Brad J.\\nStobiecki, Maciej\\nStocco, Douglas M.\\nStoecklin, Georg\\nStone-Elander, Sharon\\nStork, Björn\\nStorrie, Brian\\nStorto, Giovanni\\nStote, K. S.\\nStotz, Michael\\nStracker, Travis H.\\nStrandvik, Birgitta\\nStrasser, Andrea\\nStreck, André F.\\nStreckbein, Philipp\\nStreit, Wolfgang R.\\nStrekowski, Lucjan\\nStricker, Sigmar\\nStrle, Klemen\\nStrömme, Maria\\nStronati, Laura\\nStrongin, Alex\\nStulnig, Thomas M.\\nStultz, Collin M.\\nStumph, William E.\\nStunes, Astrid Kamilla\\nStura, Enrico A.\\nSturm, Richard A.\\nSu, Chun-Li\\nSu, Jui-Hsin\\nSu, Jyan-Gwo J.\\nSu, Meitsz\\nSu, Yunchao\\nSucher, Nikolaus J.\\nSuen, Garret\\nSuenaga, Hikaru\\nSuetsugu, Shiro\\nSugasawa, Kaoru\\nSugawara, Akira\\nSugimoto, Masahiro\\nSugimoto, Mitsushige\\nSugiyama, Tetsuya\\nSugumaran, Manickam\\nSuh, Jun Kyu\\nSuhm, Martin\\nSui, Guangchao\\nSui, Jing\\nSukkar, Maria B.\\nSuman, Devi S.\\nSumi, Shoichiro\\nSun, Daochun\\nSun, Fei\\nSun, Genlou\\nSun, Peilong\\nSun, Raymond Wai-Yin\\nSun, Shaogang\\nSun, Zhihua\\nSun, Zhonghua\\nSundfeldt, Karin\\nSunna, Anwar\\nSurai, P. F.\\nSurguchov, Andrei\\nSuri, Rominder P. S.\\nSushruta, Koppula\\nSussman, Daniel A.\\nSutela, Suvi\\nSuzuki, A.\\nSuzuki, Akihiro\\nSuzuki, Hidekazu\\nSuzuki, Hitoshi\\nSuzuki, Kensaku\\nSuzuki, Masatoshi\\nSuzuki, Miho\\nSuzuki, Takuya\\nSuzuki, Yuichiro\\nSvanborg, Catharina\\nSvoboda, Miroslav\\nSwali, Angelina\\nSwann, Karl\\nSwarbrick, Crystall\\nSymons, J. David\\nSzablewski, Leszek\\nSzekeres, Thomas\\nSzeto, Yim Tong\\nSzlufik, Stanisław\\nSzumny, Antoni\\nSzyfter, Krzysztof\\nTabata, Yasuhiko\\nTaberlay, Phillippa C.\\nTada, Yayoi\\nTadagavadi, Raghu\\nTaddei, Maurizio\\nTagawa, Scott T\\nTaguchi, Tetsushi\\nTaira, Junsei\\nTakahashi, K. G.\\nTakahashi, Kazue\\nTakahashi, Naoyuki\\nTakahashi, Shigeru\\nTakahashi, Wataru\\nTakaki, Akinobu\\nTakase, Masayoshi\\nTakashiba, Shogo\\nTakayama, Koji\\nTakayama, Yoshiharu\\nTakebe, Naoko\\nTakeda, Makio\\nTakemori, Hiroshi\\nTakenaga, Keizo\\nTakeshita, Haruo\\nTakigawa, Nagio\\nTakumi, Shigeo\\nTalbot, Nicholas J.\\nTall, Ben D.\\nTamama, Kenichi\\nTamura, Masaaki\\nTamura, Tomohiro\\nTan, Bao-Cai\\nTan, Dun-Xian\\nTan, Nguan Soon\\nTanabe, Akiko\\nTanaka, Hiroshi\\nTanaka, Hiroyuki\\nTanaka, Minoru\\nTanaka, Mitsuru\\nTanaka, Tim Hideaki\\nTanase, Tomoaki\\nTanavde, Vivek\\nTang, Chih-Hsin\\nTang, Haiyang\\nTang, Liping\\nTang, Wei\\nTang, Xiaoli\\nTang, Xiaoqing\\nTang, Xuanming\\nTang, Yuhong\\nTaniguchi, Akiyoshi\\nTaniguchi, Naoyuki\\nTaniguchi, Toshiyasu\\nTanimoto, Kotaro\\nTanji, Kunikazu\\nTanner, J. A.\\nTanner, N. Kyle\\nTantillo, Dean\\nTao, Wendong\\nTappia, Paramjit S.\\nTarantino, Giovanni\\nTarca, Adi L\\nTarr, D. Ellen\\nTarro, Giulio\\nTasciotti, Ennio\\nTatlisumak, Turgut\\nTattini, Massimiliano\\nTatulian, Suren A.\\nTaube, Christian\\nTavares, Isaura\\nTawaraya, Keitaro\\nTay, Samuel Sam Wah\\nTaylor, Allen\\nTaylor, John M\\nTaylor, Shirley M.\\nTaylor, Zachary S.\\nTaylor-Clark, Thomas\\nTchikindas, Michael\\nTcholakova, Slavka\\nTedeschi, A.\\nTeeri, Teemu H.\\nTegeder, Irmgard\\nTegler, G.\\nTeicher, Beverly A.\\nTeijido, Oscar\\nTeismann, Peter\\nTeixeira, Cátia\\nTeixeira, M. C.\\nTeixeira, Natércia\\nTemperton, Ben\\nTenbrock, Klaus\\nTenenhaus, Mayer\\nTeng, Chieh-Lin\\nTerashima, Masaaki\\nTerauchi, Yasuo\\nTerentjev, Eugene M.\\nTergaonkar, Vinay\\nTeriete, Peter\\nTerzaghi, William\\nTeschke, Rolf\\nTeta, Roberta\\nTetley, Terry\\nTettelbach, S. T.\\nThalhammer, G.\\nThamm, D. H.\\nThangapazham, Rajesh L.\\nTharreau, Didier\\nThathiah, Amantha\\nTheel, Elitza\\nTheelen, Thomas\\nTheg, Steven M.\\nThein, Tun-Linn\\nTheocharis, Stamatios\\nTheodoropoulos, George\\nThérias, Sandrine\\nThèvenod, Frank\\nThi, Mia Mia\\nThijssen, Dick H. J.\\nThilmony, Roger\\nThomas, David M.\\nThomas, Olivier P.\\nThomas, Sabu\\nThomasova, Dana\\nThomes, Paul\\nThompson, Karl M.\\nThompson-Snipes, Lu Ann\\nThomsen, Hauke\\nThomsen, Louiza Bohn\\nThore, Stephane\\nThorley, Andrew J\\nThornburg, Kent\\nThrasyvoulou, Andreas\\nThyme, Summer B.\\nTian, Linjie\\nTian, Yinghua\\nTichý, Aleš\\nTiganescu, Ana\\nTijssen, Peter\\nTilden, Andrea R.\\nTimko, Michael Paul\\nTimofeyev, Valeriy\\nTing, Kang\\nTiribelli, Claudio\\nTiwari, Sanjay\\nTjong, S. C.\\nTo, Kin-Ying\\nTobajas, Montserrat\\nToda, Kyoko\\nTognini, Paola\\nTohge, Takayuki\\nTohyama, Chiharu\\nTokino, Takashi\\nTokita, Yoshihito\\nToledo-Pereyra, Luis H.\\nTomasetti, Marco\\nTomatis, Maura\\nTompa, Peter\\nTonn, Jörg-Christian\\nTonnabel, Jeanne\\nTordjman, Sylvie\\nTorensma, Ruurd\\nToriyama, Kinya\\nTörnquist, Kid\\nTörök, Marianna\\nToropov, Andrey A.\\nTorra, Ines Pineda\\nTorres-Aleman, Ignacio\\nTosatto, Silvio\\nTota, Bruno\\nTotsuka, Yukari\\nTouyz, Louis Z. G.\\nToyama, Yusuke\\nTraas, Jan\\nTran, Nhan L.\\nTreesukosol, Yada\\nTrendowski, Matthew\\nTresguerres, Jesús\\nTrevisan, Andrea\\nTrif, Monica\\nTrincavelli, Maria Letizia\\nTrinchera, Marco\\nTrindle, Carl\\nTripathi, Prateek\\nTroakes, Claire\\nTrosko, James E\\nTrotta, Francesco\\nTrucco, Massimo\\nTrujillo, Marco\\nTrummer, Arne\\nTsai, Cheng-Fang\\nTsai, Hui-Hsu Gavin\\nTsai, Jyh-Ming\\nTsai, Kuen-Jer\\nTsai, Tsuimin\\nTsakalof, A.\\nTsantili, Anna\\nTsao, Hsuan-Ming\\nTsao, May N.\\nTseng, Tai-Chung\\nTsiplakou, E.\\nTsirigotis, Panagiotis\\nTsoleridis, Constantinos A.\\nTsuboi, Koji\\nTsuchimoto, Daisuke\\nTsuda, Hiroyuki\\nTsuji, Masahiro\\nTsuji, Shoji\\nTsujimoto, Takashi\\nTsukamoto, Kazuhiro\\nTsukiyama, Takuji\\nTsuruya, Kazuhiko\\nTudisco, Raffaella\\nTung, Tao-Hsin\\nTurco, Gianluca\\nTuriel, Maurizio\\nTurner, David\\nTuttolomondo, Antonino\\nTyan, Yu-Chang\\nTyystjärvi, Taina\\nTzekov, Radouil\\nUchinami, Hiroshi\\nUchio, Yuji\\nUdomkun, Patchimaporn\\nUeda, Hiroshi\\nUeda, Koji\\nUehara, Takeki\\nUeki, Takeshi\\nUeki, Tatsuya\\nUematsu, Satoshi\\nUeno, Hiroshi M.\\nUeno, S.\\nUeno, Takayuki\\nUeoka-Nakanishi, H.\\nUgalde, Unai\\nUhal, Bruce D.\\nUlivi, Paola\\nnalp, Aynur\\nUnosson, Erik\\nUpton, Jason W.\\nUrabe, Daisuke\\nUrbanc, Brigita\\nUrbanowicz, Ryan J.\\nUrlaub, Henning\\nUrsula, Eichenlaub-Ritter\\nUrszula, Kasprzykowska\\nUsatyuk, Peter V.\\nUsta, Berk\\nUsui, Soichiro\\nUsui, T.\\nUsui, Takeshi\\nUtzeri, Valerio Joe\\nUwai, Koji\\nVaidyanathan, Raman\\nValacchi, Giuseppe\\nValencia, Gregorio\\nValentao, Patrícia\\nValentová, Kateřina\\nValero, M.\\nValix, Marjorie\\nValle, Beatriz\\nValle, Luis J. Del\\nValle, Mikel\\nValsasina, Barbara\\nValverde, Ángela M.\\nVan Agtmael, Tom\\nvan Belkum, Marco\\nVan Berkel, Gary J.\\nvan den Beucken, Jeroen J. J. P.\\nVan Bogaert, I. N. A.\\nVan Damme, Jo\\nvan den Driesche, Sander\\nvan der Kwast, Theodorus\\nvan der Merwe, Margaretha\\nvan Dijk, Jeroen P.\\nvan Doorn, W. G.\\nVan Dyke, Knox\\nVan Dyke, Mark E.\\nVan Etten, Jaime\\nVan Gaal, Luc F.\\nvan Geijlswijk, Ingeborg M.\\nvan Hall, Thorblad\\nVan Hemelrijck, Mieke\\nVan Kessel, Ad Geurts\\nVan Leeuwen, Thomas\\nvan Nieuw Amerongen, Geerten\\nVan Overbeek, Leonard S.\\nvan Parys, Alexander\\nvan Rheenen, Jacco\\nVan Seuningen, Isabelle\\nvan Spriel, Annemiek B.\\nvan Velthoven, Cindy T. J.\\nvande Velde, Christine\\nVandebriel, Rob J\\nVanden Eynde, Jean Jacques\\nVandeweerd, J.-M.\\nVankayala, Sai\\nVankempen, Leon\\nVanlerberghe, Greg C.\\nVargas, W. A.\\nVaskevich, Alexander\\nVass, Imre\\nVats, Purva\\nVaudry, Hubert\\nVautard, Frederic\\nVavylonis, Dimitrios\\nVaz, Deisi Altmajer\\nVaz, Paula\\nVaz, Roy J.\\nVázquez, Julio\\nVázquez-Prieto, Severo\\nVedani, Angelo\\nVega-Naredo, Ignacio\\nVeiga-Parga, Tamara\\nVejnar, Charles\\nVelasco Ortega, Eugenio\\nVelkov, Tony\\nVendrame, Martina\\nVenkannagari, Sreedhar\\nVento, Renza\\nVenugopal, Jayarama Reddy\\nVerde, Ignacio\\nVerdoucq, Lionel\\nVermeulen, Louis\\nVeronesi, Bellina\\nVetter, Stefan W.\\nVetvicka, Vaclav\\nVicente, Laura\\nVickers, Mark\\nVidal, Marcos\\nVideira, Mafalda\\nVideira, Paula A.\\nVieira, Alexandre\\nViggiano, Davide\\nVigodner, Margarita\\nVihinen, Mauno\\nVilla, Erica\\nVillaboa, Nuria\\nVillalobo, Antonio\\nVilloutreix, Bruno O.\\nVincent, Bourret\\nVinggaard, Anne Marie\\nVingtdeux, Valérie\\nVinnedge, Lisa Privette\\nVirgilio, Francesco\\nVirtanen, Kirsi A.\\nVirtanen, Sannakaisa\\nViscido, Angelo\\nViscomi, Maria Teresa\\nVitale, Giovanni\\nVitetta, Luis\\nVitorino, Rui\\nVizcaychipi, Marcela P.\\nVlachonasios, K. E.\\nVladimirov, Vladimir I.\\nVlahou, Antonia\\nVoelkers, Mirko\\nVogel, Ulla\\nVoll, Lars\\nVon Knethen, Andreas\\nvon Mikecz, Anna\\nVon Strandmann, Elke Pogge\\nVonnahme, K. A.\\nVora, Gary\\nVornam, Barbara\\nVougioukalakis, Georgios C.\\nVreede, Jocelyne\\nVreeken, Rob J.\\nVriend, J.\\nVrtala, Susanne\\nWada, Keiko\\nWadehra, Madhuri\\nWagner, David\\nWahl, M. A.\\nWainwright, Mark\\nWallace, Daniel\\nWallace, Lisa\\nWallentin, Lars\\nWalley, Andrew J.\\nWallis, John D.\\nWalters, Kirsty A.\\nWan, Lei\\nWanasundara, Janitha\\nWang, Bo-Cheng\\nWang, Chenguang\\nWang, Chengzhong\\nWang, Chi Chiu\\nWang, Chi-Young\\nWang, Chrong-Reen\\nWang, Dan\\nWang, Dong\\nWang, Guanyu\\nWang, Hao\\nWang, Haochao\\nWang, Hsei-Wei\\nWang, Hua\\nWang, Jian\\nWang, Jianbin\\nWang, Ju-Ming\\nWang, Jun\\nWang, Junjie\\nWang, Kai\\nWang, L.\\nWang, Leo D.\\nWang, Li-Yu\\nWang, Mingyi\\nWang, Peng George\\nWang, Qian\\nWang, Qi-En\\nWang, Richard R.-C.\\nWang, Rui\\nWang, S.-W.\\nWang, Shanfeng\\nWang, Shaobin\\nWang, Shao-Chun\\nWang, Shaomeng\\nWang, Tzu-Hao\\nWang, Tzu-Wei\\nWang, Wen-Ching\\nWang, Xiang-Dong\\nWang, Xiaobin\\nWang, Xiaoshi\\nWang, Yibin\\nWang, Yin\\nWang, Ying\\nWang, Yongyu\\nWang, Yue\\nWang, Yue-Hu\\nWang, Yuemin\\nWanke, Dierk\\nWard, Peter A.\\nWardrop, Duncan J.\\nWaris, Gulam\\nWashio, Kenji\\nWass, Mark N.\\nWatanabe, Akihiko\\nWatanabe, Kenichi\\nWatanabe, Naoki\\nWatanabe, Toru\\nWatkins, Harriet\\nWatson, Keith G.\\nWatters, J. J.\\nWatters, Michael K.\\nWatts, Jennifer L.\\nWebb, Paul\\nWeber, Christopher\\nWeber, Jost\\nWeen, Miranda\\nWeerapreeyakul, Natthida\\nWeetman, David\\nWei, Alexander\\nWei, Gang\\nWei, Jing\\nWei, Kuo-Chen\\nWei, Po-Li\\nWei, Ting\\nWeickert, Martin O.\\nWeigel, R. J.\\nWeisberg, Ellen\\nWeisleder, Noah\\nWellik, Deneen M.\\nWeltzien, Finn-Arne\\nWen, C. M.\\nWendel, Hans Peter\\nWeng, Ching-Feng\\nWeng, Honglei\\nWeng, Leiyun\\nWeng, Mao-Lun\\nWennemuth, Gunther\\nWennerber, Ann\\nWensman, Jonas Johansson\\nWeretilnyk, Elizabeth\\nWesolowski, Robert\\nWestenfelder, Christof\\nWestgate, Gill\\nWeston, Leslie\\nWeyand, Simone\\nWhan, Ahn J. I.\\nWheeler, Korin E.\\nWhite, Anthony\\nWhite, Kenneth N.\\nWhite, P. Lewis\\nWhitelegge, Julian P.\\nWhiteson, Katrine\\nWhittall, Justen B.\\nWhyard, Steve\\nWicherek, Lukasz\\nWickramasinghe, Vihandha O.\\nWielbo, Jerzy\\nWiemhöfer, H.-D.\\nWigle, J. T.\\nWilding, Craig\\nWiley, James S.\\nWilgus, T. A.\\nWilkinson, Gavin\\nWillem, Michael\\nWilliams, M.\\nWilliams, Tiffany\\nWilmarth, Phillip\\nWilson, Bill\\nWilson, D. B.\\nWilson, Joyce A.\\nWilson, Lee D.\\nWilson, Vincent L.\\nWinkler, David A.\\nWinkler, J.\\nWirgin, Isaac\\nWirsig-Wiechmann, Celeste R.\\nWislet-Gendebien, S.\\nWisniewski, Jacek\\nWitt-Enderby, Paula A.\\nWitting, Paul\\nWittmann, Jürgen\\nWojcik, Andrzej\\nWojdyło, Aaneta\\nWolf, Jennifer Moriatis\\nWolf, Matthias\\nWolf-Watz, Magnus\\nWoloszyk, Anna\\nWolthers, Mariette\\nWon, Chong Hyun\\nWon, Seok Joon\\nWong, Anderson On Lam\\nWong, Boon-Seng\\nWong, Carmen Chak-Lui\\nWong, Chi-Ming\\nWong, Dominic W. S.\\nWong, Ferranti\\nWong, Garry\\nWong, Ka-Leung\\nWong, Kenneth K. Y.\\nWong, Liang-Fong\\nWong, Melanie\\nWoo, Eui-Jeon\\nWoo, Sun-Hee\\nWoods, Alisa G.\\nWoods, Christopher J.\\nWortham, Noel C.\\nWoźniakowski, G\\nWright, Casey M.\\nWright, Catherine\\nWu, Alan Hb\\nWu, Bing\\nWu, Chih-Hsiung\\nWu, Jaw-Ching\\nWu, Jen-Leih\\nWu, Jian-Ping\\nWu, Ji'en\\nWu, Jiunn-Ren\\nWu, Lawren C.\\nWu, Lianfeng\\nWu, Li-Chen\\nWu, M.\\nWu, Meng\\nWu, Ming-Jiuan\\nWu, Mousheng\\nWu, Qiangen\\nWu, Shih-Hsiung\\nWu, Shiyong\\nWu, Shuang\\nWu, Shu-Yii\\nWu, William Ka Kei\\nWu, Xiaofeng\\nWu, Yi-Jun\\nWu, Yu-Jen\\nWuertz, Karin\\nWunder, Stephanie\\nWyss, Christine\\nXi, Lei\\nXi, Yaguang\\nXia, Tian\\nXia, Ying\\nXiao, Li\\nXiao, Xiangshu\\nXie, Lei\\nXiong, Ye\\nXiong, Yuquan\\nXu, Baoshan\\nXu, Jinbo\\nXu, Keli\\nXu, Lin\\nXu, Ning\\nXu, Xiaoming\\nXu, Xingshun\\nXu, Yi-Jun\\nYaegaki, Ken\\nYaguch, Tomonori\\nYahara, Shoji\\nYakovlev, Igor A.\\nYakushi, Toshiharu\\nYamada, Hiroyuki\\nYamada, Tesshi\\nYamaguchi, A.\\nYamaki, Koji\\nYamamoto, Kohji\\nYamamoto, Norio\\nYamamura, Soichiro\\nYamanushi, Tomoko T.\\nYamashita, Naomi\\nYamauchi, Takahiro\\nYamawaki, Hideyuki\\nYammani, Raghunatha R\\nYan, Elsa C. Y.\\nYan, Liang-Jun\\nYan, Xuehai\\nYanase, K.\\nYang, Bin\\nYang, Chia-Ning\\nYang, Ding-Yah\\nYang, Fan\\nYang, Hyun Ok\\nYang, Jian\\nYang, Kwangmo\\nYang, Li\\nYang, Lirong\\nYang, Liu\\nYang, Muh-Hwa\\nYang, Qiwei\\nYang, Rong Sen\\nYang, Rongze\\nYang, Wanling\\nYang, Wannian\\nYang, Yong\\nYang, Yongguang\\nYang, Yuedong\\nYang, Yu-Min\\nYang, Zhi-Min\\nYang, Zujun\\nYaniv, Moshe\\nYano, Shozo\\nYarema, Kevin\\nYasuhara, Takao\\nYasui, Akira\\nYates, Edwin A.\\nYates, Steven\\nYazawa, Takashi\\nYazlovitskaya, Eugenia M.\\nYe, Richard D.\\nYeh, Jui-Ming\\nYeh, Jwu-Lai\\nYeh, Shu-Lan\\nYen, Feng-Lin\\nYen, Men-Luh\\nYennu-Nanda, Vashisht G.\\nYeung, Kelvin\\nYeung, Sai-Ching Jim\\nZhao, Yilei\\nYin, Lei\\nYin, Yulong\\nYokoi, Tsuyoshi\\nYokoyama, Yoshihito\\nYomo, Tetsuya\\nYonekura, Shinichi\\nYoo, Seong Ho\\nYoo, Yeong-Min\\nYoon, Hwan Su\\nYoon, Sang Pil\\nYork, William S.\\nYoshida, Katsunori\\nYoshida, Manabu\\nYoshida, Takashi\\nYoshida, Yasuhiro\\nYoshidome, H.\\nYoshiki, Katayama\\nYoshimura, Akihiko\\nYoshimura, Kazuya\\nYoshimura, Y.\\nYoshinari, Tomoya\\nYoshioka, Yasuo\\nYoshitomi, Hiroyuki\\nYoshizaki, Yumiko\\nYou, Liang\\nYou, Mingxu\\nYou, Zhaoyang\\nYoun, Buhyun\\nYoun, Yu Seok\\nYoung Hyun, Choi\\nYoung, David A\\nYoung, Howard\\nYoung, K. C.\\nYoung, Matthew R.\\nYoung, Terry-Lynn\\nYousefi, Behrooz H.\\nYousefi, Shida\\nYu, Aimin\\nYu, Cheng-Chia\\nYu, Eileen Hao\\nYu, Il Je\\nYu, Lijian\\nYu, Mengxiao\\nYu, Shihui\\nYu, Xiong\\nYu, Yan Ping\\nYu, Yinghua\\nYu, Yong-Ming\\nYuan, Shinsheng\\nYuba, Eiji\\nYue, Genhua\\nYue, Patrick Ying Kit\\nYuh, Chiou-Hwa\\nYun, Jong Won\\nYung, Wing-Ho\\nZabel, Brian A.\\nZachar, V.\\nZacharias, Martin\\nZafari, A. Maziar\\nZagrovic, Bojan\\nZahradka, Peter\\nZakhartchouk, Alexander\\nZakrzewic, Anna\\nZalapa, Juan Ernesto\\nZamaratskaia, Galia\\nZanardi, Franca\\nZanetti, Michela\\nZannini, Emanuele\\nZargaran, Massoumeh\\nZarnowski, Tomasz\\nZarogoulidis, Paul\\nZarra, Ignacio\\nZarrelli, Armando\\nrský, Viktor\\nZavan, Barbara\\nZehendner, Christoph M.\\nZeisel, M.\\nZeitzer, Jamie M.\\nZelikoff, Judith\\nZenarruzabeitia, Olatz\\nZeng, Qingning\\nZenoni, Sara\\nZeschnigk, Michael\\nZewail, H.\\nZhai, Guangju\\nZhai, Haiyan\\nZhang, Chengfei\\nZhang, Chris\\nZhang, Dingguo\\nZhang, Fazhi\\nZhang, Gao\\nZhang, Ge\\nZhang, Haoqian\\nZhang, Huiming\\nZhang, Jiangying\\nZhang, Lei\\nZhang, Li\\nZhang, Miao\\nZhang, Mingjun\\nZhang, Mingming\\nZhang, Peng\\nZhang, Qiang\\nZhang, Ruiwen\\nZhang, Shao-Wu\\nZhang, Shihong\\nZhang, Shuai\\nZhang, Weizhen\\nZhang, Weizhou\\nZhang, Wenheng\\nZhang, Wentao\\nZhang, Wenzheng\\nZhang, Xiao-Bing\\nZhang, Xu Dong\\nZhang, Xuchen\\nZhang, Xuguang\\nZhang, Yanmin\\nZhang, Yao\\nZhang, Yaqing\\nZhang, Yi\\nZhang, Yuan-Ye\\nZhang, Yuanyuan\\nZhang, Zhaolei\\nZhang, Zhihong\\nZhao, Boxin\\nZhao, Chenguang\\nZhao, Chunfeng\\nZhao, Lan\\nZhao, Lixia\\nZhao, Q.\\nZhao, Shou-Jing\\nZhao, Ting C\\nZhao, Ying-Yong\\nZhen, Gehua\\nZheng, Liangyu\\nZheng, Shilong\\nZheng, Wenguang\\nZheng, Xiaoqi\\nZhou, Carol L. Ecale\\nZhou, Fei\\nZhou, Guo-Ping\\nZhou, Hongyu\\nZhou, Huan\\nZhou, Huitong\\nZhou, Kequan\\nZhou, Man\\nZhou, Ping\\nZhou, Qingxiang\\nZhou, Shuanhu\\nZhou, Xuan-Wei\\nZhou, Yong-Hong\\nZhou, Zhuan\\nZhu, Donghui\\nZhu, Qiang\\nZhu, Yanming\\nZhu, Yimin\\nZhuo, Jia L.\\nZienolddiny, S.\\nZignego, Anna Linda\\nZimmerman, Matthew C.\\nZimmermann, Katharina\\nZingarelli, Basilia\\nZink, Daniele\\nZoccali, Carmine\\nZoetendal, Erwin\\nZöller, Margot\\nZorzano, Antonio\\nZou, Hejian\\nZou, Shengli\\nZou, Xueqing\\nZuccato, Chiara\\nZucman-Rossi, Jessica\\nZuhl, Micah\\nZumsteg, Anna\\nZuo, Li\\nZuo, Yi\\nZurek, Eva\\n\""
      ]
     },
     "execution_count": 45,
     "metadata": {},
     "output_type": "execute_result"
    }
   ],
   "source": [
    "ncbi_com_1['Body'][0]"
   ]
  },
  {
   "cell_type": "code",
   "execution_count": 46,
   "metadata": {},
   "outputs": [
    {
     "data": {
      "text/plain": [
       "'With the goal of recognizing outstanding contributions to the field of molecular sciences by young investigators under the age of 40 (by 31 December 2016), and early-career investigators, which includes postdoctoral students and PhD students, and assisting the early-career investigators in attending international conferences in 2017, last year the International Journal of Molecular Sciences accepted nominations for Young Investigator and Travel Awards 2017. Over 200 nominations were received and were evaluated by a panel of judges comprised of International Journal of Molecular Sciences editorial board members.\\nWe are excited to announce the winner of the Young Investigator award: Dr. Rob W.J. Collin who will be awarded 2000 Swiss Francs; and the following winners for Travel Awards, Dr. Yi Ma, Dr. Miranda Ween, and Dr. Reza M. Zadegan who will be supported with up to 800 Swiss Francs each towards their travel expenses to attend international conferences in 2017.\\n1. Young Investigator Awardee\\nDr. Rob W.J. Collin\\nDr. Rob W.J. Collin is an Associate Professor at the Department of Human Genetics, Radboud University Medical Center in Nijmegen, The Netherlands, and is affiliated to the Donders Institute for Brain, Cognition and Behaviour. In 2000, Dr. Collin obtained his M.Sc. degree in Chemistry and in 2006, he successfully defended his doctoral thesis entitled “Exploring the role of Alzheimer’s amyloid-β precursor protein APP and its relatives in Xenopus intermediate pituitary, under the supervision of Prof. Dr. Gerard J.M. Martens. After obtaining his PhD degree, he changed gears to the field of Human Genetics, and as a post-doctoral researcher, he was involved in the identification of several novel disease-causing genes for inherited hearing impairment (ESRRB, LRTOMT) and inherited (vitreo)retinal diseases (EYS, C2orf71, IMPG2, MVK, TSPAN12 and ZNF408). Since 2009, Dr. Collin has moved his scientific activities towards the development of novel genetic therapies for retinal diseases, in particular those focusing on correcting pre-mRNA splicing defects. Supported by a prestigious VENI grant from the Netherlands Organization for Scientific Research, and an Individual Investigator Award from the Foundation Fighting Blindness USA, amongst others, he and his group have developed an antisense oligonucleotide-based therapeutic strategy for the future treatment of CEP290-associated LCA. In 2010, he was a visiting scientist in the lab of Prof. Dr. Jean Bennett, at the F.M Kirby Center for Molecular Ophthalmology, Scheie Eye Institute in Philadelphia, PA, USA.\\n2. Travel Awards Awardees\\n2.1. Research Field: Biochemistry\\nDr. Yi Ma\\nDr. Yi Ma, Post-Doctoral Research Scientist at University of Connecticut, USA. Dr. Ma obtained her Ph.D in Plant Biology from the Pennsylvania State University in 2008 under the supervision of Professor David Braun. Her Ph.D research was focused on carbohydrate partitioning in maize. She was working on the characterization of a tie-dyed1 (tdy1) mutant, which accumulates excess levels of sugars and starch in leaves. She cloned Tie-dyed1, a novel gene that expresses in phloem cells including sieve elements and companion cells. TDY1 is localized on the endoplasmic reticulum (ER) membranes involved in phloem unloading in maize. The findings provide insights into managing carbohydrate for yield improvement and biofuel production. Dr. Ma then switched to studying Ca2+ associated signaling in plant cells. She is working on identifying Ca2+ conducing channels that are involved in different signaling transduction pathways, such as BR signaling, plant innate immunity and meristem development. She has demonstrated that different Ca2+ sources could be responsible for different pathways. Dr. Ma is investigating Arabidopsis plants expressing an optogenetic cAMP sensor to monitor cAMP generation in responses to various environmental cues.\\n2.2. Research Field: Molecular Medicine\\nDr. Miranda Ween\\nDr. Ween completed her undergraduate Biomedical Science degree at the University of Adelaide, majoring in Human Physiology and Immunity and Infection. She was awarded her PhD in 2011 from the University of Adelaide, for a project performing highly complex and technically demanding cell biology studies into the role of protein interactions in ovarian cancer progression and received an award for her outstanding thesis. Dr Ween then joined the Research Centre for Infectious Diseases for her first postdoctoral role, investigating how lung bacteria survive in different conditions. Dr. Ween then joined the Lung Research Laboratory located in the Hanson Institute at the Royal Adelaide Hospital to study smoking related lung damage and susceptibility to infection. From there, Dr. Ween also expanded her research into investigating the effects E-cigarettes have on the lungs, with a particular focus on how their usage may affect the users’ immune cells’ ability to recognize pathogenic bacteria and phagocytose them.\\n2.3. Research Field: Biomaterial\\nDr. Reza M. Zadegan\\nTo become a leading biomedical DNA nanotechnologist, Dr. Zadegan earned a B.Sc. in Biology-Cytology and Microbiology with a minor in Cell and Molecular Biology, an M.Sc. in Cell and Molecular Biology with a minor in bioelectronics, as well as a Ph.D. in Nanoscience with a minor in Molecular Biology. He completed graduate work under RNA/DNA bio-nanoscience pioneer, Prof. Jørgen Kjems, which led to the design, modeling, construction, and characterization of DNA nanostructures for biological and chemical applications. To gain interdisciplinary research skills, Dr. Zadegan then joined the Boise State University as a postdoctoral researcher in the Micron School of Materials Science and Engineering under the leadership of Dr. William L. Hughes whose team creates chemical reaction networks, nucleic acid memory, and lithographic masks using DNA as the engineering material. As a researcher in the laboratory of Dr. Hughes, he has been providing operational leadership in the Nucleic Acid Memory (NAM) group. Dr. Zadegan believes that nucleic acid-based materials are ideal candidates for interdisciplinary bio-nanomaterials science, and it is hence their coding, synthesis, and exploration of their unique properties that forms the basis of the research program he plans to establish. His current research focuses on synthesizing innovative biomaterials for a range of applications, with particular emphasis on nanostructured materials and devices and on developing alternative digital memory storage technologies given the likelihood that demand will outpace capacity and production of current technologies.\\nOn behalf of the International Journal of Molecular Sciences’ editorial board members and editorial staffs, we wish to congratulate these four outstanding scholars for their accomplishments.\\nConflicts of Interest\\nThe author declare no conflict of interest.\\nPrize Awarding Committee\\nThe Editorial Board of the International Journal of Molecular Sciences.\\n'"
      ]
     },
     "execution_count": 46,
     "metadata": {},
     "output_type": "execute_result"
    }
   ],
   "source": [
    "ncbi_com_1['Body'][1]"
   ]
  },
  {
   "cell_type": "markdown",
   "metadata": {},
   "source": [
    "# Data Preprocessing"
   ]
  },
  {
   "cell_type": "code",
   "execution_count": 47,
   "metadata": {},
   "outputs": [],
   "source": [
    "def remove_newline_char(text):\n",
    "    text = text.replace(\"\\n\", \" \")\n",
    "    return text\n",
    "\n",
    "def nltk_sent_tokenize(text):\n",
    "    text = sent_tokenize(text)\n",
    "    return text\n",
    "\n",
    "def contains_coronavirus(text):\n",
    "    if \"coronavirus\" in text.lower():\n",
    "        return 1\n",
    "    else:\n",
    "        return 0\n",
    "    \n",
    "def contains_COVID(text):\n",
    "    if \"COVID\" in text:\n",
    "        return 1\n",
    "    else:\n",
    "        return 0"
   ]
  },
  {
   "cell_type": "code",
   "execution_count": 48,
   "metadata": {},
   "outputs": [],
   "source": [
    "def preprocess(df):\n",
    "    # remove rows that have null Body \n",
    "    df = df[~df['Body'].isnull()]\n",
    "    df['Body'] = df['Body'].apply(remove_newline_char)\n",
    "    df['Body_sents'] = df['Body'].apply(nltk_sent_tokenize)\n",
    "    df['Body_tokens'] = df['Body'].apply(word_tokenize)\n",
    "    df['len_body'] = df['Body_tokens'].apply(lambda x: len(x))\n",
    "    df['has_coronavirus'] = df['Body'].apply(contains_coronavirus)\n",
    "    df['has_COVID'] = df['Body'].apply(contains_COVID)\n",
    "    df['len_sents'] = df['Body_sents'].apply(lambda x: len(x))\n",
    "    return df"
   ]
  },
  {
   "cell_type": "markdown",
   "metadata": {},
   "source": [
    "# Build and save corpus"
   ]
  },
  {
   "cell_type": "code",
   "execution_count": 49,
   "metadata": {},
   "outputs": [],
   "source": [
    "def build_raw_corpus(df):\n",
    "    raw_corpus = []\n",
    "    for i, row in df.iterrows():\n",
    "        raw_corpus += row['Body_sents']\n",
    "    return raw_corpus"
   ]
  },
  {
   "cell_type": "code",
   "execution_count": 50,
   "metadata": {},
   "outputs": [],
   "source": [
    "def save_corpus_as_txt(filename, corpus):\n",
    "    with open(filename, 'w') as f:\n",
    "        for sent in corpus:\n",
    "            f.write(sent)\n",
    "            f.write('\\n')\n",
    "    f.close()"
   ]
  },
  {
   "cell_type": "code",
   "execution_count": 51,
   "metadata": {},
   "outputs": [],
   "source": [
    "def build_tokenizer_input(df, filename):\n",
    "    raw_corpus = build_raw_corpus(df)\n",
    "    save_corpus_as_txt(filename, raw_corpus)"
   ]
  },
  {
   "cell_type": "markdown",
   "metadata": {},
   "source": [
    "# Train SentencePiece tokenizer"
   ]
  },
  {
   "cell_type": "code",
   "execution_count": 52,
   "metadata": {},
   "outputs": [],
   "source": [
    "def train_tokenizer(model_prefix, input_file, vocab_size):\n",
    "    spm.SentencePieceTrainer.train('--model_prefix={} --input={} --vocab_size={}'.format(model_prefix, \n",
    "                                                                                         input_file, vocab_size))"
   ]
  },
  {
   "cell_type": "markdown",
   "metadata": {},
   "source": [
    "# Load model"
   ]
  },
  {
   "cell_type": "code",
   "execution_count": 53,
   "metadata": {},
   "outputs": [],
   "source": [
    "def load_model(model_file):\n",
    "    sp = spm.SentencePieceProcessor()\n",
    "    sp.Load(model_file)\n",
    "    return sp"
   ]
  },
  {
   "cell_type": "markdown",
   "metadata": {},
   "source": [
    "# Tokenize text"
   ]
  },
  {
   "cell_type": "code",
   "execution_count": 54,
   "metadata": {},
   "outputs": [],
   "source": [
    "def sp_tokenize(model, text):\n",
    "    tokenized_text = model.EncodeAsPieces(text)\n",
    "    return tokenized_text"
   ]
  },
  {
   "cell_type": "markdown",
   "metadata": {},
   "source": [
    "# Experiments"
   ]
  },
  {
   "cell_type": "code",
   "execution_count": 56,
   "metadata": {},
   "outputs": [],
   "source": [
    "# rows: 5958\n",
    "# vocab_size=5000"
   ]
  },
  {
   "cell_type": "code",
   "execution_count": null,
   "metadata": {},
   "outputs": [
    {
     "name": "stderr",
     "output_type": "stream",
     "text": [
      "//anaconda3/lib/python3.6/site-packages/ipykernel_launcher.py:4: SettingWithCopyWarning: \n",
      "A value is trying to be set on a copy of a slice from a DataFrame.\n",
      "Try using .loc[row_indexer,col_indexer] = value instead\n",
      "\n",
      "See the caveats in the documentation: http://pandas.pydata.org/pandas-docs/stable/user_guide/indexing.html#returning-a-view-versus-a-copy\n",
      "  after removing the cwd from sys.path.\n",
      "//anaconda3/lib/python3.6/site-packages/ipykernel_launcher.py:5: SettingWithCopyWarning: \n",
      "A value is trying to be set on a copy of a slice from a DataFrame.\n",
      "Try using .loc[row_indexer,col_indexer] = value instead\n",
      "\n",
      "See the caveats in the documentation: http://pandas.pydata.org/pandas-docs/stable/user_guide/indexing.html#returning-a-view-versus-a-copy\n",
      "  \"\"\"\n"
     ]
    }
   ],
   "source": [
    "# preprocess data\n",
    "t1 = time.time()\n",
    "df1 = preprocess(df1)\n",
    "t2 = time.time()\n",
    "print (\"Time:\", (t2-t1)/60)"
   ]
  },
  {
   "cell_type": "code",
   "execution_count": 41,
   "metadata": {},
   "outputs": [
    {
     "name": "stdout",
     "output_type": "stream",
     "text": [
      "Time: 0.05040566523869832\n"
     ]
    }
   ],
   "source": [
    "# build corpus\n",
    "input_file_1 = \"sample_input_1.txt\"\n",
    "t1 = time.time()\n",
    "raw_corpus_1 = build_tokenizer_input(df1, input_file_1)\n",
    "t2 = time.time()\n",
    "print (\"Time:\", (t2-t1)/60)"
   ]
  },
  {
   "cell_type": "code",
   "execution_count": 42,
   "metadata": {},
   "outputs": [
    {
     "name": "stdout",
     "output_type": "stream",
     "text": [
      "Time: 6.44949103196462\n"
     ]
    }
   ],
   "source": [
    "# train sp tokenizer\n",
    "model_prefix_1 = \"m1\"\n",
    "vocab_size = 5000\n",
    "t1 = time.time()\n",
    "train_tokenizer(model_prefix_1, input_file_1, vocab_size)\n",
    "t2 = time.time()\n",
    "print (\"Time:\", (t2-t1)/60)"
   ]
  },
  {
   "cell_type": "code",
   "execution_count": 43,
   "metadata": {},
   "outputs": [],
   "source": [
    "# load model\n",
    "model_file_1 = model_prefix_1 + \".model\"\n",
    "sp1 = load_model(model_file_1)"
   ]
  },
  {
   "cell_type": "code",
   "execution_count": 44,
   "metadata": {},
   "outputs": [],
   "source": [
    "# tokenize text\n",
    "text = \"This is a novel coronavirus disease.\"\n",
    "tokenized_text = sp_tokenize(sp1, text)"
   ]
  },
  {
   "cell_type": "code",
   "execution_count": 45,
   "metadata": {},
   "outputs": [
    {
     "data": {
      "text/plain": [
       "['▁This', '▁is', '▁a', '▁novel', '▁cor', 'on', 'a', 'virus', '▁disease', '.']"
      ]
     },
     "execution_count": 45,
     "metadata": {},
     "output_type": "execute_result"
    }
   ],
   "source": [
    "tokenized_text"
   ]
  },
  {
   "cell_type": "markdown",
   "metadata": {},
   "source": [
    "# Some EDA on data"
   ]
  },
  {
   "cell_type": "code",
   "execution_count": 28,
   "metadata": {},
   "outputs": [
    {
     "data": {
      "text/html": [
       "<div>\n",
       "<style scoped>\n",
       "    .dataframe tbody tr th:only-of-type {\n",
       "        vertical-align: middle;\n",
       "    }\n",
       "\n",
       "    .dataframe tbody tr th {\n",
       "        vertical-align: top;\n",
       "    }\n",
       "\n",
       "    .dataframe thead th {\n",
       "        text-align: right;\n",
       "    }\n",
       "</style>\n",
       "<table border=\"1\" class=\"dataframe\">\n",
       "  <thead>\n",
       "    <tr style=\"text-align: right;\">\n",
       "      <th></th>\n",
       "      <th>Refs</th>\n",
       "      <th>Body</th>\n",
       "      <th>Front</th>\n",
       "      <th>Meta</th>\n",
       "      <th>Filename</th>\n",
       "    </tr>\n",
       "  </thead>\n",
       "  <tbody>\n",
       "    <tr>\n",
       "      <th>0</th>\n",
       "      <td>NaN</td>\n",
       "      <td>NaN</td>\n",
       "      <td>NaN</td>\n",
       "      <td>52\\nStandardized \"Malhotra-Wig Vignettes\" for ...</td>\n",
       "      <td>comm_use.I-N.txt.tar.gz-unpacked/Indian_J_Psyc...</td>\n",
       "    </tr>\n",
       "    <tr>\n",
       "      <th>1</th>\n",
       "      <td>NaN</td>\n",
       "      <td>NaN</td>\n",
       "      <td>NaN</td>\n",
       "      <td>5\\nSpirituality and Psychiatry\\nDinesh Bhugra*...</td>\n",
       "      <td>comm_use.I-N.txt.tar.gz-unpacked/Indian_J_Psyc...</td>\n",
       "    </tr>\n",
       "    <tr>\n",
       "      <th>2</th>\n",
       "      <td>NaN</td>\n",
       "      <td>NaN</td>\n",
       "      <td>NaN</td>\n",
       "      <td>84\\nSir,\\nThe study of Sarkar and Chandra (200...</td>\n",
       "      <td>comm_use.I-N.txt.tar.gz-unpacked/Indian_J_Psyc...</td>\n",
       "    </tr>\n",
       "    <tr>\n",
       "      <th>3</th>\n",
       "      <td>NaN</td>\n",
       "      <td>NaN</td>\n",
       "      <td>NaN</td>\n",
       "      <td>7\\nRespected Chairpersons and members of the I...</td>\n",
       "      <td>comm_use.I-N.txt.tar.gz-unpacked/Indian_J_Psyc...</td>\n",
       "    </tr>\n",
       "    <tr>\n",
       "      <th>4</th>\n",
       "      <td>NaN</td>\n",
       "      <td>NaN</td>\n",
       "      <td>NaN</td>\n",
       "      <td>15\\nDear Chairpersons, Mr. President, Esteemed...</td>\n",
       "      <td>comm_use.I-N.txt.tar.gz-unpacked/Indian_J_Psyc...</td>\n",
       "    </tr>\n",
       "  </tbody>\n",
       "</table>\n",
       "</div>"
      ],
      "text/plain": [
       "  Refs Body Front                                               Meta  \\\n",
       "0  NaN  NaN   NaN  52\\nStandardized \"Malhotra-Wig Vignettes\" for ...   \n",
       "1  NaN  NaN   NaN  5\\nSpirituality and Psychiatry\\nDinesh Bhugra*...   \n",
       "2  NaN  NaN   NaN  84\\nSir,\\nThe study of Sarkar and Chandra (200...   \n",
       "3  NaN  NaN   NaN  7\\nRespected Chairpersons and members of the I...   \n",
       "4  NaN  NaN   NaN  15\\nDear Chairpersons, Mr. President, Esteemed...   \n",
       "\n",
       "                                            Filename  \n",
       "0  comm_use.I-N.txt.tar.gz-unpacked/Indian_J_Psyc...  \n",
       "1  comm_use.I-N.txt.tar.gz-unpacked/Indian_J_Psyc...  \n",
       "2  comm_use.I-N.txt.tar.gz-unpacked/Indian_J_Psyc...  \n",
       "3  comm_use.I-N.txt.tar.gz-unpacked/Indian_J_Psyc...  \n",
       "4  comm_use.I-N.txt.tar.gz-unpacked/Indian_J_Psyc...  "
      ]
     },
     "execution_count": 28,
     "metadata": {},
     "output_type": "execute_result"
    }
   ],
   "source": [
    "df1.head()"
   ]
  },
  {
   "cell_type": "code",
   "execution_count": 48,
   "metadata": {},
   "outputs": [
    {
     "data": {
      "text/plain": [
       "0    5923\n",
       "1      14\n",
       "Name: has_coronavirus, dtype: int64"
      ]
     },
     "execution_count": 48,
     "metadata": {},
     "output_type": "execute_result"
    }
   ],
   "source": [
    "df1.has_coronavirus.value_counts()"
   ]
  },
  {
   "cell_type": "code",
   "execution_count": 50,
   "metadata": {},
   "outputs": [
    {
     "data": {
      "text/plain": [
       "0    5937\n",
       "Name: has_COVID, dtype: int64"
      ]
     },
     "execution_count": 50,
     "metadata": {},
     "output_type": "execute_result"
    }
   ],
   "source": [
    "df1.has_COVID.value_counts()"
   ]
  },
  {
   "cell_type": "code",
   "execution_count": 51,
   "metadata": {},
   "outputs": [
    {
     "data": {
      "text/plain": [
       "5638.820953343439"
      ]
     },
     "execution_count": 51,
     "metadata": {},
     "output_type": "execute_result"
    }
   ],
   "source": [
    "np.mean(df1['len_body'])"
   ]
  },
  {
   "cell_type": "code",
   "execution_count": 52,
   "metadata": {},
   "outputs": [
    {
     "data": {
      "text/plain": [
       "218.91510864072765"
      ]
     },
     "execution_count": 52,
     "metadata": {},
     "output_type": "execute_result"
    }
   ],
   "source": [
    "np.mean(df1['len_sents'])"
   ]
  },
  {
   "cell_type": "code",
   "execution_count": null,
   "metadata": {},
   "outputs": [],
   "source": []
  }
 ],
 "metadata": {
  "kernelspec": {
   "display_name": "Python 3",
   "language": "python",
   "name": "python3"
  },
  "language_info": {
   "codemirror_mode": {
    "name": "ipython",
    "version": 3
   },
   "file_extension": ".py",
   "mimetype": "text/x-python",
   "name": "python",
   "nbconvert_exporter": "python",
   "pygments_lexer": "ipython3",
   "version": "3.6.9"
  }
 },
 "nbformat": 4,
 "nbformat_minor": 2
}
