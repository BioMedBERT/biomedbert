{
 "cells": [
  {
   "cell_type": "markdown",
   "metadata": {},
   "source": [
    "# Extract Embeddings from Input"
   ]
  },
  {
   "cell_type": "code",
   "execution_count": 29,
   "metadata": {},
   "outputs": [],
   "source": [
    "import os\n",
    "import json\n",
    "import numpy as np\n",
    "import pandas as pd\n",
    "import tensorflow as tf\n",
    "from numpy.linalg import norm\n",
    "from invoke import run, exceptions"
   ]
  },
  {
   "cell_type": "markdown",
   "metadata": {},
   "source": [
    "### Extract Embeddings"
   ]
  },
  {
   "cell_type": "code",
   "execution_count": 2,
   "metadata": {},
   "outputs": [],
   "source": [
    "bucket_name = 'ekaba-assets'\n",
    "model_dir = 'biomedbert_base_bert_weights_and_vocab'\n",
    "config = 'bert_config.json'\n",
    "vocab = 'vocab.txt'"
   ]
  },
  {
   "cell_type": "code",
   "execution_count": 22,
   "metadata": {},
   "outputs": [],
   "source": [
    "checkpoint = tf.train.latest_checkpoint('gs://{}/{}'.format(bucket_name, model_dir))\n",
    "voc_fname = 'gs://{}/{}/{}'.format(bucket_name, model_dir, vocab)\n",
    "config_fname = 'gs://{}/{}/{}'.format(bucket_name, model_dir, config)\n",
    "file_name = os.path.relpath('input_answers.txt')\n",
    "output_dir = 'output_{}.jsonl'.format(file_name.split('.')[0])"
   ]
  },
  {
   "cell_type": "code",
   "execution_count": 23,
   "metadata": {},
   "outputs": [
    {
     "name": "stdout",
     "output_type": "stream",
     "text": [
      "gs://ekaba-assets/biomedbert_base_bert_weights_and_vocab/model.ckpt-717000\n",
      "gs://ekaba-assets/biomedbert_base_bert_weights_and_vocab/vocab.txt\n",
      "gs://ekaba-assets/biomedbert_base_bert_weights_and_vocab/bert_config.json\n",
      "input_answers.txt\n",
      "output_input_answers.jsonl\n"
     ]
    }
   ],
   "source": [
    "print(checkpoint)\n",
    "print(voc_fname)\n",
    "print(config_fname)\n",
    "print(file_name)\n",
    "print(output_dir)"
   ]
  },
  {
   "cell_type": "code",
   "execution_count": null,
   "metadata": {},
   "outputs": [],
   "source": [
    "!python3 bert/extract_features.py \\\n",
    "--input_file={file_name} \\\n",
    "--output_file={output_dir} \\\n",
    "--vocab_file={voc_fname} \\\n",
    "--bert_config_file={config_fname} \\\n",
    "--init_checkpoint={checkpoint} \\\n",
    "--layers=-1 \\ #,-2,-3,-4 \\\n",
    "--max_seq_length=128 \\\n",
    "--batch_size=8"
   ]
  },
  {
   "cell_type": "markdown",
   "metadata": {},
   "source": [
    "### Format outout JSONl"
   ]
  },
  {
   "cell_type": "code",
   "execution_count": 15,
   "metadata": {},
   "outputs": [],
   "source": [
    "with open(output_dir) as f:\n",
    "    data = f.read()"
   ]
  },
  {
   "cell_type": "code",
   "execution_count": 30,
   "metadata": {},
   "outputs": [],
   "source": [
    "def get_sent_embed(output_jsonl) :\n",
    "    #We will run the model and get the outputs\n",
    "    json_lines = output_jsonl.split('\\n')\n",
    "    \n",
    "    #Removing the blank strings\n",
    "    json_lines =  list(filter(None,json_lines))\n",
    "    \n",
    "    #getting the dimensions & getting the output of the query\n",
    "    line_q = json.loads(json_lines[0])\n",
    "    embed_size = len(line_q['features'][0]['layers'][0]['values'])\n",
    "    \n",
    "    #Temp list for saving the tokens\n",
    "    token_temp_q = []\n",
    "    \n",
    "    #array for saving the embeddings\n",
    "    feat_embed_q =  np.array(line_q['features'][0]['layers'][0]['values'])\n",
    "    \n",
    "    #Getting the final df\n",
    "    df_query = pd.DataFrame()\n",
    "    \n",
    "    for j,feature in enumerate(line_q['features']):\n",
    "        token_temp_q.append(feature['token'])\n",
    "\n",
    "\n",
    "    #final_output_embeddings\n",
    "    tokens_query = ' '.join(token_temp_q[1:len(token_temp_q)-1])\n",
    "\n",
    "    #final query dataframe\n",
    "    df_query['documents'] = [tokens_query]\n",
    "    df_query['embedding'] = [feat_embed_q]\n",
    "    \n",
    "    \n",
    "    #--------------------------------------- answers ----------------------------------------------#\n",
    "    \n",
    "    \n",
    "    #Defining the lists\n",
    "    sent_embed = []\n",
    "    tokens = []\n",
    "    \n",
    "    #Getting the final df\n",
    "    df_ans = pd.DataFrame()\n",
    "    \n",
    "    #Running for the sentence\n",
    "    for i in range(1,len(json_lines)):\n",
    "        line = json.loads(json_lines[i])        \n",
    "    \n",
    "        feat_embed = np.array(line['features'][0]['layers'][0]['values'])\n",
    "        \n",
    "        #Temp list for saving the tokens\n",
    "        token_temp = []\n",
    "        \n",
    "        for j,feature in enumerate(line['features']):\n",
    "            token_temp.append(feature['token'])\n",
    "            \n",
    "        \n",
    "        #sanity checks\n",
    "        if feat_embed.sum() == 0 :\n",
    "            print ('Check_model')\n",
    "        \n",
    "        #final_output_embeddings\n",
    "        sent_embed.append(feat_embed)\n",
    "        tokens.append(' '.join(token_temp[1:len(token_temp)-1]))\n",
    "        \n",
    "         \n",
    "        \n",
    "    df_ans['documents'] = tokens\n",
    "    df_ans['embedding'] = sent_embed\n",
    "    \n",
    "    return df_query, df_ans"
   ]
  },
  {
   "cell_type": "code",
   "execution_count": 31,
   "metadata": {},
   "outputs": [],
   "source": [
    "df_query, df_ans = get_sent_embed(data)"
   ]
  },
  {
   "cell_type": "code",
   "execution_count": null,
   "metadata": {},
   "outputs": [],
   "source": [
    "df_query"
   ]
  }
 ],
 "metadata": {
  "kernelspec": {
   "display_name": "Python 3",
   "language": "python",
   "name": "python3"
  },
  "language_info": {
   "codemirror_mode": {
    "name": "ipython",
    "version": 3
   },
   "file_extension": ".py",
   "mimetype": "text/x-python",
   "name": "python",
   "nbconvert_exporter": "python",
   "pygments_lexer": "ipython3",
   "version": "3.5.3"
  }
 },
 "nbformat": 4,
 "nbformat_minor": 4
}
