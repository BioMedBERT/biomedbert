{
  "nbformat": 4,
  "nbformat_minor": 0,
  "metadata": {
    "kernelspec": {
      "display_name": "Python 3",
      "language": "python",
      "name": "python3"
    },
    "language_info": {
      "codemirror_mode": {
        "name": "ipython",
        "version": 3
      },
      "file_extension": ".py",
      "mimetype": "text/x-python",
      "name": "python",
      "nbconvert_exporter": "python",
      "pygments_lexer": "ipython3",
      "version": "3.7.7"
    },
    "colab": {
      "name": "bioasq_dataset_as_marco_souradip.ipynb",
      "provenance": []
    }
  },
  "cells": [
    {
      "cell_type": "code",
      "metadata": {
        "id": "gmsKMJ_6WZGX",
        "colab_type": "code",
        "colab": {}
      },
      "source": [
        "from google.colab.auth import authenticate_user\n",
        "authenticate_user()"
      ],
      "execution_count": 0,
      "outputs": []
    },
    {
      "cell_type": "code",
      "metadata": {
        "id": "BgqF0FM_WZGb",
        "colab_type": "code",
        "colab": {}
      },
      "source": [
        "import numpy as np\n",
        "import pandas as pd\n",
        "from tqdm import tqdm\n",
        "import re"
      ],
      "execution_count": 0,
      "outputs": []
    },
    {
      "cell_type": "code",
      "metadata": {
        "id": "nqNe0vCRWZGe",
        "colab_type": "code",
        "colab": {
          "base_uri": "https://localhost:8080/",
          "height": 68
        },
        "outputId": "9e16ca2a-95b0-4d75-a2bd-b3b41c482d43"
      },
      "source": [
        "!gsutil cp gs://ekaba-assets/datasets/QA/BioASQ/BioASQ-train-factoid-4b.json .\n",
        "!gsutil cp gs://ekaba-assets/datasets/QA/BioASQ/BioASQ-train-factoid-5b.json .\n",
        "!gsutil cp gs://ekaba-assets/datasets/QA/BioASQ/BioASQ-train-factoid-6b.json .\n",
        "# !gsutil cp gs://ekaba-assets/datasets/QA/BioASQ/trainining7b.json ."
      ],
      "execution_count": 7,
      "outputs": [
        {
          "output_type": "stream",
          "text": [
            "Copying gs://ekaba-assets/datasets/QA/BioASQ/trainining7b.json...\n",
            "- [1 files][ 24.6 MiB/ 24.6 MiB]                                                \n",
            "Operation completed over 1 objects/24.6 MiB.                                     \n"
          ],
          "name": "stdout"
        }
      ]
    },
    {
      "cell_type": "code",
      "metadata": {
        "id": "5S5kQw8qWZGh",
        "colab_type": "code",
        "colab": {}
      },
      "source": [
        "df1 = pd.read_json('BioASQ-train-factoid-4b.json')\n",
        "df2 = pd.read_json('BioASQ-train-factoid-5b.json')\n",
        "df3 = pd.read_json('BioASQ-train-factoid-6b.json')\n",
        "# df4 = pd.read_json('trainining7b.json')"
      ],
      "execution_count": 0,
      "outputs": []
    },
    {
      "cell_type": "code",
      "metadata": {
        "id": "XnUYJpgOXBtX",
        "colab_type": "code",
        "colab": {}
      },
      "source": [
        ""
      ],
      "execution_count": 0,
      "outputs": []
    },
    {
      "cell_type": "code",
      "metadata": {
        "id": "abi0gHOsWZGj",
        "colab_type": "code",
        "colab": {}
      },
      "source": [
        "l1 = len(df1['data'].iloc[0]['paragraphs'])\n",
        "l2 = len(df2['data'].iloc[0]['paragraphs'])\n",
        "l3 = len(df3['data'].iloc[0]['paragraphs'])\n",
        "# l4 = len(df4['data'].iloc[0]['paragraphs'])"
      ],
      "execution_count": 0,
      "outputs": []
    },
    {
      "cell_type": "code",
      "metadata": {
        "id": "jb-wqhy4WZGm",
        "colab_type": "code",
        "colab": {}
      },
      "source": [
        "def get_df(l,df) :\n",
        "\n",
        "    question = []\n",
        "    q_id = []\n",
        "    ans = []\n",
        "\n",
        "    for i in tqdm(range(0,l)):\n",
        "\n",
        "        para = df['data'].iloc[0]['paragraphs'][i]\n",
        "        qas = para['qas'][0]\n",
        "\n",
        "        question.append(qas['question'])\n",
        "        q_id.append(qas['id'])\n",
        "        ans.append(para['context'])\n",
        "        \n",
        "    \n",
        "    \n",
        "    #Dataframe\n",
        "    df_qa = pd.DataFrame()\n",
        "    \n",
        "    \n",
        "    #dataframe\n",
        "    df_qa['id'] = q_id\n",
        "    df_qa['question'] = question\n",
        "    df_qa['answer'] = ans\n",
        "\n",
        "    return df_qa\n",
        "\n"
      ],
      "execution_count": 0,
      "outputs": []
    },
    {
      "cell_type": "code",
      "metadata": {
        "id": "m7-zeV0aWZGp",
        "colab_type": "code",
        "colab": {
          "base_uri": "https://localhost:8080/",
          "height": 68
        },
        "outputId": "ad5618de-9e39-456a-d862-26612b155f7e"
      },
      "source": [
        "df_qa1 = get_df(l1,df1)\n",
        "df_qa2 = get_df(l2,df2)\n",
        "df_qa3 = get_df(l3,df3)\n",
        "# df_qa4 = get_df(l4,df4)"
      ],
      "execution_count": 15,
      "outputs": [
        {
          "output_type": "stream",
          "text": [
            "100%|██████████| 3266/3266 [00:00<00:00, 63541.81it/s]\n",
            "100%|██████████| 4950/4950 [00:00<00:00, 73435.67it/s]\n",
            "100%|██████████| 4772/4772 [00:00<00:00, 73945.85it/s]\n"
          ],
          "name": "stderr"
        }
      ]
    },
    {
      "cell_type": "code",
      "metadata": {
        "id": "MZ1FmmMTWZGr",
        "colab_type": "code",
        "colab": {}
      },
      "source": [
        "df_qa = pd.concat([df_qa1,df_qa2,df_qa3],sort=False)"
      ],
      "execution_count": 0,
      "outputs": []
    },
    {
      "cell_type": "code",
      "metadata": {
        "id": "PQP6NEa8WZGu",
        "colab_type": "code",
        "colab": {}
      },
      "source": [
        "df_qa = df_qa.drop(['id'],axis=1)"
      ],
      "execution_count": 0,
      "outputs": []
    },
    {
      "cell_type": "code",
      "metadata": {
        "id": "hFOaAcYtWZGw",
        "colab_type": "code",
        "colab": {
          "base_uri": "https://localhost:8080/",
          "height": 34
        },
        "outputId": "51992eaf-5361-4320-e074-359c7ed37a06"
      },
      "source": [
        "df_qa['answer'].nunique()"
      ],
      "execution_count": 18,
      "outputs": [
        {
          "output_type": "execute_result",
          "data": {
            "text/plain": [
              "2582"
            ]
          },
          "metadata": {
            "tags": []
          },
          "execution_count": 18
        }
      ]
    },
    {
      "cell_type": "code",
      "metadata": {
        "id": "NjDEaFS8WZGy",
        "colab_type": "code",
        "colab": {}
      },
      "source": [
        "df_qa_un = df_qa.drop_duplicates(keep='first')"
      ],
      "execution_count": 0,
      "outputs": []
    },
    {
      "cell_type": "code",
      "metadata": {
        "id": "P6Fu3ixQWZG0",
        "colab_type": "code",
        "colab": {
          "base_uri": "https://localhost:8080/",
          "height": 204
        },
        "outputId": "46974a20-d52d-4d25-e40c-c8e338a7ba1a"
      },
      "source": [
        "df_qa_un.head()"
      ],
      "execution_count": 20,
      "outputs": [
        {
          "output_type": "execute_result",
          "data": {
            "text/html": [
              "<div>\n",
              "<style scoped>\n",
              "    .dataframe tbody tr th:only-of-type {\n",
              "        vertical-align: middle;\n",
              "    }\n",
              "\n",
              "    .dataframe tbody tr th {\n",
              "        vertical-align: top;\n",
              "    }\n",
              "\n",
              "    .dataframe thead th {\n",
              "        text-align: right;\n",
              "    }\n",
              "</style>\n",
              "<table border=\"1\" class=\"dataframe\">\n",
              "  <thead>\n",
              "    <tr style=\"text-align: right;\">\n",
              "      <th></th>\n",
              "      <th>question</th>\n",
              "      <th>answer</th>\n",
              "    </tr>\n",
              "  </thead>\n",
              "  <tbody>\n",
              "    <tr>\n",
              "      <th>0</th>\n",
              "      <td>What is the inheritance pattern of Li–Fraumeni...</td>\n",
              "      <td>Balanced t(11;15)(q23;q15) in a TP53+/+ breast...</td>\n",
              "    </tr>\n",
              "    <tr>\n",
              "      <th>1</th>\n",
              "      <td>What is the inheritance pattern of Li–Fraumeni...</td>\n",
              "      <td>Genetic modeling of Li-Fraumeni syndrome in ze...</td>\n",
              "    </tr>\n",
              "    <tr>\n",
              "      <th>2</th>\n",
              "      <td>Which type of lung cancer is afatinib used for?</td>\n",
              "      <td>Clinical perspective of afatinib in non-small ...</td>\n",
              "    </tr>\n",
              "    <tr>\n",
              "      <th>3</th>\n",
              "      <td>Which hormone abnormalities are characteristic...</td>\n",
              "      <td>DOCA sensitive pendrin expression in kidney, h...</td>\n",
              "    </tr>\n",
              "    <tr>\n",
              "      <th>4</th>\n",
              "      <td>Which hormone abnormalities are characteristic...</td>\n",
              "      <td>Clinical and molecular characteristics of Pend...</td>\n",
              "    </tr>\n",
              "  </tbody>\n",
              "</table>\n",
              "</div>"
            ],
            "text/plain": [
              "                                            question                                             answer\n",
              "0  What is the inheritance pattern of Li–Fraumeni...  Balanced t(11;15)(q23;q15) in a TP53+/+ breast...\n",
              "1  What is the inheritance pattern of Li–Fraumeni...  Genetic modeling of Li-Fraumeni syndrome in ze...\n",
              "2    Which type of lung cancer is afatinib used for?  Clinical perspective of afatinib in non-small ...\n",
              "3  Which hormone abnormalities are characteristic...  DOCA sensitive pendrin expression in kidney, h...\n",
              "4  Which hormone abnormalities are characteristic...  Clinical and molecular characteristics of Pend..."
            ]
          },
          "metadata": {
            "tags": []
          },
          "execution_count": 20
        }
      ]
    },
    {
      "cell_type": "code",
      "metadata": {
        "id": "v-Hz6XVfXUcA",
        "colab_type": "code",
        "colab": {
          "base_uri": "https://localhost:8080/",
          "height": 34
        },
        "outputId": "6a8520ed-4578-4846-cb2c-d016a8c2b667"
      },
      "source": [
        "df_qa_un.iloc[0]['question']"
      ],
      "execution_count": 22,
      "outputs": [
        {
          "output_type": "execute_result",
          "data": {
            "text/plain": [
              "'What is the inheritance pattern of Li–Fraumeni syndrome?'"
            ]
          },
          "metadata": {
            "tags": []
          },
          "execution_count": 22
        }
      ]
    },
    {
      "cell_type": "code",
      "metadata": {
        "id": "9KMF0QSQXZOZ",
        "colab_type": "code",
        "colab": {
          "base_uri": "https://localhost:8080/",
          "height": 54
        },
        "outputId": "40f0f23b-4e65-4d51-8810-ccdac8a91731"
      },
      "source": [
        "df_qa_un.iloc[0]['answer']"
      ],
      "execution_count": 23,
      "outputs": [
        {
          "output_type": "execute_result",
          "data": {
            "text/plain": [
              "'Balanced t(11;15)(q23;q15) in a TP53+/+ breast cancer patient from a Li-Fraumeni syndrome family. Li-Fraumeni Syndrome (LFS) is characterized by early-onset carcinogenesis involving multiple tumor types and shows autosomal dominant inheritance. Approximately 70% of LFS cases are due to germline mutations in the TP53 gene on chromosome 17p13.1. Mutations have also been found in the CHEK2 gene on chromosome 22q11, and others have been mapped to chromosome 11q23. While characterizing an LFS family with a documented defect in TP53, we found one family member who developed bilateral breast cancer at age 37 yet was homozygous for wild-type TP53. Her mother also developed early-onset primary bilateral breast cancer, and a sister had unilateral breast cancer and a soft tissue sarcoma. Cytogenetic analysis using fluorescence in situ hybridization of a primary skin fibroblast cell line revealed that the patient had a novel balanced reciprocal translocation between the long arms of chromosomes 11 and 15: t(11;15)(q23;q15). This translocation was not present in a primary skin fibroblast cell line from a brother with neuroblastoma, who was heterozygous for the TP53 mutation. There was no evidence of acute lymphoblastic leukemia in either the patient or her mother, although a nephew did develop leukemia and died in childhood. These data may implicate the region at breakpoint 11q23 and/or 15q15 as playing a significant role in predisposition to breast cancer development.'"
            ]
          },
          "metadata": {
            "tags": []
          },
          "execution_count": 23
        }
      ]
    },
    {
      "cell_type": "code",
      "metadata": {
        "id": "mITle__eWZG3",
        "colab_type": "code",
        "colab": {}
      },
      "source": [
        "def text_preprocessing(text):\n",
        "    text= text.lower()\n",
        "    text= re.sub(r'[^a-z]',' ',text)\n",
        "    #text= \" \".join([s for s in text.split() if len(s)>2])\n",
        "    #text= \" \".join([x for x in text.split() if x not in stopwords.words('english')])\n",
        "    #text= \" \".join([inflection.singularize(x) for x in text.split()])\n",
        "    text= text.strip()\n",
        "    return(text)"
      ],
      "execution_count": 0,
      "outputs": []
    },
    {
      "cell_type": "code",
      "metadata": {
        "id": "AU-t-4K-WZG5",
        "colab_type": "code",
        "colab": {}
      },
      "source": [
        "tqdm.pandas()"
      ],
      "execution_count": 0,
      "outputs": []
    },
    {
      "cell_type": "code",
      "metadata": {
        "id": "qKgpbKuKWZG7",
        "colab_type": "code",
        "colab": {
          "base_uri": "https://localhost:8080/",
          "height": 255
        },
        "outputId": "6eb937ea-1b9b-4af3-d819-d6d0d0fb420f"
      },
      "source": [
        "df_qa_un['question'] = df_qa_un['question'].progress_apply(lambda x: text_preprocessing(x))\n",
        "df_qa_un['answer'] =   df_qa_un['answer'].progress_apply(lambda x: text_preprocessing(x))"
      ],
      "execution_count": 26,
      "outputs": [
        {
          "output_type": "stream",
          "text": [
            "100%|██████████| 2607/2607 [00:00<00:00, 123808.86it/s]\n",
            "/usr/local/lib/python3.6/dist-packages/ipykernel_launcher.py:1: SettingWithCopyWarning: \n",
            "A value is trying to be set on a copy of a slice from a DataFrame.\n",
            "Try using .loc[row_indexer,col_indexer] = value instead\n",
            "\n",
            "See the caveats in the documentation: https://pandas.pydata.org/pandas-docs/stable/user_guide/indexing.html#returning-a-view-versus-a-copy\n",
            "  \"\"\"Entry point for launching an IPython kernel.\n",
            "100%|██████████| 2607/2607 [00:00<00:00, 15471.51it/s]\n",
            "/usr/local/lib/python3.6/dist-packages/ipykernel_launcher.py:2: SettingWithCopyWarning: \n",
            "A value is trying to be set on a copy of a slice from a DataFrame.\n",
            "Try using .loc[row_indexer,col_indexer] = value instead\n",
            "\n",
            "See the caveats in the documentation: https://pandas.pydata.org/pandas-docs/stable/user_guide/indexing.html#returning-a-view-versus-a-copy\n",
            "  \n"
          ],
          "name": "stderr"
        }
      ]
    },
    {
      "cell_type": "code",
      "metadata": {
        "scrolled": true,
        "id": "2jmWkg2tWZG9",
        "colab_type": "code",
        "colab": {
          "base_uri": "https://localhost:8080/",
          "height": 34
        },
        "outputId": "a01eddf0-2475-4ab6-917c-370b1f378ce8"
      },
      "source": [
        "df_qa_un.shape"
      ],
      "execution_count": 27,
      "outputs": [
        {
          "output_type": "execute_result",
          "data": {
            "text/plain": [
              "(2607, 2)"
            ]
          },
          "metadata": {
            "tags": []
          },
          "execution_count": 27
        }
      ]
    },
    {
      "cell_type": "code",
      "metadata": {
        "id": "mv0Cp1JxWZG_",
        "colab_type": "code",
        "colab": {}
      },
      "source": [
        "unique_ques = list(df_qa_un['question'].unique())\n",
        "unique_ans =  list(df_qa_un['answer'].unique())"
      ],
      "execution_count": 0,
      "outputs": []
    },
    {
      "cell_type": "code",
      "metadata": {
        "id": "A24F_mWiWZHC",
        "colab_type": "code",
        "colab": {}
      },
      "source": [
        "dict_ques = {}\n",
        "\n",
        "for i,qs in enumerate(unique_ques):\n",
        "    dict_ques[qs] = i    "
      ],
      "execution_count": 0,
      "outputs": []
    },
    {
      "cell_type": "code",
      "metadata": {
        "id": "VuT8IfqFWZHE",
        "colab_type": "code",
        "colab": {}
      },
      "source": [
        "dict_ans = {}\n",
        "\n",
        "for i,ans in enumerate(unique_ans):\n",
        "    dict_ans[ans] = i    "
      ],
      "execution_count": 0,
      "outputs": []
    },
    {
      "cell_type": "code",
      "metadata": {
        "id": "fAqAZA_0WZHG",
        "colab_type": "code",
        "colab": {
          "base_uri": "https://localhost:8080/",
          "height": 34
        },
        "outputId": "aa4736ad-18a1-4c53-e5fe-dd2702c835f4"
      },
      "source": [
        "qid = []\n",
        "pid = []\n",
        "\n",
        "\n",
        "for i in tqdm(range(0,len(df_qa_un))):\n",
        "    \n",
        "    ques = df_qa_un['question'].iloc[i]\n",
        "    ans = df_qa_un['answer'].iloc[i]\n",
        "    \n",
        "    qid.append(dict_ques[ques])\n",
        "    pid.append(dict_ans[ans])"
      ],
      "execution_count": 31,
      "outputs": [
        {
          "output_type": "stream",
          "text": [
            "100%|██████████| 2607/2607 [00:00<00:00, 33683.43it/s]\n"
          ],
          "name": "stderr"
        }
      ]
    },
    {
      "cell_type": "code",
      "metadata": {
        "id": "Mk1KMDDyWZHI",
        "colab_type": "code",
        "colab": {
          "base_uri": "https://localhost:8080/",
          "height": 221
        },
        "outputId": "a18e78d1-1efd-4dc0-b904-b0eacc6dd130"
      },
      "source": [
        "df_qa_un['qid'] = qid\n",
        "df_qa_un['pid'] = pid"
      ],
      "execution_count": 32,
      "outputs": [
        {
          "output_type": "stream",
          "text": [
            "/usr/local/lib/python3.6/dist-packages/ipykernel_launcher.py:1: SettingWithCopyWarning: \n",
            "A value is trying to be set on a copy of a slice from a DataFrame.\n",
            "Try using .loc[row_indexer,col_indexer] = value instead\n",
            "\n",
            "See the caveats in the documentation: https://pandas.pydata.org/pandas-docs/stable/user_guide/indexing.html#returning-a-view-versus-a-copy\n",
            "  \"\"\"Entry point for launching an IPython kernel.\n",
            "/usr/local/lib/python3.6/dist-packages/ipykernel_launcher.py:2: SettingWithCopyWarning: \n",
            "A value is trying to be set on a copy of a slice from a DataFrame.\n",
            "Try using .loc[row_indexer,col_indexer] = value instead\n",
            "\n",
            "See the caveats in the documentation: https://pandas.pydata.org/pandas-docs/stable/user_guide/indexing.html#returning-a-view-versus-a-copy\n",
            "  \n"
          ],
          "name": "stderr"
        }
      ]
    },
    {
      "cell_type": "code",
      "metadata": {
        "id": "bFDNn04QWZHK",
        "colab_type": "code",
        "colab": {
          "base_uri": "https://localhost:8080/",
          "height": 204
        },
        "outputId": "cc236ecd-3d37-4c74-a1b8-b29aef4c284e"
      },
      "source": [
        "df_qa_un.head()"
      ],
      "execution_count": 33,
      "outputs": [
        {
          "output_type": "execute_result",
          "data": {
            "text/html": [
              "<div>\n",
              "<style scoped>\n",
              "    .dataframe tbody tr th:only-of-type {\n",
              "        vertical-align: middle;\n",
              "    }\n",
              "\n",
              "    .dataframe tbody tr th {\n",
              "        vertical-align: top;\n",
              "    }\n",
              "\n",
              "    .dataframe thead th {\n",
              "        text-align: right;\n",
              "    }\n",
              "</style>\n",
              "<table border=\"1\" class=\"dataframe\">\n",
              "  <thead>\n",
              "    <tr style=\"text-align: right;\">\n",
              "      <th></th>\n",
              "      <th>question</th>\n",
              "      <th>answer</th>\n",
              "      <th>qid</th>\n",
              "      <th>pid</th>\n",
              "    </tr>\n",
              "  </thead>\n",
              "  <tbody>\n",
              "    <tr>\n",
              "      <th>0</th>\n",
              "      <td>what is the inheritance pattern of li fraumeni...</td>\n",
              "      <td>balanced t        q   q    in a tp      breast...</td>\n",
              "      <td>0</td>\n",
              "      <td>0</td>\n",
              "    </tr>\n",
              "    <tr>\n",
              "      <th>1</th>\n",
              "      <td>what is the inheritance pattern of li fraumeni...</td>\n",
              "      <td>genetic modeling of li fraumeni syndrome in ze...</td>\n",
              "      <td>0</td>\n",
              "      <td>1</td>\n",
              "    </tr>\n",
              "    <tr>\n",
              "      <th>2</th>\n",
              "      <td>which type of lung cancer is afatinib used for</td>\n",
              "      <td>clinical perspective of afatinib in non small ...</td>\n",
              "      <td>1</td>\n",
              "      <td>2</td>\n",
              "    </tr>\n",
              "    <tr>\n",
              "      <th>3</th>\n",
              "      <td>which hormone abnormalities are characteristic...</td>\n",
              "      <td>doca sensitive pendrin expression in kidney  h...</td>\n",
              "      <td>2</td>\n",
              "      <td>3</td>\n",
              "    </tr>\n",
              "    <tr>\n",
              "      <th>4</th>\n",
              "      <td>which hormone abnormalities are characteristic...</td>\n",
              "      <td>clinical and molecular characteristics of pend...</td>\n",
              "      <td>2</td>\n",
              "      <td>4</td>\n",
              "    </tr>\n",
              "  </tbody>\n",
              "</table>\n",
              "</div>"
            ],
            "text/plain": [
              "                                            question  ... pid\n",
              "0  what is the inheritance pattern of li fraumeni...  ...   0\n",
              "1  what is the inheritance pattern of li fraumeni...  ...   1\n",
              "2     which type of lung cancer is afatinib used for  ...   2\n",
              "3  which hormone abnormalities are characteristic...  ...   3\n",
              "4  which hormone abnormalities are characteristic...  ...   4\n",
              "\n",
              "[5 rows x 4 columns]"
            ]
          },
          "metadata": {
            "tags": []
          },
          "execution_count": 33
        }
      ]
    },
    {
      "cell_type": "code",
      "metadata": {
        "id": "BN-MlZ2BWZHM",
        "colab_type": "code",
        "colab": {
          "base_uri": "https://localhost:8080/",
          "height": 266
        },
        "outputId": "22367a03-7332-46de-9fa5-5539a5b0047a"
      },
      "source": [
        "df_qa_un[df_qa_un['answer'].str.contains('fraumeni')]"
      ],
      "execution_count": 34,
      "outputs": [
        {
          "output_type": "execute_result",
          "data": {
            "text/html": [
              "<div>\n",
              "<style scoped>\n",
              "    .dataframe tbody tr th:only-of-type {\n",
              "        vertical-align: middle;\n",
              "    }\n",
              "\n",
              "    .dataframe tbody tr th {\n",
              "        vertical-align: top;\n",
              "    }\n",
              "\n",
              "    .dataframe thead th {\n",
              "        text-align: right;\n",
              "    }\n",
              "</style>\n",
              "<table border=\"1\" class=\"dataframe\">\n",
              "  <thead>\n",
              "    <tr style=\"text-align: right;\">\n",
              "      <th></th>\n",
              "      <th>question</th>\n",
              "      <th>answer</th>\n",
              "      <th>qid</th>\n",
              "      <th>pid</th>\n",
              "    </tr>\n",
              "  </thead>\n",
              "  <tbody>\n",
              "    <tr>\n",
              "      <th>0</th>\n",
              "      <td>what is the inheritance pattern of li fraumeni...</td>\n",
              "      <td>balanced t        q   q    in a tp      breast...</td>\n",
              "      <td>0</td>\n",
              "      <td>0</td>\n",
              "    </tr>\n",
              "    <tr>\n",
              "      <th>1</th>\n",
              "      <td>what is the inheritance pattern of li fraumeni...</td>\n",
              "      <td>genetic modeling of li fraumeni syndrome in ze...</td>\n",
              "      <td>0</td>\n",
              "      <td>1</td>\n",
              "    </tr>\n",
              "    <tr>\n",
              "      <th>1757</th>\n",
              "      <td>which tumor suppressor is referred to as  the ...</td>\n",
              "      <td>p    a guide to apoptosis  approximately     o...</td>\n",
              "      <td>89</td>\n",
              "      <td>564</td>\n",
              "    </tr>\n",
              "    <tr>\n",
              "      <th>2153</th>\n",
              "      <td>what is the usual her   status in breast cance...</td>\n",
              "      <td>breast cancer phenotype in women with tp   ger...</td>\n",
              "      <td>124</td>\n",
              "      <td>741</td>\n",
              "    </tr>\n",
              "    <tr>\n",
              "      <th>2156</th>\n",
              "      <td>what is the usual her   status in breast cance...</td>\n",
              "      <td>early onset her  positive breast cancer is ass...</td>\n",
              "      <td>124</td>\n",
              "      <td>742</td>\n",
              "    </tr>\n",
              "    <tr>\n",
              "      <th>2159</th>\n",
              "      <td>what is the usual her   status in breast cance...</td>\n",
              "      <td>a novel her  positive breast cancer phenotype ...</td>\n",
              "      <td>124</td>\n",
              "      <td>743</td>\n",
              "    </tr>\n",
              "    <tr>\n",
              "      <th>2739</th>\n",
              "      <td>which is the gene mutated in type   neurofibro...</td>\n",
              "      <td>inducible and transmissible genetic events and...</td>\n",
              "      <td>165</td>\n",
              "      <td>1135</td>\n",
              "    </tr>\n",
              "  </tbody>\n",
              "</table>\n",
              "</div>"
            ],
            "text/plain": [
              "                                               question  ...   pid\n",
              "0     what is the inheritance pattern of li fraumeni...  ...     0\n",
              "1     what is the inheritance pattern of li fraumeni...  ...     1\n",
              "1757  which tumor suppressor is referred to as  the ...  ...   564\n",
              "2153  what is the usual her   status in breast cance...  ...   741\n",
              "2156  what is the usual her   status in breast cance...  ...   742\n",
              "2159  what is the usual her   status in breast cance...  ...   743\n",
              "2739  which is the gene mutated in type   neurofibro...  ...  1135\n",
              "\n",
              "[7 rows x 4 columns]"
            ]
          },
          "metadata": {
            "tags": []
          },
          "execution_count": 34
        }
      ]
    },
    {
      "cell_type": "code",
      "metadata": {
        "id": "jwl0T2ceWZHP",
        "colab_type": "code",
        "colab": {
          "base_uri": "https://localhost:8080/",
          "height": 419
        },
        "outputId": "10e44820-da2b-44d0-c9ed-a6ebe33641a1"
      },
      "source": [
        "df_qa_un[df_qa_un['answer'].str.contains('status')]"
      ],
      "execution_count": 35,
      "outputs": [
        {
          "output_type": "execute_result",
          "data": {
            "text/html": [
              "<div>\n",
              "<style scoped>\n",
              "    .dataframe tbody tr th:only-of-type {\n",
              "        vertical-align: middle;\n",
              "    }\n",
              "\n",
              "    .dataframe tbody tr th {\n",
              "        vertical-align: top;\n",
              "    }\n",
              "\n",
              "    .dataframe thead th {\n",
              "        text-align: right;\n",
              "    }\n",
              "</style>\n",
              "<table border=\"1\" class=\"dataframe\">\n",
              "  <thead>\n",
              "    <tr style=\"text-align: right;\">\n",
              "      <th></th>\n",
              "      <th>question</th>\n",
              "      <th>answer</th>\n",
              "      <th>qid</th>\n",
              "      <th>pid</th>\n",
              "    </tr>\n",
              "  </thead>\n",
              "  <tbody>\n",
              "    <tr>\n",
              "      <th>2</th>\n",
              "      <td>which type of lung cancer is afatinib used for</td>\n",
              "      <td>clinical perspective of afatinib in non small ...</td>\n",
              "      <td>1</td>\n",
              "      <td>2</td>\n",
              "    </tr>\n",
              "    <tr>\n",
              "      <th>32</th>\n",
              "      <td>which hormone abnormalities are characteristic...</td>\n",
              "      <td>analysis of the slc  a  gene in patients with ...</td>\n",
              "      <td>2</td>\n",
              "      <td>16</td>\n",
              "    </tr>\n",
              "    <tr>\n",
              "      <th>66</th>\n",
              "      <td>what is the name for anorexia in gymnasts</td>\n",
              "      <td>salivary adiponectin levels are associated wit...</td>\n",
              "      <td>6</td>\n",
              "      <td>33</td>\n",
              "    </tr>\n",
              "    <tr>\n",
              "      <th>120</th>\n",
              "      <td>which is the main calcium binding protein of t...</td>\n",
              "      <td>control of muscle ryanodine receptor calcium r...</td>\n",
              "      <td>9</td>\n",
              "      <td>59</td>\n",
              "    </tr>\n",
              "    <tr>\n",
              "      <th>136</th>\n",
              "      <td>what is the target of the drug olaparib</td>\n",
              "      <td>xrcc  promotes colorectal cancer cell growth  ...</td>\n",
              "      <td>11</td>\n",
              "      <td>65</td>\n",
              "    </tr>\n",
              "    <tr>\n",
              "      <th>...</th>\n",
              "      <td>...</td>\n",
              "      <td>...</td>\n",
              "      <td>...</td>\n",
              "      <td>...</td>\n",
              "    </tr>\n",
              "    <tr>\n",
              "      <th>4500</th>\n",
              "      <td>what condition is usually represented by the a...</td>\n",
              "      <td>unifying the definitions of sudden unexpected ...</td>\n",
              "      <td>407</td>\n",
              "      <td>2440</td>\n",
              "    </tr>\n",
              "    <tr>\n",
              "      <th>4513</th>\n",
              "      <td>symptoms of which disorder are evaluated with ...</td>\n",
              "      <td>the sf    offers a strong measure of mental he...</td>\n",
              "      <td>410</td>\n",
              "      <td>2450</td>\n",
              "    </tr>\n",
              "    <tr>\n",
              "      <th>4688</th>\n",
              "      <td>what is the indication for valbenazine</td>\n",
              "      <td>valbenazine granted breakthrough drug status f...</td>\n",
              "      <td>431</td>\n",
              "      <td>2541</td>\n",
              "    </tr>\n",
              "    <tr>\n",
              "      <th>4692</th>\n",
              "      <td>what organism causes tularemia</td>\n",
              "      <td>the status of tularemia in europe in a one hea...</td>\n",
              "      <td>432</td>\n",
              "      <td>2545</td>\n",
              "    </tr>\n",
              "    <tr>\n",
              "      <th>4771</th>\n",
              "      <td>what is the role of tad protein domain</td>\n",
              "      <td>histone deacetylase inhibitors synergize p    ...</td>\n",
              "      <td>441</td>\n",
              "      <td>2581</td>\n",
              "    </tr>\n",
              "  </tbody>\n",
              "</table>\n",
              "<p>112 rows × 4 columns</p>\n",
              "</div>"
            ],
            "text/plain": [
              "                                               question  ...   pid\n",
              "2        which type of lung cancer is afatinib used for  ...     2\n",
              "32    which hormone abnormalities are characteristic...  ...    16\n",
              "66            what is the name for anorexia in gymnasts  ...    33\n",
              "120   which is the main calcium binding protein of t...  ...    59\n",
              "136             what is the target of the drug olaparib  ...    65\n",
              "...                                                 ...  ...   ...\n",
              "4500  what condition is usually represented by the a...  ...  2440\n",
              "4513  symptoms of which disorder are evaluated with ...  ...  2450\n",
              "4688             what is the indication for valbenazine  ...  2541\n",
              "4692                     what organism causes tularemia  ...  2545\n",
              "4771             what is the role of tad protein domain  ...  2581\n",
              "\n",
              "[112 rows x 4 columns]"
            ]
          },
          "metadata": {
            "tags": []
          },
          "execution_count": 35
        }
      ]
    },
    {
      "cell_type": "code",
      "metadata": {
        "id": "O2gvzAB2WZHc",
        "colab_type": "code",
        "colab": {}
      },
      "source": [
        "#df_qa1['qid'].value_counts()"
      ],
      "execution_count": 0,
      "outputs": []
    },
    {
      "cell_type": "code",
      "metadata": {
        "id": "gumLOeckWZHe",
        "colab_type": "code",
        "colab": {}
      },
      "source": [
        "#df_qa1['pid'].value_counts()"
      ],
      "execution_count": 0,
      "outputs": []
    },
    {
      "cell_type": "markdown",
      "metadata": {
        "id": "bUtrc5nVWZHg",
        "colab_type": "text"
      },
      "source": [
        "We need to have more answers per question to have a more robust MRR metric. We will add more data synthetically to enhance the quality of the metric"
      ]
    },
    {
      "cell_type": "code",
      "metadata": {
        "id": "_-5ZOkJlXunZ",
        "colab_type": "code",
        "colab": {}
      },
      "source": [
        ""
      ],
      "execution_count": 0,
      "outputs": []
    }
  ]
}