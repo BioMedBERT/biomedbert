{
 "cells": [
  {
   "cell_type": "markdown",
   "metadata": {},
   "source": [
    "# Ranking Measures Check\n",
    "\n",
    "## Data Format:\n",
    "### Golden results\n",
    "Golden DataFrame Format is standardized to 2 columns: query, document:\n",
    "\n",
    "```python\n",
    "query\tdocument\n",
    "0\tq1\tdoc2\n",
    "1\tq1\tdoc3\n",
    "2\tq2\tdoc6\n",
    "```\n",
    "\n",
    "### Search results\n",
    "Search results can be given in 2 formats:\n",
    "\n",
    "#### Flat format:\n",
    "```python\n",
    "\tquery\tdocument\trank\n",
    "0\tq1\tdoc1\t1\n",
    "1\tq1\tdoc2\t2\n",
    "2\tq1\tdoc3\t3\n",
    "3\tq2\tdoc4\t1\n",
    "4\tq2\tdoc5\t2\n",
    "5\tq2\tdoc6\t3\n",
    "```\n",
    "\n",
    "#### Nested format:\n",
    "```python\n",
    "[{'question': 'q1', 'answers': ['doc1', 'doc2', 'doc3']},\n",
    " {'question': 'q2', 'answers': ['doc4', 'doc5', 'doc6']}]\n",
    "```"
   ]
  },
  {
   "cell_type": "code",
   "execution_count": 49,
   "metadata": {},
   "outputs": [],
   "source": [
    "import pandas as pd\n",
    "import numpy as np"
   ]
  },
  {
   "cell_type": "code",
   "execution_count": 31,
   "metadata": {},
   "outputs": [],
   "source": [
    "golden = pd.DataFrame.from_dict([\n",
    "    {'query': 'q1', 'document': 'doc2'},\n",
    "    {'query': 'q1', 'document': 'doc3'},\n",
    "    {'query': 'q2', 'document': 'doc6'},\n",
    "])\n",
    "\n",
    "results = pd.DataFrame.from_dict([\n",
    "    {'query': 'q1', 'document': 'doc1', 'rank': 1},\n",
    "    {'query': 'q1', 'document': 'doc2', 'rank': 2},\n",
    "    {'query': 'q1', 'document': 'doc3', 'rank': 3},\n",
    "    {'query': 'q2', 'document': 'doc4', 'rank': 1},\n",
    "    {'query': 'q2', 'document': 'doc5', 'rank': 2},\n",
    "    {'query': 'q2', 'document': 'doc6', 'rank': 3},\n",
    "])"
   ]
  },
  {
   "cell_type": "code",
   "execution_count": 32,
   "metadata": {},
   "outputs": [
    {
     "data": {
      "text/html": [
       "<div>\n",
       "<style scoped>\n",
       "    .dataframe tbody tr th:only-of-type {\n",
       "        vertical-align: middle;\n",
       "    }\n",
       "\n",
       "    .dataframe tbody tr th {\n",
       "        vertical-align: top;\n",
       "    }\n",
       "\n",
       "    .dataframe thead th {\n",
       "        text-align: right;\n",
       "    }\n",
       "</style>\n",
       "<table border=\"1\" class=\"dataframe\">\n",
       "  <thead>\n",
       "    <tr style=\"text-align: right;\">\n",
       "      <th></th>\n",
       "      <th>query</th>\n",
       "      <th>document</th>\n",
       "    </tr>\n",
       "  </thead>\n",
       "  <tbody>\n",
       "    <tr>\n",
       "      <th>0</th>\n",
       "      <td>q1</td>\n",
       "      <td>doc2</td>\n",
       "    </tr>\n",
       "    <tr>\n",
       "      <th>1</th>\n",
       "      <td>q1</td>\n",
       "      <td>doc3</td>\n",
       "    </tr>\n",
       "    <tr>\n",
       "      <th>2</th>\n",
       "      <td>q2</td>\n",
       "      <td>doc6</td>\n",
       "    </tr>\n",
       "  </tbody>\n",
       "</table>\n",
       "</div>"
      ],
      "text/plain": [
       "  query document\n",
       "0    q1     doc2\n",
       "1    q1     doc3\n",
       "2    q2     doc6"
      ]
     },
     "execution_count": 32,
     "metadata": {},
     "output_type": "execute_result"
    }
   ],
   "source": [
    "golden"
   ]
  },
  {
   "cell_type": "code",
   "execution_count": 33,
   "metadata": {},
   "outputs": [
    {
     "data": {
      "text/html": [
       "<div>\n",
       "<style scoped>\n",
       "    .dataframe tbody tr th:only-of-type {\n",
       "        vertical-align: middle;\n",
       "    }\n",
       "\n",
       "    .dataframe tbody tr th {\n",
       "        vertical-align: top;\n",
       "    }\n",
       "\n",
       "    .dataframe thead th {\n",
       "        text-align: right;\n",
       "    }\n",
       "</style>\n",
       "<table border=\"1\" class=\"dataframe\">\n",
       "  <thead>\n",
       "    <tr style=\"text-align: right;\">\n",
       "      <th></th>\n",
       "      <th>query</th>\n",
       "      <th>document</th>\n",
       "      <th>rank</th>\n",
       "    </tr>\n",
       "  </thead>\n",
       "  <tbody>\n",
       "    <tr>\n",
       "      <th>0</th>\n",
       "      <td>q1</td>\n",
       "      <td>doc1</td>\n",
       "      <td>1</td>\n",
       "    </tr>\n",
       "    <tr>\n",
       "      <th>1</th>\n",
       "      <td>q1</td>\n",
       "      <td>doc2</td>\n",
       "      <td>2</td>\n",
       "    </tr>\n",
       "    <tr>\n",
       "      <th>2</th>\n",
       "      <td>q1</td>\n",
       "      <td>doc3</td>\n",
       "      <td>3</td>\n",
       "    </tr>\n",
       "    <tr>\n",
       "      <th>3</th>\n",
       "      <td>q2</td>\n",
       "      <td>doc4</td>\n",
       "      <td>1</td>\n",
       "    </tr>\n",
       "    <tr>\n",
       "      <th>4</th>\n",
       "      <td>q2</td>\n",
       "      <td>doc5</td>\n",
       "      <td>2</td>\n",
       "    </tr>\n",
       "    <tr>\n",
       "      <th>5</th>\n",
       "      <td>q2</td>\n",
       "      <td>doc6</td>\n",
       "      <td>3</td>\n",
       "    </tr>\n",
       "  </tbody>\n",
       "</table>\n",
       "</div>"
      ],
      "text/plain": [
       "  query document  rank\n",
       "0    q1     doc1     1\n",
       "1    q1     doc2     2\n",
       "2    q1     doc3     3\n",
       "3    q2     doc4     1\n",
       "4    q2     doc5     2\n",
       "5    q2     doc6     3"
      ]
     },
     "execution_count": 33,
     "metadata": {},
     "output_type": "execute_result"
    }
   ],
   "source": [
    "results"
   ]
  },
  {
   "cell_type": "code",
   "execution_count": 81,
   "metadata": {},
   "outputs": [
    {
     "data": {
      "text/plain": [
       "[{'question': 'q1', 'answers': ['doc1', 'doc2', 'doc3']},\n",
       " {'question': 'q2', 'answers': ['doc4', 'doc5', 'doc6']}]"
      ]
     },
     "execution_count": 81,
     "metadata": {},
     "output_type": "execute_result"
    }
   ],
   "source": [
    "def to_nested(results_df):\n",
    "  res = []\n",
    "  for q in results_df['query'].unique():\n",
    "    answers = list(results_df[results_df['query'] == q].sort_values('rank')['document'].values)\n",
    "    res.append({'question': q, 'answers': answers})\n",
    "  return res\n",
    "\n",
    "to_nested(results)"
   ]
  },
  {
   "cell_type": "code",
   "execution_count": 87,
   "metadata": {},
   "outputs": [
    {
     "data": {
      "text/plain": [
       "True"
      ]
     },
     "execution_count": 87,
     "metadata": {},
     "output_type": "execute_result"
    }
   ],
   "source": [
    "def from_nested(results):\n",
    "  res = []\n",
    "  for item in results:\n",
    "    for i, answer in enumerate(item['answers']):\n",
    "      res.append([item['question'], answer, i+1])\n",
    "  return pd.DataFrame(res, columns=['query', 'document', 'rank'])\n",
    "\n",
    "(from_nested(to_nested(results)) == results).all().all()"
   ]
  },
  {
   "cell_type": "markdown",
   "metadata": {},
   "source": [
    "## MRR\n",
    "https://stackoverflow.com/questions/49733119/calculate-mean-reciprocal-rank"
   ]
  },
  {
   "cell_type": "code",
   "execution_count": 101,
   "metadata": {},
   "outputs": [],
   "source": [
    "MAX_RANK = 100000\n",
    "\n",
    "def mrr(golden, results, max_rank=MAX_RANK):\n",
    "  if isinstance(results, pd.DataFrame):\n",
    "    res = results\n",
    "  elif isinstance(results, list):\n",
    "    res = from_nested(results)\n",
    "  else:\n",
    "    raise NotImplementedError()\n",
    "    \n",
    "  hits = pd.merge(golden, res,\n",
    "      on=[\"query\", \"document\"],\n",
    "      how=\"left\").fillna(max_rank)\n",
    "\n",
    "  mrr = (1 / hits.groupby('query')['rank'].min()).mean()\n",
    "  return mrr"
   ]
  },
  {
   "cell_type": "code",
   "execution_count": 102,
   "metadata": {},
   "outputs": [
    {
     "data": {
      "text/plain": [
       "0.41666666666666663"
      ]
     },
     "execution_count": 102,
     "metadata": {},
     "output_type": "execute_result"
    }
   ],
   "source": [
    "mrr(golden, results)"
   ]
  },
  {
   "cell_type": "code",
   "execution_count": 103,
   "metadata": {},
   "outputs": [
    {
     "data": {
      "text/plain": [
       "0.41666666666666663"
      ]
     },
     "execution_count": 103,
     "metadata": {},
     "output_type": "execute_result"
    }
   ],
   "source": [
    "mrr(golden, to_nested(results))"
   ]
  },
  {
   "cell_type": "markdown",
   "metadata": {},
   "source": [
    "### Sanity Check"
   ]
  },
  {
   "cell_type": "markdown",
   "metadata": {},
   "source": [
    "https://gist.github.com/bwhite/3726239"
   ]
  },
  {
   "cell_type": "code",
   "execution_count": 104,
   "metadata": {},
   "outputs": [],
   "source": [
    "def mean_reciprocal_rank(rs):\n",
    "    \"\"\"Score is reciprocal of the rank of the first relevant item\n",
    "    First element is 'rank 1'.  Relevance is binary (nonzero is relevant).\n",
    "    Example from http://en.wikipedia.org/wiki/Mean_reciprocal_rank\n",
    "    >>> rs = [[0, 0, 1], [0, 1, 0], [1, 0, 0]]\n",
    "    >>> mean_reciprocal_rank(rs)\n",
    "    0.61111111111111105\n",
    "    >>> rs = np.array([[0, 0, 0], [0, 1, 0], [1, 0, 0]])\n",
    "    >>> mean_reciprocal_rank(rs)\n",
    "    0.5\n",
    "    >>> rs = [[0, 0, 0, 1], [1, 0, 0], [1, 0, 0]]\n",
    "    >>> mean_reciprocal_rank(rs)\n",
    "    0.75\n",
    "    Args:\n",
    "        rs: Iterator of relevance scores (list or numpy) in rank order\n",
    "            (first element is the first item)\n",
    "    Returns:\n",
    "        Mean reciprocal rank\n",
    "    \"\"\"\n",
    "    rs = (np.asarray(r).nonzero()[0] for r in rs)\n",
    "    return np.mean([1. / (r[0] + 1) if r.size else 0. for r in rs])\n"
   ]
  },
  {
   "cell_type": "code",
   "execution_count": 105,
   "metadata": {},
   "outputs": [
    {
     "data": {
      "text/plain": [
       "array([[0., 1., 0.],\n",
       "       [0., 0., 1.]])"
      ]
     },
     "execution_count": 105,
     "metadata": {},
     "output_type": "execute_result"
    }
   ],
   "source": [
    "grouped = hits.groupby('query')['rank'].min().values\n",
    "\n",
    "rs = np.zeros((len(grouped), grouped.max()))\n",
    "\n",
    "for i, j in enumerate(grouped):\n",
    "  rs[i, j-1] = 1\n",
    "\n",
    "rs"
   ]
  },
  {
   "cell_type": "code",
   "execution_count": 106,
   "metadata": {},
   "outputs": [
    {
     "data": {
      "text/plain": [
       "0.41666666666666663"
      ]
     },
     "execution_count": 106,
     "metadata": {},
     "output_type": "execute_result"
    }
   ],
   "source": [
    "mean_reciprocal_rank(rs)"
   ]
  },
  {
   "cell_type": "code",
   "execution_count": 107,
   "metadata": {},
   "outputs": [
    {
     "data": {
      "text/plain": [
       "0.75"
      ]
     },
     "execution_count": 107,
     "metadata": {},
     "output_type": "execute_result"
    }
   ],
   "source": [
    "rs = [[0, 0, 0, 1], [1, 0, 0], [1, 0, 0]]\n",
    "mean_reciprocal_rank(rs)"
   ]
  },
  {
   "cell_type": "code",
   "execution_count": 108,
   "metadata": {},
   "outputs": [
    {
     "data": {
      "text/plain": [
       "0.75"
      ]
     },
     "execution_count": 108,
     "metadata": {},
     "output_type": "execute_result"
    }
   ],
   "source": [
    "rs = [[0, 0, 0, 1], [1, 1, 0], [1, 1, 0]]\n",
    "mean_reciprocal_rank(rs)"
   ]
  }
 ],
 "metadata": {
  "kernelspec": {
   "display_name": "Python 3",
   "language": "python",
   "name": "python3"
  },
  "language_info": {
   "codemirror_mode": {
    "name": "ipython",
    "version": 3
   },
   "file_extension": ".py",
   "mimetype": "text/x-python",
   "name": "python",
   "nbconvert_exporter": "python",
   "pygments_lexer": "ipython3",
   "version": "3.7.7"
  }
 },
 "nbformat": 4,
 "nbformat_minor": 4
}
