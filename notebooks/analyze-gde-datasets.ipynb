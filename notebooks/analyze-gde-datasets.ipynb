{
 "cells": [
  {
   "cell_type": "markdown",
   "metadata": {},
   "source": [
    "# Analyze and Combine GAD datasets"
   ]
  },
  {
   "cell_type": "code",
   "execution_count": 23,
   "metadata": {},
   "outputs": [],
   "source": [
    "import os\n",
    "import glob\n",
    "import numpy as np\n",
    "import pandas as pd\n",
    "from fnmatch import fnmatch"
   ]
  },
  {
   "cell_type": "code",
   "execution_count": 27,
   "metadata": {},
   "outputs": [],
   "source": [
    "def get_files_from_subdirs(pattern, root='datasets/RE/GAD/'):\n",
    "    all_filenames = []\n",
    "    for path, subdirs, files in os.walk(root):\n",
    "        for name in files:\n",
    "            if fnmatch(name, pattern):\n",
    "                all_filenames.append(os.path.join(path, name))\n",
    "    return all_filenames"
   ]
  },
  {
   "cell_type": "code",
   "execution_count": 96,
   "metadata": {},
   "outputs": [],
   "source": [
    "def combine_files(file_list: list, sep: str, output_fname: str, header):\n",
    "    # combine all files in the list\n",
    "    combine_files = pd.concat([pd.read_csv(f, sep, header=header) for f in file_list ], sort=False)\n",
    "    # export to csv\n",
    "    if sep is '\\t':\n",
    "        if header is None:\n",
    "            combine_files.to_csv( '{}.tsv'.format(output_fname), header=False, index=False, encoding='utf-8')\n",
    "        else:\n",
    "            combine_files.to_csv( '{}.tsv'.format(output_fname), index=False, encoding='utf-8')\n",
    "    else:\n",
    "        if header is None:\n",
    "            combine_files.to_csv( '{}.csv'.format(output_fname), header=False, index=False, encoding='utf-8')\n",
    "        else:\n",
    "            combine_files.to_csv( '{}.csv'.format(output_fname), index=False, encoding='utf-8')\n",
    "    return combine_files"
   ]
  },
  {
   "cell_type": "code",
   "execution_count": 97,
   "metadata": {},
   "outputs": [],
   "source": [
    "train_pattern = \"*train.tsv\"\n",
    "train_fnames = get_files_from_subdirs(train_pattern)"
   ]
  },
  {
   "cell_type": "code",
   "execution_count": 98,
   "metadata": {},
   "outputs": [
    {
     "data": {
      "text/plain": [
       "['datasets/RE/GAD/6/train.tsv',\n",
       " 'datasets/RE/GAD/10/train.tsv',\n",
       " 'datasets/RE/GAD/2/train.tsv',\n",
       " 'datasets/RE/GAD/8/train.tsv',\n",
       " 'datasets/RE/GAD/3/train.tsv',\n",
       " 'datasets/RE/GAD/5/train.tsv',\n",
       " 'datasets/RE/GAD/7/train.tsv',\n",
       " 'datasets/RE/GAD/4/train.tsv',\n",
       " 'datasets/RE/GAD/9/train.tsv',\n",
       " 'datasets/RE/GAD/1/train.tsv']"
      ]
     },
     "execution_count": 98,
     "metadata": {},
     "output_type": "execute_result"
    }
   ],
   "source": [
    "train_fnames"
   ]
  },
  {
   "cell_type": "code",
   "execution_count": 99,
   "metadata": {},
   "outputs": [],
   "source": [
    "train_combine_tsvs = combine_files(train_fnames, sep='\\t', output_fname='train', header=None)"
   ]
  },
  {
   "cell_type": "code",
   "execution_count": 100,
   "metadata": {},
   "outputs": [
    {
     "data": {
      "text/plain": [
       "(47970, 2)"
      ]
     },
     "execution_count": 100,
     "metadata": {},
     "output_type": "execute_result"
    }
   ],
   "source": [
    "train_combine_tsvs.shape"
   ]
  },
  {
   "cell_type": "code",
   "execution_count": 101,
   "metadata": {},
   "outputs": [
    {
     "data": {
      "text/html": [
       "<div>\n",
       "<style scoped>\n",
       "    .dataframe tbody tr th:only-of-type {\n",
       "        vertical-align: middle;\n",
       "    }\n",
       "\n",
       "    .dataframe tbody tr th {\n",
       "        vertical-align: top;\n",
       "    }\n",
       "\n",
       "    .dataframe thead th {\n",
       "        text-align: right;\n",
       "    }\n",
       "</style>\n",
       "<table border=\"1\" class=\"dataframe\">\n",
       "  <thead>\n",
       "    <tr style=\"text-align: right;\">\n",
       "      <th></th>\n",
       "      <th>0</th>\n",
       "      <th>1</th>\n",
       "    </tr>\n",
       "  </thead>\n",
       "  <tbody>\n",
       "    <tr>\n",
       "      <th>0</th>\n",
       "      <td>The polymorphism of @GENE$ promoter -969(G&gt;C) ...</td>\n",
       "      <td>1</td>\n",
       "    </tr>\n",
       "    <tr>\n",
       "      <th>1</th>\n",
       "      <td>In conclusion, the presence of the @GENE$ gene...</td>\n",
       "      <td>0</td>\n",
       "    </tr>\n",
       "    <tr>\n",
       "      <th>2</th>\n",
       "      <td>These results suggest that genetic polymorphis...</td>\n",
       "      <td>0</td>\n",
       "    </tr>\n",
       "    <tr>\n",
       "      <th>3</th>\n",
       "      <td>These results do not support @GENE$ 3111C as a...</td>\n",
       "      <td>0</td>\n",
       "    </tr>\n",
       "    <tr>\n",
       "      <th>4</th>\n",
       "      <td>The results of our study indicate that GABRA 3...</td>\n",
       "      <td>1</td>\n",
       "    </tr>\n",
       "  </tbody>\n",
       "</table>\n",
       "</div>"
      ],
      "text/plain": [
       "                                                   0  1\n",
       "0  The polymorphism of @GENE$ promoter -969(G>C) ...  1\n",
       "1  In conclusion, the presence of the @GENE$ gene...  0\n",
       "2  These results suggest that genetic polymorphis...  0\n",
       "3  These results do not support @GENE$ 3111C as a...  0\n",
       "4  The results of our study indicate that GABRA 3...  1"
      ]
     },
     "execution_count": 101,
     "metadata": {},
     "output_type": "execute_result"
    }
   ],
   "source": [
    "train_combine_tsvs.head()"
   ]
  },
  {
   "cell_type": "code",
   "execution_count": 75,
   "metadata": {},
   "outputs": [],
   "source": [
    "test_pattern = \"*test.tsv\"\n",
    "test_fnames = get_files_from_subdirs(test_pattern)\n",
    "test_combine_tsvs = combine_files(test_fnames, sep='\\t', output_fname='test',  header=0)"
   ]
  },
  {
   "cell_type": "code",
   "execution_count": 76,
   "metadata": {},
   "outputs": [
    {
     "data": {
      "text/plain": [
       "(5330, 3)"
      ]
     },
     "execution_count": 76,
     "metadata": {},
     "output_type": "execute_result"
    }
   ],
   "source": [
    "test_combine_tsvs.shape"
   ]
  },
  {
   "cell_type": "code",
   "execution_count": 77,
   "metadata": {},
   "outputs": [
    {
     "data": {
      "text/html": [
       "<div>\n",
       "<style scoped>\n",
       "    .dataframe tbody tr th:only-of-type {\n",
       "        vertical-align: middle;\n",
       "    }\n",
       "\n",
       "    .dataframe tbody tr th {\n",
       "        vertical-align: top;\n",
       "    }\n",
       "\n",
       "    .dataframe thead th {\n",
       "        text-align: right;\n",
       "    }\n",
       "</style>\n",
       "<table border=\"1\" class=\"dataframe\">\n",
       "  <thead>\n",
       "    <tr style=\"text-align: right;\">\n",
       "      <th></th>\n",
       "      <th>index</th>\n",
       "      <th>sentence</th>\n",
       "      <th>label</th>\n",
       "    </tr>\n",
       "  </thead>\n",
       "  <tbody>\n",
       "    <tr>\n",
       "      <th>0</th>\n",
       "      <td>0</td>\n",
       "      <td>Coupled with previous findings, our data sugge...</td>\n",
       "      <td>1</td>\n",
       "    </tr>\n",
       "    <tr>\n",
       "      <th>1</th>\n",
       "      <td>1</td>\n",
       "      <td>These results indicate a possible involvement ...</td>\n",
       "      <td>1</td>\n",
       "    </tr>\n",
       "    <tr>\n",
       "      <th>2</th>\n",
       "      <td>2</td>\n",
       "      <td>In the Amsterdam Cohort of homosexual men with...</td>\n",
       "      <td>1</td>\n",
       "    </tr>\n",
       "    <tr>\n",
       "      <th>3</th>\n",
       "      <td>3</td>\n",
       "      <td>We conclude that  @GENE$-589*T, but not TNF-al...</td>\n",
       "      <td>1</td>\n",
       "    </tr>\n",
       "    <tr>\n",
       "      <th>4</th>\n",
       "      <td>4</td>\n",
       "      <td>We suggest that exon 5 +3953 IL1beta and @GENE...</td>\n",
       "      <td>1</td>\n",
       "    </tr>\n",
       "  </tbody>\n",
       "</table>\n",
       "</div>"
      ],
      "text/plain": [
       "   index                                           sentence  label\n",
       "0      0  Coupled with previous findings, our data sugge...      1\n",
       "1      1  These results indicate a possible involvement ...      1\n",
       "2      2  In the Amsterdam Cohort of homosexual men with...      1\n",
       "3      3  We conclude that  @GENE$-589*T, but not TNF-al...      1\n",
       "4      4  We suggest that exon 5 +3953 IL1beta and @GENE...      1"
      ]
     },
     "execution_count": 77,
     "metadata": {},
     "output_type": "execute_result"
    }
   ],
   "source": [
    "test_combine_tsvs.head()"
   ]
  },
  {
   "cell_type": "markdown",
   "metadata": {},
   "source": [
    "# Analyze and Combine EU-ADR datasets"
   ]
  },
  {
   "cell_type": "code",
   "execution_count": null,
   "metadata": {},
   "outputs": [],
   "source": []
  }
 ],
 "metadata": {
  "kernelspec": {
   "display_name": "Python 3",
   "language": "python",
   "name": "python3"
  },
  "language_info": {
   "codemirror_mode": {
    "name": "ipython",
    "version": 3
   },
   "file_extension": ".py",
   "mimetype": "text/x-python",
   "name": "python",
   "nbconvert_exporter": "python",
   "pygments_lexer": "ipython3",
   "version": "3.5.3"
  }
 },
 "nbformat": 4,
 "nbformat_minor": 4
}
