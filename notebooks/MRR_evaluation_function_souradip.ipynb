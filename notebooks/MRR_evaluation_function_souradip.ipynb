{
  "nbformat": 4,
  "nbformat_minor": 0,
  "metadata": {
    "kernelspec": {
      "display_name": "Python 3",
      "language": "python",
      "name": "python3"
    },
    "language_info": {
      "codemirror_mode": {
        "name": "ipython",
        "version": 3
      },
      "file_extension": ".py",
      "mimetype": "text/x-python",
      "name": "python",
      "nbconvert_exporter": "python",
      "pygments_lexer": "ipython3",
      "version": "3.7.7"
    },
    "colab": {
      "name": "MRR_evaluation_function_souradip.ipynb",
      "provenance": []
    }
  },
  "cells": [
    {
      "cell_type": "code",
      "metadata": {
        "id": "xvXYjsU0Wa_N",
        "colab_type": "code",
        "colab": {}
      },
      "source": [
        "import numpy as np\n",
        "import csv\n",
        "import pandas as pd\n",
        "import os\n",
        "import time\n",
        "from tqdm import tqdm"
      ],
      "execution_count": 0,
      "outputs": []
    },
    {
      "cell_type": "code",
      "metadata": {
        "id": "7BPoD1ZwWa_S",
        "colab_type": "code",
        "colab": {}
      },
      "source": [
        "def compute_metrics(df_true, df_pred):\n",
        "    \n",
        "    \"\"\"Compute MRR metric\n",
        "    Assumptions: Ensure we have top 10 results for all the questions for the code sanity\n",
        "    Sort the results by cosine similarity and give the top 10\n",
        "    \"\"\"\n",
        "    all_scores = {}\n",
        "    MRR = 0\n",
        "    \n",
        "    \n",
        "    #list of true and predicted\n",
        "    list1= list(set(df_pred['qid'].to_list()))\n",
        "    list2= list(set(df_true['qid'].to_list()))\n",
        "    \n",
        "    \n",
        "    for qid in list1:\n",
        "        if qid in list2:\n",
        "            #print (qid)\n",
        "            target_pid = list(df_true[df_true['qid']==qid]['pid'])\n",
        "            candidate_pid = list(df_pred[df_pred['qid']==qid]['pid'])\n",
        "            rank_pid = list(df_pred[df_pred['qid']==qid]['rank'])\n",
        "            \n",
        "            for i in range(0,MaxMRRRank):\n",
        "                if candidate_pid[i] in target_pid:\n",
        "                    MRR += 1/(rank_pid[i] + 1)\n",
        "                    #print (MRR)\n",
        "                \n",
        "\n",
        "    \n",
        "    \n",
        "    #calculating the final MRR\n",
        "    MRR = MRR/len(list1)\n",
        "    all_scores['MRR @10'] = MRR\n",
        "    all_scores['QueriesRanked'] = len(list1)\n",
        "    return all_scores"
      ],
      "execution_count": 0,
      "outputs": []
    },
    {
      "cell_type": "markdown",
      "metadata": {
        "id": "ERGw5G0GWa_Y",
        "colab_type": "text"
      },
      "source": [
        "#### MRR Type 1 Evaluation"
      ]
    },
    {
      "cell_type": "code",
      "metadata": {
        "id": "HBB-v83JWa_Y",
        "colab_type": "code",
        "colab": {}
      },
      "source": [
        "MaxMRRRank = 4"
      ],
      "execution_count": 0,
      "outputs": []
    },
    {
      "cell_type": "code",
      "metadata": {
        "id": "zZfVR9IOWa_b",
        "colab_type": "code",
        "colab": {}
      },
      "source": [
        "#Input Dataframe\n",
        "df_true = pd.DataFrame.from_dict([\n",
        "    {'qid': 'q1', 'pid': 'doc2'},\n",
        "    {'qid': 'q1', 'pid': 'doc3'},\n",
        "    {'qid': 'q2', 'pid': 'doc7'},\n",
        "])\n",
        "\n",
        "\n",
        "\n",
        "#Predicted dataframe\n",
        "df_pred = pd.DataFrame.from_dict([\n",
        "    {'qid': 'q1', 'pid': 'doc1', 'rank': 1},\n",
        "    {'qid': 'q1', 'pid': 'doc2', 'rank': 2},\n",
        "    {'qid': 'q1', 'pid': 'doc3', 'rank': 3},\n",
        "    {'qid': 'q1', 'pid': 'doc4', 'rank': 4},\n",
        "    {'qid': 'q2', 'pid': 'doc4', 'rank': 1},\n",
        "    {'qid': 'q2', 'pid': 'doc5', 'rank': 2},\n",
        "    {'qid': 'q2', 'pid': 'doc6', 'rank': 3},\n",
        "    {'qid': 'q2', 'pid': 'doc7', 'rank': 4},\n",
        "])\n",
        "\n"
      ],
      "execution_count": 0,
      "outputs": []
    },
    {
      "cell_type": "code",
      "metadata": {
        "id": "hWl2OztRWa_e",
        "colab_type": "code",
        "colab": {
          "base_uri": "https://localhost:8080/",
          "height": 142
        },
        "outputId": "9e3ccd5d-c384-4852-f7d3-5b19fdc3b366"
      },
      "source": [
        "df_true"
      ],
      "execution_count": 5,
      "outputs": [
        {
          "output_type": "execute_result",
          "data": {
            "text/html": [
              "<div>\n",
              "<style scoped>\n",
              "    .dataframe tbody tr th:only-of-type {\n",
              "        vertical-align: middle;\n",
              "    }\n",
              "\n",
              "    .dataframe tbody tr th {\n",
              "        vertical-align: top;\n",
              "    }\n",
              "\n",
              "    .dataframe thead th {\n",
              "        text-align: right;\n",
              "    }\n",
              "</style>\n",
              "<table border=\"1\" class=\"dataframe\">\n",
              "  <thead>\n",
              "    <tr style=\"text-align: right;\">\n",
              "      <th></th>\n",
              "      <th>qid</th>\n",
              "      <th>pid</th>\n",
              "    </tr>\n",
              "  </thead>\n",
              "  <tbody>\n",
              "    <tr>\n",
              "      <th>0</th>\n",
              "      <td>q1</td>\n",
              "      <td>doc2</td>\n",
              "    </tr>\n",
              "    <tr>\n",
              "      <th>1</th>\n",
              "      <td>q1</td>\n",
              "      <td>doc3</td>\n",
              "    </tr>\n",
              "    <tr>\n",
              "      <th>2</th>\n",
              "      <td>q2</td>\n",
              "      <td>doc7</td>\n",
              "    </tr>\n",
              "  </tbody>\n",
              "</table>\n",
              "</div>"
            ],
            "text/plain": [
              "  qid   pid\n",
              "0  q1  doc2\n",
              "1  q1  doc3\n",
              "2  q2  doc7"
            ]
          },
          "metadata": {
            "tags": []
          },
          "execution_count": 5
        }
      ]
    },
    {
      "cell_type": "code",
      "metadata": {
        "id": "5zZVlQkQWa_h",
        "colab_type": "code",
        "colab": {
          "base_uri": "https://localhost:8080/",
          "height": 297
        },
        "outputId": "d01f9a9f-9902-4668-f21b-bdf4b953db11"
      },
      "source": [
        "df_pred"
      ],
      "execution_count": 6,
      "outputs": [
        {
          "output_type": "execute_result",
          "data": {
            "text/html": [
              "<div>\n",
              "<style scoped>\n",
              "    .dataframe tbody tr th:only-of-type {\n",
              "        vertical-align: middle;\n",
              "    }\n",
              "\n",
              "    .dataframe tbody tr th {\n",
              "        vertical-align: top;\n",
              "    }\n",
              "\n",
              "    .dataframe thead th {\n",
              "        text-align: right;\n",
              "    }\n",
              "</style>\n",
              "<table border=\"1\" class=\"dataframe\">\n",
              "  <thead>\n",
              "    <tr style=\"text-align: right;\">\n",
              "      <th></th>\n",
              "      <th>qid</th>\n",
              "      <th>pid</th>\n",
              "      <th>rank</th>\n",
              "    </tr>\n",
              "  </thead>\n",
              "  <tbody>\n",
              "    <tr>\n",
              "      <th>0</th>\n",
              "      <td>q1</td>\n",
              "      <td>doc1</td>\n",
              "      <td>1</td>\n",
              "    </tr>\n",
              "    <tr>\n",
              "      <th>1</th>\n",
              "      <td>q1</td>\n",
              "      <td>doc2</td>\n",
              "      <td>2</td>\n",
              "    </tr>\n",
              "    <tr>\n",
              "      <th>2</th>\n",
              "      <td>q1</td>\n",
              "      <td>doc3</td>\n",
              "      <td>3</td>\n",
              "    </tr>\n",
              "    <tr>\n",
              "      <th>3</th>\n",
              "      <td>q1</td>\n",
              "      <td>doc4</td>\n",
              "      <td>4</td>\n",
              "    </tr>\n",
              "    <tr>\n",
              "      <th>4</th>\n",
              "      <td>q2</td>\n",
              "      <td>doc4</td>\n",
              "      <td>1</td>\n",
              "    </tr>\n",
              "    <tr>\n",
              "      <th>5</th>\n",
              "      <td>q2</td>\n",
              "      <td>doc5</td>\n",
              "      <td>2</td>\n",
              "    </tr>\n",
              "    <tr>\n",
              "      <th>6</th>\n",
              "      <td>q2</td>\n",
              "      <td>doc6</td>\n",
              "      <td>3</td>\n",
              "    </tr>\n",
              "    <tr>\n",
              "      <th>7</th>\n",
              "      <td>q2</td>\n",
              "      <td>doc7</td>\n",
              "      <td>4</td>\n",
              "    </tr>\n",
              "  </tbody>\n",
              "</table>\n",
              "</div>"
            ],
            "text/plain": [
              "  qid   pid  rank\n",
              "0  q1  doc1     1\n",
              "1  q1  doc2     2\n",
              "2  q1  doc3     3\n",
              "3  q1  doc4     4\n",
              "4  q2  doc4     1\n",
              "5  q2  doc5     2\n",
              "6  q2  doc6     3\n",
              "7  q2  doc7     4"
            ]
          },
          "metadata": {
            "tags": []
          },
          "execution_count": 6
        }
      ]
    },
    {
      "cell_type": "code",
      "metadata": {
        "id": "vnnal10EWa_k",
        "colab_type": "code",
        "colab": {
          "base_uri": "https://localhost:8080/",
          "height": 34
        },
        "outputId": "25c90fac-3f5f-4ffc-b430-16b1c09e9abd"
      },
      "source": [
        "mrr_type1 = compute_metrics(df_true, df_pred)\n",
        "mrr_type1"
      ],
      "execution_count": 7,
      "outputs": [
        {
          "output_type": "execute_result",
          "data": {
            "text/plain": [
              "{'MRR @10': 0.39166666666666666, 'QueriesRanked': 2}"
            ]
          },
          "metadata": {
            "tags": []
          },
          "execution_count": 7
        }
      ]
    },
    {
      "cell_type": "markdown",
      "metadata": {
        "id": "XrQh32HBWa_m",
        "colab_type": "text"
      },
      "source": [
        "##### How it has come : \n",
        "(1/3 + 1/4 + 1/5)/2  = 0.39166666666"
      ]
    },
    {
      "cell_type": "code",
      "metadata": {
        "id": "nVLSbHDAWa_n",
        "colab_type": "code",
        "colab": {}
      },
      "source": [
        ""
      ],
      "execution_count": 0,
      "outputs": []
    },
    {
      "cell_type": "markdown",
      "metadata": {
        "id": "aVYwLfEiWa_p",
        "colab_type": "text"
      },
      "source": [
        "#### MRR-Type 2 Evaluation"
      ]
    },
    {
      "cell_type": "code",
      "metadata": {
        "id": "CRV_AjtDWa_p",
        "colab_type": "code",
        "colab": {
          "base_uri": "https://localhost:8080/",
          "height": 34
        },
        "outputId": "47493c75-0c32-4cae-d06e-975989cc3cb0"
      },
      "source": [
        "MAX_RANK = 4\n",
        "\n",
        "hits = pd.merge(df_true, df_pred,\n",
        "    on=[\"qid\", \"pid\"],\n",
        "    how=\"left\").fillna(MAX_RANK)\n",
        "\n",
        "mrr_type2 = (1 / hits.groupby('qid')['rank'].min()).mean()\n",
        "mrr_type2"
      ],
      "execution_count": 8,
      "outputs": [
        {
          "output_type": "execute_result",
          "data": {
            "text/plain": [
              "0.375"
            ]
          },
          "metadata": {
            "tags": []
          },
          "execution_count": 8
        }
      ]
    },
    {
      "cell_type": "code",
      "metadata": {
        "id": "jiSEnhBEWa_r",
        "colab_type": "code",
        "colab": {}
      },
      "source": [
        ""
      ],
      "execution_count": 0,
      "outputs": []
    },
    {
      "cell_type": "code",
      "metadata": {
        "id": "uRi8o_ZwWa_u",
        "colab_type": "code",
        "colab": {}
      },
      "source": [
        ""
      ],
      "execution_count": 0,
      "outputs": []
    }
  ]
}