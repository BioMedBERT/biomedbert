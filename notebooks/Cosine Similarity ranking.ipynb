{
 "cells": [
  {
   "cell_type": "code",
   "execution_count": 9,
   "metadata": {},
   "outputs": [],
   "source": [
    "import pandas as pd\n",
    "import numpy as np\n",
    "import matplotlib.pyplot as plt"
   ]
  },
  {
   "cell_type": "code",
   "execution_count": 2,
   "metadata": {},
   "outputs": [],
   "source": [
    "golden = pd.DataFrame.from_dict([\n",
    "    {'query': 'q1', 'document': 'doc2'},\n",
    "    {'query': 'q1', 'document': 'doc3'},\n",
    "    {'query': 'q2', 'document': 'doc6'},\n",
    "])\n",
    "\n",
    "results = pd.DataFrame.from_dict([\n",
    "    {'query': 'q1', 'document': 'doc1', 'rank': 1},\n",
    "    {'query': 'q1', 'document': 'doc2', 'rank': 2},\n",
    "    {'query': 'q1', 'document': 'doc3', 'rank': 3},\n",
    "    {'query': 'q2', 'document': 'doc4', 'rank': 1},\n",
    "    {'query': 'q2', 'document': 'doc5', 'rank': 2},\n",
    "    {'query': 'q2', 'document': 'doc6', 'rank': 3},\n",
    "])"
   ]
  },
  {
   "cell_type": "code",
   "execution_count": 69,
   "metadata": {},
   "outputs": [
    {
     "data": {
      "image/png": "[encoded data removed]",
      "text/plain": [
       "<Figure size 432x432 with 1 Axes>"
      ]
     },
     "metadata": {
      "needs_background": "light"
     },
     "output_type": "display_data"
    }
   ],
   "source": [
    "def fake_vector(degrees):\n",
    "  radians = degrees / 180 * np.pi\n",
    "  x = np.cos(radians)\n",
    "  y = np.sin(radians)\n",
    "  return np.array((x, y))\n",
    "\n",
    "ts = np.arange(90)\n",
    "pos = np.array([fake_vector(t) for t in ts])\n",
    "plt.figure(figsize=(6, 6))\n",
    "plt.plot(pos[:, 0], pos[:, 1], 'o')\n",
    "plt.xlim(-1, 1)\n",
    "plt.ylim(-1, 1);"
   ]
  },
  {
   "cell_type": "code",
   "execution_count": 25,
   "metadata": {},
   "outputs": [],
   "source": [
    "from sklearn.metrics.pairwise import cosine_similarity"
   ]
  },
  {
   "cell_type": "code",
   "execution_count": 32,
   "metadata": {},
   "outputs": [
    {
     "data": {
      "text/plain": [
       "array([[0.70710678]])"
      ]
     },
     "execution_count": 32,
     "metadata": {},
     "output_type": "execute_result"
    }
   ],
   "source": [
    "cosine_similarity([[1, 0]], [[1, 1]])"
   ]
  },
  {
   "cell_type": "code",
   "execution_count": 33,
   "metadata": {},
   "outputs": [
    {
     "data": {
      "text/plain": [
       "array([[0.47535482]])"
      ]
     },
     "execution_count": 33,
     "metadata": {},
     "output_type": "execute_result"
    }
   ],
   "source": [
    "cosine_similarity([[1, 0]], [[np.cos(1), 1]])"
   ]
  },
  {
   "cell_type": "code",
   "execution_count": 34,
   "metadata": {},
   "outputs": [
    {
     "data": {
      "text/plain": [
       "array([[0.54030231]])"
      ]
     },
     "execution_count": 34,
     "metadata": {},
     "output_type": "execute_result"
    }
   ],
   "source": [
    "cosine_similarity([[1, 0]], [[np.cos(1), np.sin(1)]])"
   ]
  },
  {
   "cell_type": "code",
   "execution_count": 50,
   "metadata": {},
   "outputs": [
    {
     "data": {
      "image/png": "[encoded data removed]",
      "text/plain": [
       "<Figure size 432x432 with 1 Axes>"
      ]
     },
     "metadata": {
      "needs_background": "light"
     },
     "output_type": "display_data"
    }
   ],
   "source": [
    "points =[\n",
    "  [1, 0],\n",
    "  [1, 1],\n",
    "  [np.cos(1), 1],\n",
    "  [np.cos(1), np.sin(1)]\n",
    "]\n",
    "\n",
    "\n",
    "plt.figure(figsize=(6, 6))\n",
    "for p in points:\n",
    "  plt.arrow(0, 0, p[0], p[1])\n",
    "plt.xlim(-2, 2)\n",
    "plt.ylim(-2, 2);"
   ]
  },
  {
   "cell_type": "code",
   "execution_count": 82,
   "metadata": {},
   "outputs": [],
   "source": [
    "queries = np.array([fake_vector(t) for t in np.arange(90, step=10)])\n",
    "vectors = np.array([fake_vector(t) for t in np.arange(90)])"
   ]
  },
  {
   "cell_type": "code",
   "execution_count": 86,
   "metadata": {},
   "outputs": [],
   "source": [
    "distance_matrix = cosine_similarity(queries, vectors)"
   ]
  },
  {
   "cell_type": "code",
   "execution_count": 87,
   "metadata": {},
   "outputs": [
    {
     "data": {
      "text/plain": [
       "(9, 90)"
      ]
     },
     "execution_count": 87,
     "metadata": {},
     "output_type": "execute_result"
    }
   ],
   "source": [
    "distance_matrix.shape"
   ]
  },
  {
   "cell_type": "code",
   "execution_count": 88,
   "metadata": {},
   "outputs": [
    {
     "data": {
      "text/plain": [
       "<matplotlib.image.AxesImage at 0x1a23c7f810>"
      ]
     },
     "execution_count": 88,
     "metadata": {},
     "output_type": "execute_result"
    },
    {
     "data": {
      "image/png": "[encoded data removed]",
      "text/plain": [
       "<Figure size 432x288 with 1 Axes>"
      ]
     },
     "metadata": {
      "needs_background": "light"
     },
     "output_type": "display_data"
    }
   ],
   "source": [
    "plt.imshow(distance_matrix)"
   ]
  },
  {
   "cell_type": "code",
   "execution_count": 92,
   "metadata": {},
   "outputs": [
    {
     "data": {
      "text/plain": [
       "array([ 0, 10, 20, 30, 40, 50, 60, 70, 80])"
      ]
     },
     "execution_count": 92,
     "metadata": {},
     "output_type": "execute_result"
    }
   ],
   "source": [
    "distance_matrix.argmax(axis=1)"
   ]
  },
  {
   "cell_type": "code",
   "execution_count": null,
   "metadata": {},
   "outputs": [],
   "source": [
    "np.argsort()"
   ]
  },
  {
   "cell_type": "code",
   "execution_count": 116,
   "metadata": {},
   "outputs": [
    {
     "data": {
      "text/plain": [
       "array([10,  9, 11,  8, 12,  7, 13,  6, 14,  5, 15,  4, 16, 17,  3, 18,  2,\n",
       "       19,  1, 20,  0, 21, 22, 23, 24, 25, 26, 27, 28, 29, 30, 31, 32, 33,\n",
       "       34, 35, 36, 37, 38, 39, 40, 41, 42, 43, 44, 45, 46, 47, 48, 49, 50,\n",
       "       51, 52, 53, 54, 55, 56, 57, 58, 59, 60, 61, 62, 63, 64, 65, 66, 67,\n",
       "       68, 69, 70, 71, 72, 73, 74, 75, 76, 77, 78, 79, 80, 81, 82, 83, 84,\n",
       "       85, 86, 87, 88, 89])"
      ]
     },
     "execution_count": 116,
     "metadata": {},
     "output_type": "execute_result"
    }
   ],
   "source": [
    "distance_matrix[1].argsort()[::-1]"
   ]
  },
  {
   "cell_type": "code",
   "execution_count": 113,
   "metadata": {},
   "outputs": [
    {
     "data": {
      "text/plain": [
       "[<matplotlib.lines.Line2D at 0x1a2419d810>]"
      ]
     },
     "execution_count": 113,
     "metadata": {},
     "output_type": "execute_result"
    },
    {
     "data": {
      "image/png": "[encoded data removed]",
      "text/plain": [
       "<Figure size 432x288 with 1 Axes>"
      ]
     },
     "metadata": {
      "needs_background": "light"
     },
     "output_type": "display_data"
    }
   ],
   "source": [
    "plt.plot(distance_matrix[1])"
   ]
  },
  {
   "cell_type": "code",
   "execution_count": 122,
   "metadata": {},
   "outputs": [],
   "source": [
    "sorted_index = np.vstack([q.argsort()[::-1] for q in distance_matrix])"
   ]
  },
  {
   "cell_type": "code",
   "execution_count": 124,
   "metadata": {},
   "outputs": [
    {
     "data": {
      "text/plain": [
       "array([[ 0,  1,  2,  3,  4,  5,  6,  7,  8,  9, 10, 11, 12, 13, 14, 15,\n",
       "        16, 17, 18, 19, 20, 21, 22, 23, 24, 25, 26, 27, 28, 29, 30, 31,\n",
       "        32, 33, 34, 35, 36, 37, 38, 39, 40, 41, 42, 43, 44, 45, 46, 47,\n",
       "        48, 49, 50, 51, 52, 53, 54, 55, 56, 57, 58, 59, 60, 61, 62, 63,\n",
       "        64, 65, 66, 67, 68, 69, 70, 71, 72, 73, 74, 75, 76, 77, 78, 79,\n",
       "        80, 81, 82, 83, 84, 85, 86, 87, 88, 89],\n",
       "       [10,  9, 11,  8, 12,  7, 13,  6, 14,  5, 15,  4, 16, 17,  3, 18,\n",
       "         2, 19,  1, 20,  0, 21, 22, 23, 24, 25, 26, 27, 28, 29, 30, 31,\n",
       "        32, 33, 34, 35, 36, 37, 38, 39, 40, 41, 42, 43, 44, 45, 46, 47,\n",
       "        48, 49, 50, 51, 52, 53, 54, 55, 56, 57, 58, 59, 60, 61, 62, 63,\n",
       "        64, 65, 66, 67, 68, 69, 70, 71, 72, 73, 74, 75, 76, 77, 78, 79,\n",
       "        80, 81, 82, 83, 84, 85, 86, 87, 88, 89],\n",
       "       [20, 21, 19, 18, 22, 17, 23, 24, 16, 15, 25, 14, 26, 13, 27, 12,\n",
       "        28, 29, 11, 10, 30,  9, 31,  8, 32,  7, 33,  6, 34, 35,  5, 36,\n",
       "         4,  3, 37,  2, 38, 39,  1, 40,  0, 41, 42, 43, 44, 45, 46, 47,\n",
       "        48, 49, 50, 51, 52, 53, 54, 55, 56, 57, 58, 59, 60, 61, 62, 63,\n",
       "        64, 65, 66, 67, 68, 69, 70, 71, 72, 73, 74, 75, 76, 77, 78, 79,\n",
       "        80, 81, 82, 83, 84, 85, 86, 87, 88, 89],\n",
       "       [30, 31, 29, 32, 28, 27, 33, 34, 26, 35, 25, 36, 24, 37, 23, 22,\n",
       "        38, 21, 39, 20, 40, 19, 41, 18, 42, 17, 43, 44, 16, 15, 45, 14,\n",
       "        46, 47, 13, 12, 48, 49, 11, 10, 50, 51,  9,  8, 52, 53,  7,  6,\n",
       "        54,  5, 55,  4, 56,  3, 57,  2, 58, 59,  1,  0, 60, 61, 62, 63,\n",
       "        64, 65, 66, 67, 68, 69, 70, 71, 72, 73, 74, 75, 76, 77, 78, 79,\n",
       "        80, 81, 82, 83, 84, 85, 86, 87, 88, 89],\n",
       "       [40, 39, 41, 42, 38, 43, 37, 36, 44, 35, 45, 34, 46, 47, 33, 32,\n",
       "        48, 49, 31, 30, 50, 29, 51, 52, 28, 53, 27, 26, 54, 25, 55, 24,\n",
       "        56, 23, 57, 22, 58, 59, 21, 20, 60, 19, 61, 18, 62, 17, 63, 16,\n",
       "        64, 15, 65, 14, 66, 13, 67, 68, 12, 11, 69, 10, 70,  9, 71,  8,\n",
       "        72,  7, 73,  6, 74,  5, 75,  4, 76, 77,  3,  2, 78,  1, 79,  0,\n",
       "        80, 81, 82, 83, 84, 85, 86, 87, 88, 89],\n",
       "       [50, 49, 51, 48, 52, 47, 53, 54, 46, 55, 45, 44, 56, 43, 57, 42,\n",
       "        58, 59, 41, 40, 60, 39, 61, 38, 62, 63, 37, 64, 36, 35, 65, 66,\n",
       "        34, 67, 33, 68, 32, 31, 69, 70, 30, 29, 71, 72, 28, 73, 27, 26,\n",
       "        74, 25, 75, 24, 76, 77, 23, 22, 78, 79, 21, 20, 80, 19, 81, 18,\n",
       "        82, 17, 83, 84, 16, 15, 85, 14, 86, 87, 13, 88, 12, 11, 89, 10,\n",
       "         9,  8,  7,  6,  5,  4,  3,  2,  1,  0],\n",
       "       [60, 61, 59, 62, 58, 57, 63, 56, 64, 55, 65, 66, 54, 53, 67, 52,\n",
       "        68, 51, 69, 50, 70, 71, 49, 72, 48, 47, 73, 46, 74, 45, 75, 44,\n",
       "        76, 43, 77, 78, 42, 41, 79, 80, 40, 39, 81, 82, 38, 37, 83, 36,\n",
       "        84, 35, 85, 34, 86, 87, 33, 88, 32, 31, 89, 30, 29, 28, 27, 26,\n",
       "        25, 24, 23, 22, 21, 20, 19, 18, 17, 16, 15, 14, 13, 12, 11, 10,\n",
       "         9,  8,  7,  6,  5,  4,  3,  2,  1,  0],\n",
       "       [70, 69, 71, 72, 68, 67, 73, 74, 66, 75, 65, 64, 76, 77, 63, 78,\n",
       "        62, 79, 61, 80, 60, 59, 81, 58, 82, 83, 57, 56, 84, 85, 55, 54,\n",
       "        86, 87, 53, 52, 88, 51, 89, 50, 49, 48, 47, 46, 45, 44, 43, 42,\n",
       "        41, 40, 39, 38, 37, 36, 35, 34, 33, 32, 31, 30, 29, 28, 27, 26,\n",
       "        25, 24, 23, 22, 21, 20, 19, 18, 17, 16, 15, 14, 13, 12, 11, 10,\n",
       "         9,  8,  7,  6,  5,  4,  3,  2,  1,  0],\n",
       "       [80, 79, 81, 82, 78, 83, 77, 84, 76, 85, 75, 86, 74, 87, 73, 72,\n",
       "        88, 71, 89, 70, 69, 68, 67, 66, 65, 64, 63, 62, 61, 60, 59, 58,\n",
       "        57, 56, 55, 54, 53, 52, 51, 50, 49, 48, 47, 46, 45, 44, 43, 42,\n",
       "        41, 40, 39, 38, 37, 36, 35, 34, 33, 32, 31, 30, 29, 28, 27, 26,\n",
       "        25, 24, 23, 22, 21, 20, 19, 18, 17, 16, 15, 14, 13, 12, 11, 10,\n",
       "         9,  8,  7,  6,  5,  4,  3,  2,  1,  0]])"
      ]
     },
     "execution_count": 124,
     "metadata": {},
     "output_type": "execute_result"
    }
   ],
   "source": [
    "sorted_index"
   ]
  },
  {
   "cell_type": "code",
   "execution_count": null,
   "metadata": {},
   "outputs": [],
   "source": []
  }
 ],
 "metadata": {
  "kernelspec": {
   "display_name": "Python 3",
   "language": "python",
   "name": "python3"
  },
  "language_info": {
   "codemirror_mode": {
    "name": "ipython",
    "version": 3
   },
   "file_extension": ".py",
   "mimetype": "text/x-python",
   "name": "python",
   "nbconvert_exporter": "python",
   "pygments_lexer": "ipython3",
   "version": "3.7.7"
  }
 },
 "nbformat": 4,
 "nbformat_minor": 4
}
