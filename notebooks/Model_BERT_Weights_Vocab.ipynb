{
 "cells": [
  {
   "cell_type": "markdown",
   "metadata": {
    "colab_type": "text",
    "id": "E08w9hc0TAbI"
   },
   "source": [
    "# BioMedBERT - BREATHE using BERT Weights and Vocab"
   ]
  },
  {
   "cell_type": "code",
   "execution_count": 1,
   "metadata": {},
   "outputs": [],
   "source": [
    "# !sudo pip install tensorflow==1.15"
   ]
  },
  {
   "cell_type": "code",
   "execution_count": 1,
   "metadata": {},
   "outputs": [],
   "source": [
    "import os\n",
    "import sys\n",
    "import json\n",
    "import tensorflow as tf"
   ]
  },
  {
   "cell_type": "code",
   "execution_count": 2,
   "metadata": {},
   "outputs": [
    {
     "data": {
      "text/plain": [
       "'1.15.0'"
      ]
     },
     "execution_count": 2,
     "metadata": {},
     "output_type": "execute_result"
    }
   ],
   "source": [
    "tf.__version__"
   ]
  },
  {
   "cell_type": "markdown",
   "metadata": {
    "colab_type": "text",
    "id": "0uz-18dZ2tDH"
   },
   "source": [
    "Save model assets and checkpoints to GCS"
   ]
  },
  {
   "cell_type": "code",
   "execution_count": 3,
   "metadata": {
    "colab": {},
    "colab_type": "code",
    "id": "LMZKDdyL1pb3"
   },
   "outputs": [],
   "source": [
    "BUCKET_NAME = \"ekaba-assets\"\n",
    "MODEL_DIR = \"biomedbert_base_bert_weights_and_vocab\"\n",
    "tf.io.gfile.mkdir(MODEL_DIR)"
   ]
  },
  {
   "cell_type": "markdown",
   "metadata": {
    "colab_type": "text",
    "id": "2mVR9qBK3V5j"
   },
   "source": [
    "Hyparameter configuration for BERT BASE"
   ]
  },
  {
   "cell_type": "code",
   "execution_count": 4,
   "metadata": {},
   "outputs": [],
   "source": [
    "# VOC_SIZE = 32000\n",
    "# VOC_FNAME = \"biomedbert-8M.txt\""
   ]
  },
  {
   "cell_type": "code",
   "execution_count": 5,
   "metadata": {
    "colab": {},
    "colab_type": "code",
    "id": "oIibj7MY3TH5"
   },
   "outputs": [],
   "source": [
    "# # use this for BERT-base\n",
    "\n",
    "# bert_base_config = {\n",
    "#     \"attention_probs_dropout_prob\": 0.1,\n",
    "#     \"directionality\": \"bidi\",\n",
    "#     \"hidden_act\": \"gelu\",\n",
    "#     \"hidden_dropout_prob\": 0.1,\n",
    "#     \"hidden_size\": 768,\n",
    "#     \"initializer_range\": 0.02,\n",
    "#     \"intermediate_size\": 3072,\n",
    "#     \"max_position_embeddings\": 512,\n",
    "#     \"num_attention_heads\": 12,\n",
    "#     \"num_hidden_layers\": 12,\n",
    "#     \"pooler_fc_size\": 768,\n",
    "#     \"pooler_num_attention_heads\": 12,\n",
    "#     \"pooler_num_fc_layers\": 3,\n",
    "#     \"pooler_size_per_head\": 128,\n",
    "#     \"pooler_type\": \"first_token_transform\",\n",
    "#     \"type_vocab_size\": 2,\n",
    "#     \"vocab_size\": VOC_SIZE\n",
    "# }\n",
    "\n",
    "# with open(\"{}/bert_config.json\".format(MODEL_DIR), \"w\") as fo:\n",
    "#     json.dump(bert_base_config, fo, indent=2)"
   ]
  },
  {
   "cell_type": "code",
   "execution_count": 6,
   "metadata": {},
   "outputs": [],
   "source": [
    "# update vocab\n",
    "# !cp ../vocabulary/full_text/biomedbert-8M.txt \\\n",
    "# biomedbert_base_bert_weights_breathe_vocab/biomedbert-8M.txt"
   ]
  },
  {
   "cell_type": "code",
   "execution_count": 7,
   "metadata": {},
   "outputs": [],
   "source": [
    "# %%bash\n",
    "# cd biomedbert_base_bert_weights_and_vocab\n",
    "# wget https://storage.googleapis.com/bert_models/2019_05_30/wwm_cased_L-24_H-1024_A-16.zip"
   ]
  },
  {
   "cell_type": "code",
   "execution_count": 8,
   "metadata": {},
   "outputs": [],
   "source": [
    "# %%bash\n",
    "# cd biomedbert_base_bert_weights_and_vocab\n",
    "# unzip wwm_cased_L-24_H-1024_A-16.zip"
   ]
  },
  {
   "cell_type": "code",
   "execution_count": 9,
   "metadata": {},
   "outputs": [],
   "source": [
    "# %%bash\n",
    "# mv biomedbert_base_bert_weights_and_vocab/wwm_cased_L-24_H-1024_A-16/* biomedbert_base_bert_weights_and_vocab"
   ]
  },
  {
   "cell_type": "code",
   "execution_count": 10,
   "metadata": {},
   "outputs": [],
   "source": [
    "# !rm -rf biomedbert_base_bert_weights_and_vocab/wwm_cased_L-24_H-1024_A-16.zip"
   ]
  },
  {
   "cell_type": "code",
   "execution_count": 14,
   "metadata": {},
   "outputs": [
    {
     "name": "stdout",
     "output_type": "stream",
     "text": [
      "4.0K\tbiomedbert_base_bert_weights_and_vocab/bert_config.json\n",
      "1.3G\tbiomedbert_base_bert_weights_and_vocab/bert_model.ckpt.data-00000-of-00001\n",
      "20K\tbiomedbert_base_bert_weights_and_vocab/bert_model.ckpt.index\n",
      "1.8M\tbiomedbert_base_bert_weights_and_vocab/bert_model.ckpt.meta\n",
      "212K\tbiomedbert_base_bert_weights_and_vocab/vocab.txt\n",
      "4.0K\tbiomedbert_base_bert_weights_and_vocab/wwm_cased_L-24_H-1024_A-16\n"
     ]
    }
   ],
   "source": [
    "# !du biomedbert_base_bert_weights_and_vocab/* -h"
   ]
  },
  {
   "cell_type": "code",
   "execution_count": 11,
   "metadata": {
    "colab": {
     "base_uri": "https://localhost:8080/",
     "height": 204
    },
    "colab_type": "code",
    "id": "2QHoAJs63PrO",
    "outputId": "c98a8bcb-9ba0-43d1-9fe7-4df5f80419df"
   },
   "outputs": [],
   "source": [
    "# # move to GCS\n",
    "# !gsutil -m cp -r $MODEL_DIR gs://ekaba-assets/"
   ]
  },
  {
   "cell_type": "code",
   "execution_count": 14,
   "metadata": {},
   "outputs": [],
   "source": [
    "# tf.io.gfile.glob('gs://ekaba-assets/pre_trained_data_full_biomed/*')"
   ]
  },
  {
   "cell_type": "code",
   "execution_count": 12,
   "metadata": {},
   "outputs": [],
   "source": [
    "init_checkpoint = tf.train.latest_checkpoint('gs://ekaba-assets/biomedbert_base_bert_weights_and_vocab')"
   ]
  },
  {
   "cell_type": "code",
   "execution_count": 13,
   "metadata": {},
   "outputs": [
    {
     "data": {
      "text/plain": [
       "'gs://ekaba-assets/biomedbert_base_bert_weights_and_vocab/model.ckpt-68000'"
      ]
     },
     "execution_count": 13,
     "metadata": {},
     "output_type": "execute_result"
    }
   ],
   "source": [
    "init_checkpoint"
   ]
  },
  {
   "cell_type": "code",
   "execution_count": 17,
   "metadata": {},
   "outputs": [
    {
     "name": "stdout",
     "output_type": "stream",
     "text": [
      "Process is interrupted.\n"
     ]
    }
   ],
   "source": [
    "%%bash\n",
    "export INPUT_FILE=gs://ekaba-assets/pre_trained_breathe_bert_vocab/shard_*\n",
    "export OUTPUT_DIR=gs://ekaba-assets/biomedbert_base_bert_weights_and_vocab\n",
    "export BERT_BASE_DIR=gs://ekaba-assets/biomedbert_base_bert_weights_and_vocab\n",
    "\n",
    "python3 bert/run_pretraining.py \\\n",
    "  --input_file=\"$INPUT_FILE\" \\\n",
    "  --output_dir=\"$OUTPUT_DIR\" \\\n",
    "  --do_train=True \\\n",
    "  --do_eval=True \\\n",
    "  --bert_config_file=\"$BERT_BASE_DIR\"/bert_config.json \\\n",
    "  --init_checkpoint=\"$BERT_BASE_DIR\"/bert_model.ckpt \\\n",
    "  --train_batch_size=256 \\\n",
    "  --eval_batch_size=256 \\\n",
    "  --max_seq_length=128 \\\n",
    "  --max_predictions_per_seq=20 \\\n",
    "  --num_train_steps=10000000 \\\n",
    "  --num_warmup_steps=1000 \\\n",
    "  --learning_rate=1e-5 \\\n",
    "  --use_tpu=true \\\n",
    "  --tpu_name=for-shweta-tpu \\\n",
    "  --tpu_zone=europe-west4-a \\\n",
    "  --gcp_project=ai-vs-covid19 \\\n",
    "  --num_tpu_cores=128"
   ]
  },
  {
   "cell_type": "code",
   "execution_count": null,
   "metadata": {},
   "outputs": [],
   "source": []
  }
 ],
 "metadata": {
  "colab": {
   "collapsed_sections": [],
   "machine_shape": "hm",
   "name": "BioMedBERT-Data-Analysis.ipynb",
   "provenance": []
  },
  "kernelspec": {
   "display_name": "Python 3",
   "language": "python",
   "name": "python3"
  },
  "language_info": {
   "codemirror_mode": {
    "name": "ipython",
    "version": 3
   },
   "file_extension": ".py",
   "mimetype": "text/x-python",
   "name": "python",
   "nbconvert_exporter": "python",
   "pygments_lexer": "ipython3",
   "version": "3.5.3"
  }
 },
 "nbformat": 4,
 "nbformat_minor": 4
}
